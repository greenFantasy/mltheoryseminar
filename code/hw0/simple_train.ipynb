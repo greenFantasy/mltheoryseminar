{
 "cells": [
  {
   "cell_type": "code",
   "execution_count": 1,
   "metadata": {},
   "outputs": [
    {
     "name": "stdout",
     "output_type": "stream",
     "text": [
      "Requirement already satisfied: tqdm in /usr/local/lib/python3.6/dist-packages (4.56.0)\n",
      "\u001b[33mWARNING: You are using pip version 21.0; however, version 21.0.1 is available.\n",
      "You should consider upgrading via the '/usr/bin/python3.6 -m pip install --upgrade pip' command.\u001b[0m\n",
      "Requirement already satisfied: torchvision in /usr/local/lib/python3.6/dist-packages (0.4.0a0+d31eafa)\n",
      "Requirement already satisfied: pillow>=4.1.1 in /usr/local/lib/python3.6/dist-packages (from torchvision) (6.1.0)\n",
      "Requirement already satisfied: torch in /usr/local/lib/python3.6/dist-packages (from torchvision) (1.1.0)\n",
      "Requirement already satisfied: numpy in /usr/local/lib/python3.6/dist-packages (from torchvision) (1.17.0)\n",
      "Requirement already satisfied: six in /usr/local/lib/python3.6/dist-packages (from torchvision) (1.12.0)\n",
      "\u001b[33mWARNING: You are using pip version 21.0; however, version 21.0.1 is available.\n",
      "You should consider upgrading via the '/usr/bin/python3.6 -m pip install --upgrade pip' command.\u001b[0m\n"
     ]
    }
   ],
   "source": [
    "# install: tqdm (progress bars)\n",
    "!pip install tqdm\n",
    "!pip install torchvision\n",
    "\n",
    "import torch\n",
    "import torch.nn as nn\n",
    "import numpy as np\n",
    "from tqdm.auto import tqdm\n",
    "from torch.utils.data import DataLoader, Dataset, TensorDataset\n",
    "import torchvision.datasets as ds\n",
    "import matplotlib.pyplot as plt"
   ]
  },
  {
   "cell_type": "markdown",
   "metadata": {},
   "source": [
    "## Load the data (CIFAR-10)"
   ]
  },
  {
   "cell_type": "code",
   "execution_count": 2,
   "metadata": {},
   "outputs": [
    {
     "name": "stdout",
     "output_type": "stream",
     "text": [
      "Files already downloaded and verified\n",
      "Files already downloaded and verified\n"
     ]
    }
   ],
   "source": [
    "def load_cifar(datadir='./data_cache'): # will download ~400MB of data into this dir. Change the dir if neccesary. If using paperspace, you can make this /storage\n",
    "    train_ds = ds.CIFAR10(root=datadir, train=True,\n",
    "                           download=True, transform=None)\n",
    "    test_ds = ds.CIFAR10(root=datadir, train=False,\n",
    "                          download=True, transform=None)\n",
    "\n",
    "    def to_xy(dataset):\n",
    "        X = torch.Tensor(np.transpose(dataset.data, (0, 3, 1, 2))).float() / 255.0  # [0, 1]\n",
    "        Y = torch.Tensor(np.array(dataset.targets)).long()\n",
    "        return X, Y\n",
    "\n",
    "    X_tr, Y_tr = to_xy(train_ds)\n",
    "    X_te, Y_te = to_xy(test_ds)\n",
    "    return X_tr, Y_tr, X_te, Y_te\n",
    "\n",
    "def make_loader(dataset, batch_size=128):\n",
    "    return torch.utils.data.DataLoader(dataset, batch_size=batch_size,\n",
    "            shuffle=True, num_workers=4, pin_memory=True)\n",
    "\n",
    "X_tr, Y_tr, X_te, Y_te = load_cifar()\n",
    "train_dl = make_loader(TensorDataset(X_tr, Y_tr))\n",
    "test_dl = make_loader(TensorDataset(X_te, Y_te))"
   ]
  },
  {
   "cell_type": "markdown",
   "metadata": {},
   "source": [
    "## Training helper functions"
   ]
  },
  {
   "cell_type": "code",
   "execution_count": 3,
   "metadata": {},
   "outputs": [],
   "source": [
    "def train_epoch(model, train_dl : DataLoader, opt, k = 50, printer = True):\n",
    "    ''' Trains model for one epoch on the provided dataloader, with optimizer opt. Logs stats every k batches.'''\n",
    "    loss_func = nn.CrossEntropyLoss()\n",
    "    model.train()\n",
    "    model.cuda()\n",
    "\n",
    "    netLoss = 0.0\n",
    "    nCorrect = 0\n",
    "    nTotal = 0\n",
    "    iterator = tqdm(train_dl) if printer else train_dl\n",
    "    for i, (xB, yB) in enumerate(iterator):\n",
    "        opt.zero_grad()\n",
    "        xB, yB = xB.cuda(), yB.cuda()\n",
    "        outputs = model(xB)\n",
    "        loss = loss_func(outputs, yB)\n",
    "        loss.backward()\n",
    "        opt.step()\n",
    "        netLoss += loss.item() * len(xB)\n",
    "        with torch.no_grad():\n",
    "            _, preds = torch.max(outputs, dim=1)\n",
    "            nCorrect += (preds == yB).float().sum()\n",
    "            nTotal += preds.size(0)\n",
    "        \n",
    "        if (i+1) % k == 0:\n",
    "            train_acc = nCorrect/nTotal\n",
    "            avg_loss = netLoss/nTotal\n",
    "            print(f'\\t [Batch {i+1} / {len(train_dl)}] Train Loss: {avg_loss:.3f} \\t Train Acc: {train_acc:.3f}')\n",
    "  \n",
    "    train_acc = nCorrect/nTotal\n",
    "    avg_loss = netLoss/nTotal\n",
    "    return avg_loss, train_acc\n",
    "\n",
    "\n",
    "def evaluate(model, test_dl, loss_func=nn.CrossEntropyLoss().cuda()):\n",
    "    ''' Returns loss, acc'''\n",
    "    model.eval()\n",
    "    model.cuda()\n",
    "    nCorrect = 0.0\n",
    "    nTotal = 0\n",
    "    net_loss = 0.0\n",
    "    with torch.no_grad():\n",
    "        for (xb, yb) in test_dl:\n",
    "            xb, yb = xb.cuda(), yb.cuda()\n",
    "            outputs = model(xb)\n",
    "            loss = len(xb) * loss_func(outputs, yb)\n",
    "            _, preds = torch.max(outputs, dim=1)\n",
    "            nCorrect += (preds == yb).float().sum()\n",
    "            net_loss += loss\n",
    "            nTotal += preds.size(0)\n",
    "\n",
    "    acc = nCorrect.cpu().item() / float(nTotal)\n",
    "    loss = net_loss.cpu().item() / float(nTotal)\n",
    "    return loss, acc"
   ]
  },
  {
   "cell_type": "code",
   "execution_count": 4,
   "metadata": {},
   "outputs": [],
   "source": [
    "## Define model"
   ]
  },
  {
   "cell_type": "code",
   "execution_count": 4,
   "metadata": {},
   "outputs": [],
   "source": [
    "## 5-Layer CNN for CIFAR\n",
    "## This is the Myrtle5 network by David Page (https://myrtle.ai/learn/how-to-train-your-resnet-4-architecture/)\n",
    "\n",
    "class Flatten(nn.Module):\n",
    "    def forward(self, x): return x.view(x.size(0), x.size(1))\n",
    "\n",
    "def make_cnn(c=64, num_classes=10):\n",
    "    ''' Returns a 5-layer CNN with width parameter c. '''\n",
    "    return nn.Sequential(\n",
    "        # Layer 0\n",
    "        nn.Conv2d(3, c, kernel_size=3, stride=1,\n",
    "                  padding=1, bias=True),\n",
    "        nn.BatchNorm2d(c),\n",
    "        nn.ReLU(),\n",
    "\n",
    "        # Layer 1\n",
    "        nn.Conv2d(c, c*2, kernel_size=3,\n",
    "                  stride=1, padding=1, bias=True),\n",
    "        nn.BatchNorm2d(c*2),\n",
    "        nn.ReLU(),\n",
    "        nn.MaxPool2d(2),\n",
    "\n",
    "        # Layer 2\n",
    "        nn.Conv2d(c*2, c*4, kernel_size=3,\n",
    "                  stride=1, padding=1, bias=True),\n",
    "        nn.BatchNorm2d(c*4),\n",
    "        nn.ReLU(),\n",
    "        nn.MaxPool2d(2),\n",
    "\n",
    "        # Layer 3\n",
    "        nn.Conv2d(c*4, c*8, kernel_size=3,\n",
    "                  stride=1, padding=1, bias=True),\n",
    "        nn.BatchNorm2d(c*8),\n",
    "        nn.ReLU(),\n",
    "        nn.MaxPool2d(2),\n",
    "\n",
    "        # Layer 4\n",
    "        nn.MaxPool2d(4),\n",
    "        Flatten(),\n",
    "        nn.Linear(c*8, num_classes, bias=True)\n",
    "    )"
   ]
  },
  {
   "cell_type": "code",
   "execution_count": 5,
   "metadata": {},
   "outputs": [],
   "source": [
    "## Train"
   ]
  },
  {
   "cell_type": "code",
   "execution_count": 5,
   "metadata": {},
   "outputs": [
    {
     "name": "stdout",
     "output_type": "stream",
     "text": [
      "Starting Epoch 0\n"
     ]
    },
    {
     "data": {
      "application/vnd.jupyter.widget-view+json": {
       "model_id": "ee850164eed44d6abe42b2f823f5264a",
       "version_major": 2,
       "version_minor": 0
      },
      "text/plain": [
       "  0%|          | 0/391 [00:00<?, ?it/s]"
      ]
     },
     "metadata": {},
     "output_type": "display_data"
    },
    {
     "name": "stdout",
     "output_type": "stream",
     "text": [
      "\t [Batch 50 / 391] Train Loss: 5.476 \t Train Acc: 0.166\n",
      "\t [Batch 100 / 391] Train Loss: 3.826 \t Train Acc: 0.190\n",
      "\t [Batch 150 / 391] Train Loss: 3.230 \t Train Acc: 0.213\n",
      "\t [Batch 200 / 391] Train Loss: 2.906 \t Train Acc: 0.231\n",
      "\t [Batch 250 / 391] Train Loss: 2.691 \t Train Acc: 0.250\n",
      "\t [Batch 300 / 391] Train Loss: 2.539 \t Train Acc: 0.265\n",
      "\t [Batch 350 / 391] Train Loss: 2.418 \t Train Acc: 0.281\n",
      "Epoch 0:\t Train Loss: 2.338 \t Train Acc: 0.293\t Test Acc: 0.351\n",
      "Starting Epoch 1\n"
     ]
    },
    {
     "data": {
      "application/vnd.jupyter.widget-view+json": {
       "model_id": "f4617456372a4f93b70eb8844c501d76",
       "version_major": 2,
       "version_minor": 0
      },
      "text/plain": [
       "  0%|          | 0/391 [00:00<?, ?it/s]"
      ]
     },
     "metadata": {},
     "output_type": "display_data"
    },
    {
     "name": "stdout",
     "output_type": "stream",
     "text": [
      "\t [Batch 50 / 391] Train Loss: 1.564 \t Train Acc: 0.423\n",
      "\t [Batch 100 / 391] Train Loss: 1.533 \t Train Acc: 0.439\n",
      "\t [Batch 150 / 391] Train Loss: 1.514 \t Train Acc: 0.448\n",
      "\t [Batch 200 / 391] Train Loss: 1.491 \t Train Acc: 0.457\n",
      "\t [Batch 250 / 391] Train Loss: 1.467 \t Train Acc: 0.466\n",
      "\t [Batch 300 / 391] Train Loss: 1.438 \t Train Acc: 0.477\n",
      "\t [Batch 350 / 391] Train Loss: 1.410 \t Train Acc: 0.488\n",
      "Epoch 1:\t Train Loss: 1.391 \t Train Acc: 0.495\t Test Acc: 0.495\n",
      "Starting Epoch 2\n"
     ]
    },
    {
     "data": {
      "application/vnd.jupyter.widget-view+json": {
       "model_id": "a5e4a511eabf47de8eae86cc9007ef28",
       "version_major": 2,
       "version_minor": 0
      },
      "text/plain": [
       "  0%|          | 0/391 [00:00<?, ?it/s]"
      ]
     },
     "metadata": {},
     "output_type": "display_data"
    },
    {
     "name": "stdout",
     "output_type": "stream",
     "text": [
      "\t [Batch 50 / 391] Train Loss: 1.171 \t Train Acc: 0.578\n",
      "\t [Batch 100 / 391] Train Loss: 1.164 \t Train Acc: 0.580\n",
      "\t [Batch 150 / 391] Train Loss: 1.143 \t Train Acc: 0.588\n",
      "\t [Batch 200 / 391] Train Loss: 1.137 \t Train Acc: 0.592\n",
      "\t [Batch 250 / 391] Train Loss: 1.128 \t Train Acc: 0.595\n",
      "\t [Batch 300 / 391] Train Loss: 1.110 \t Train Acc: 0.602\n",
      "\t [Batch 350 / 391] Train Loss: 1.103 \t Train Acc: 0.606\n",
      "Epoch 2:\t Train Loss: 1.089 \t Train Acc: 0.611\t Test Acc: 0.513\n",
      "Starting Epoch 3\n"
     ]
    },
    {
     "data": {
      "application/vnd.jupyter.widget-view+json": {
       "model_id": "698c9fb3a4ec432a808d581654597764",
       "version_major": 2,
       "version_minor": 0
      },
      "text/plain": [
       "  0%|          | 0/391 [00:00<?, ?it/s]"
      ]
     },
     "metadata": {},
     "output_type": "display_data"
    },
    {
     "name": "stdout",
     "output_type": "stream",
     "text": [
      "\t [Batch 50 / 391] Train Loss: 0.930 \t Train Acc: 0.679\n",
      "\t [Batch 100 / 391] Train Loss: 0.928 \t Train Acc: 0.677\n",
      "\t [Batch 150 / 391] Train Loss: 0.921 \t Train Acc: 0.677\n",
      "\t [Batch 200 / 391] Train Loss: 0.908 \t Train Acc: 0.681\n",
      "\t [Batch 250 / 391] Train Loss: 0.903 \t Train Acc: 0.683\n",
      "\t [Batch 300 / 391] Train Loss: 0.897 \t Train Acc: 0.684\n",
      "\t [Batch 350 / 391] Train Loss: 0.893 \t Train Acc: 0.686\n",
      "Epoch 3:\t Train Loss: 0.888 \t Train Acc: 0.689\t Test Acc: 0.644\n",
      "Starting Epoch 4\n"
     ]
    },
    {
     "data": {
      "application/vnd.jupyter.widget-view+json": {
       "model_id": "18f82a0a48cf49cf8703cde3d581714c",
       "version_major": 2,
       "version_minor": 0
      },
      "text/plain": [
       "  0%|          | 0/391 [00:00<?, ?it/s]"
      ]
     },
     "metadata": {},
     "output_type": "display_data"
    },
    {
     "name": "stdout",
     "output_type": "stream",
     "text": [
      "\t [Batch 50 / 391] Train Loss: 0.781 \t Train Acc: 0.729\n",
      "\t [Batch 100 / 391] Train Loss: 0.768 \t Train Acc: 0.734\n",
      "\t [Batch 150 / 391] Train Loss: 0.774 \t Train Acc: 0.731\n",
      "\t [Batch 200 / 391] Train Loss: 0.773 \t Train Acc: 0.730\n",
      "\t [Batch 250 / 391] Train Loss: 0.778 \t Train Acc: 0.729\n",
      "\t [Batch 300 / 391] Train Loss: 0.772 \t Train Acc: 0.731\n",
      "\t [Batch 350 / 391] Train Loss: 0.767 \t Train Acc: 0.732\n",
      "Epoch 4:\t Train Loss: 0.766 \t Train Acc: 0.733\t Test Acc: 0.726\n",
      "Starting Epoch 5\n"
     ]
    },
    {
     "data": {
      "application/vnd.jupyter.widget-view+json": {
       "model_id": "d1bf8480394c480ea405e8e2456b636e",
       "version_major": 2,
       "version_minor": 0
      },
      "text/plain": [
       "  0%|          | 0/391 [00:00<?, ?it/s]"
      ]
     },
     "metadata": {},
     "output_type": "display_data"
    },
    {
     "name": "stdout",
     "output_type": "stream",
     "text": [
      "\t [Batch 50 / 391] Train Loss: 0.696 \t Train Acc: 0.748\n",
      "\t [Batch 100 / 391] Train Loss: 0.680 \t Train Acc: 0.757\n",
      "\t [Batch 150 / 391] Train Loss: 0.680 \t Train Acc: 0.761\n",
      "\t [Batch 200 / 391] Train Loss: 0.669 \t Train Acc: 0.766\n",
      "\t [Batch 250 / 391] Train Loss: 0.665 \t Train Acc: 0.768\n",
      "\t [Batch 300 / 391] Train Loss: 0.662 \t Train Acc: 0.770\n",
      "\t [Batch 350 / 391] Train Loss: 0.661 \t Train Acc: 0.770\n",
      "Epoch 5:\t Train Loss: 0.658 \t Train Acc: 0.770\t Test Acc: 0.731\n",
      "Starting Epoch 6\n"
     ]
    },
    {
     "data": {
      "application/vnd.jupyter.widget-view+json": {
       "model_id": "3308d78b372e4d4081688e643a4d1101",
       "version_major": 2,
       "version_minor": 0
      },
      "text/plain": [
       "  0%|          | 0/391 [00:00<?, ?it/s]"
      ]
     },
     "metadata": {},
     "output_type": "display_data"
    },
    {
     "name": "stdout",
     "output_type": "stream",
     "text": [
      "\t [Batch 50 / 391] Train Loss: 0.581 \t Train Acc: 0.798\n",
      "\t [Batch 100 / 391] Train Loss: 0.572 \t Train Acc: 0.803\n",
      "\t [Batch 150 / 391] Train Loss: 0.574 \t Train Acc: 0.801\n",
      "\t [Batch 200 / 391] Train Loss: 0.590 \t Train Acc: 0.798\n",
      "\t [Batch 250 / 391] Train Loss: 0.584 \t Train Acc: 0.799\n",
      "\t [Batch 300 / 391] Train Loss: 0.587 \t Train Acc: 0.798\n",
      "\t [Batch 350 / 391] Train Loss: 0.586 \t Train Acc: 0.799\n",
      "Epoch 6:\t Train Loss: 0.586 \t Train Acc: 0.799\t Test Acc: 0.713\n",
      "Starting Epoch 7\n"
     ]
    },
    {
     "data": {
      "application/vnd.jupyter.widget-view+json": {
       "model_id": "ebc00a7b807f4bb98dcd8c16d438e946",
       "version_major": 2,
       "version_minor": 0
      },
      "text/plain": [
       "  0%|          | 0/391 [00:00<?, ?it/s]"
      ]
     },
     "metadata": {},
     "output_type": "display_data"
    },
    {
     "name": "stdout",
     "output_type": "stream",
     "text": [
      "\t [Batch 50 / 391] Train Loss: 0.473 \t Train Acc: 0.835\n",
      "\t [Batch 100 / 391] Train Loss: 0.469 \t Train Acc: 0.836\n",
      "\t [Batch 150 / 391] Train Loss: 0.484 \t Train Acc: 0.831\n",
      "\t [Batch 200 / 391] Train Loss: 0.487 \t Train Acc: 0.831\n",
      "\t [Batch 250 / 391] Train Loss: 0.488 \t Train Acc: 0.830\n",
      "\t [Batch 300 / 391] Train Loss: 0.489 \t Train Acc: 0.830\n",
      "\t [Batch 350 / 391] Train Loss: 0.494 \t Train Acc: 0.828\n",
      "Epoch 7:\t Train Loss: 0.494 \t Train Acc: 0.829\t Test Acc: 0.753\n",
      "Starting Epoch 8\n"
     ]
    },
    {
     "data": {
      "application/vnd.jupyter.widget-view+json": {
       "model_id": "faa9a40b04e147b2ba03b46478cf33cd",
       "version_major": 2,
       "version_minor": 0
      },
      "text/plain": [
       "  0%|          | 0/391 [00:00<?, ?it/s]"
      ]
     },
     "metadata": {},
     "output_type": "display_data"
    },
    {
     "name": "stdout",
     "output_type": "stream",
     "text": [
      "\t [Batch 50 / 391] Train Loss: 0.434 \t Train Acc: 0.853\n",
      "\t [Batch 100 / 391] Train Loss: 0.431 \t Train Acc: 0.854\n",
      "\t [Batch 150 / 391] Train Loss: 0.418 \t Train Acc: 0.858\n",
      "\t [Batch 200 / 391] Train Loss: 0.431 \t Train Acc: 0.853\n",
      "\t [Batch 250 / 391] Train Loss: 0.437 \t Train Acc: 0.851\n",
      "\t [Batch 300 / 391] Train Loss: 0.435 \t Train Acc: 0.852\n",
      "\t [Batch 350 / 391] Train Loss: 0.439 \t Train Acc: 0.850\n",
      "Epoch 8:\t Train Loss: 0.437 \t Train Acc: 0.851\t Test Acc: 0.710\n",
      "Starting Epoch 9\n"
     ]
    },
    {
     "data": {
      "application/vnd.jupyter.widget-view+json": {
       "model_id": "df1d25ec75ce49949a50f015c2f5e1d8",
       "version_major": 2,
       "version_minor": 0
      },
      "text/plain": [
       "  0%|          | 0/391 [00:00<?, ?it/s]"
      ]
     },
     "metadata": {},
     "output_type": "display_data"
    },
    {
     "name": "stdout",
     "output_type": "stream",
     "text": [
      "\t [Batch 50 / 391] Train Loss: 0.355 \t Train Acc: 0.884\n",
      "\t [Batch 100 / 391] Train Loss: 0.367 \t Train Acc: 0.881\n",
      "\t [Batch 150 / 391] Train Loss: 0.375 \t Train Acc: 0.876\n",
      "\t [Batch 200 / 391] Train Loss: 0.372 \t Train Acc: 0.876\n",
      "\t [Batch 250 / 391] Train Loss: 0.380 \t Train Acc: 0.874\n",
      "\t [Batch 300 / 391] Train Loss: 0.376 \t Train Acc: 0.874\n",
      "\t [Batch 350 / 391] Train Loss: 0.383 \t Train Acc: 0.873\n",
      "Epoch 9:\t Train Loss: 0.383 \t Train Acc: 0.872\t Test Acc: 0.711\n",
      "Starting Epoch 10\n"
     ]
    },
    {
     "data": {
      "application/vnd.jupyter.widget-view+json": {
       "model_id": "e6102b14467e449bbeea78f88b5c6ad4",
       "version_major": 2,
       "version_minor": 0
      },
      "text/plain": [
       "  0%|          | 0/391 [00:00<?, ?it/s]"
      ]
     },
     "metadata": {},
     "output_type": "display_data"
    },
    {
     "name": "stdout",
     "output_type": "stream",
     "text": [
      "\t [Batch 50 / 391] Train Loss: 0.289 \t Train Acc: 0.899\n",
      "\t [Batch 100 / 391] Train Loss: 0.286 \t Train Acc: 0.901\n",
      "\t [Batch 150 / 391] Train Loss: 0.306 \t Train Acc: 0.897\n",
      "\t [Batch 200 / 391] Train Loss: 0.301 \t Train Acc: 0.898\n",
      "\t [Batch 250 / 391] Train Loss: 0.306 \t Train Acc: 0.896\n",
      "\t [Batch 300 / 391] Train Loss: 0.306 \t Train Acc: 0.895\n",
      "\t [Batch 350 / 391] Train Loss: 0.313 \t Train Acc: 0.893\n",
      "Epoch 10:\t Train Loss: 0.314 \t Train Acc: 0.893\t Test Acc: 0.712\n",
      "Starting Epoch 11\n"
     ]
    },
    {
     "data": {
      "application/vnd.jupyter.widget-view+json": {
       "model_id": "3c9eb1c145f143389b8ec5cfe6c53389",
       "version_major": 2,
       "version_minor": 0
      },
      "text/plain": [
       "  0%|          | 0/391 [00:00<?, ?it/s]"
      ]
     },
     "metadata": {},
     "output_type": "display_data"
    },
    {
     "name": "stdout",
     "output_type": "stream",
     "text": [
      "\t [Batch 50 / 391] Train Loss: 0.213 \t Train Acc: 0.927\n",
      "\t [Batch 100 / 391] Train Loss: 0.232 \t Train Acc: 0.923\n",
      "\t [Batch 150 / 391] Train Loss: 0.255 \t Train Acc: 0.918\n",
      "\t [Batch 200 / 391] Train Loss: 0.258 \t Train Acc: 0.917\n",
      "\t [Batch 250 / 391] Train Loss: 0.264 \t Train Acc: 0.914\n",
      "\t [Batch 300 / 391] Train Loss: 0.274 \t Train Acc: 0.912\n",
      "\t [Batch 350 / 391] Train Loss: 0.275 \t Train Acc: 0.911\n",
      "Epoch 11:\t Train Loss: 0.278 \t Train Acc: 0.908\t Test Acc: 0.755\n",
      "Starting Epoch 12\n"
     ]
    },
    {
     "data": {
      "application/vnd.jupyter.widget-view+json": {
       "model_id": "ae0ee2af38d1473a9523c2e4c35c26fb",
       "version_major": 2,
       "version_minor": 0
      },
      "text/plain": [
       "  0%|          | 0/391 [00:00<?, ?it/s]"
      ]
     },
     "metadata": {},
     "output_type": "display_data"
    },
    {
     "name": "stdout",
     "output_type": "stream",
     "text": [
      "\t [Batch 50 / 391] Train Loss: 0.141 \t Train Acc: 0.954\n",
      "\t [Batch 100 / 391] Train Loss: 0.163 \t Train Acc: 0.951\n",
      "\t [Batch 150 / 391] Train Loss: 0.160 \t Train Acc: 0.951\n",
      "\t [Batch 200 / 391] Train Loss: 0.163 \t Train Acc: 0.949\n",
      "\t [Batch 250 / 391] Train Loss: 0.177 \t Train Acc: 0.943\n",
      "\t [Batch 300 / 391] Train Loss: 0.178 \t Train Acc: 0.942\n",
      "\t [Batch 350 / 391] Train Loss: 0.193 \t Train Acc: 0.939\n",
      "Epoch 12:\t Train Loss: 0.197 \t Train Acc: 0.937\t Test Acc: 0.803\n",
      "Starting Epoch 13\n"
     ]
    },
    {
     "data": {
      "application/vnd.jupyter.widget-view+json": {
       "model_id": "fff2dc61e0a64851b20d1f074c691111",
       "version_major": 2,
       "version_minor": 0
      },
      "text/plain": [
       "  0%|          | 0/391 [00:00<?, ?it/s]"
      ]
     },
     "metadata": {},
     "output_type": "display_data"
    },
    {
     "name": "stdout",
     "output_type": "stream",
     "text": [
      "\t [Batch 50 / 391] Train Loss: 0.103 \t Train Acc: 0.970\n",
      "\t [Batch 100 / 391] Train Loss: 0.101 \t Train Acc: 0.970\n",
      "\t [Batch 150 / 391] Train Loss: 0.122 \t Train Acc: 0.966\n",
      "\t [Batch 200 / 391] Train Loss: 0.130 \t Train Acc: 0.962\n",
      "\t [Batch 250 / 391] Train Loss: 0.143 \t Train Acc: 0.958\n",
      "\t [Batch 300 / 391] Train Loss: 0.144 \t Train Acc: 0.956\n",
      "\t [Batch 350 / 391] Train Loss: 0.156 \t Train Acc: 0.953\n",
      "Epoch 13:\t Train Loss: 0.164 \t Train Acc: 0.951\t Test Acc: 0.814\n",
      "Starting Epoch 14\n"
     ]
    },
    {
     "data": {
      "application/vnd.jupyter.widget-view+json": {
       "model_id": "13c93996b2c4478ea4599fd4166fe047",
       "version_major": 2,
       "version_minor": 0
      },
      "text/plain": [
       "  0%|          | 0/391 [00:00<?, ?it/s]"
      ]
     },
     "metadata": {},
     "output_type": "display_data"
    },
    {
     "name": "stdout",
     "output_type": "stream",
     "text": [
      "\t [Batch 50 / 391] Train Loss: 0.059 \t Train Acc: 0.983\n",
      "\t [Batch 100 / 391] Train Loss: 0.052 \t Train Acc: 0.985\n",
      "\t [Batch 150 / 391] Train Loss: 0.052 \t Train Acc: 0.986\n",
      "\t [Batch 200 / 391] Train Loss: 0.051 \t Train Acc: 0.986\n",
      "\t [Batch 250 / 391] Train Loss: 0.103 \t Train Acc: 0.975\n",
      "\t [Batch 300 / 391] Train Loss: 0.099 \t Train Acc: 0.975\n",
      "\t [Batch 350 / 391] Train Loss: 0.098 \t Train Acc: 0.974\n",
      "Epoch 14:\t Train Loss: 0.098 \t Train Acc: 0.973\t Test Acc: 0.813\n",
      "Starting Epoch 15\n"
     ]
    },
    {
     "data": {
      "application/vnd.jupyter.widget-view+json": {
       "model_id": "8aa7ca50b69e478499476f041ad42c86",
       "version_major": 2,
       "version_minor": 0
      },
      "text/plain": [
       "  0%|          | 0/391 [00:00<?, ?it/s]"
      ]
     },
     "metadata": {},
     "output_type": "display_data"
    },
    {
     "name": "stdout",
     "output_type": "stream",
     "text": [
      "\t [Batch 50 / 391] Train Loss: 0.031 \t Train Acc: 0.994\n",
      "\t [Batch 100 / 391] Train Loss: 0.028 \t Train Acc: 0.995\n",
      "\t [Batch 150 / 391] Train Loss: 0.026 \t Train Acc: 0.995\n",
      "\t [Batch 200 / 391] Train Loss: 0.026 \t Train Acc: 0.995\n",
      "\t [Batch 250 / 391] Train Loss: 0.027 \t Train Acc: 0.995\n",
      "\t [Batch 300 / 391] Train Loss: 0.026 \t Train Acc: 0.995\n",
      "\t [Batch 350 / 391] Train Loss: 0.026 \t Train Acc: 0.995\n",
      "Epoch 15:\t Train Loss: 0.026 \t Train Acc: 0.995\t Test Acc: 0.850\n",
      "Starting Epoch 16\n"
     ]
    },
    {
     "data": {
      "application/vnd.jupyter.widget-view+json": {
       "model_id": "f4b2fb1cf3c447389eeb4a5f6f3b81bb",
       "version_major": 2,
       "version_minor": 0
      },
      "text/plain": [
       "  0%|          | 0/391 [00:00<?, ?it/s]"
      ]
     },
     "metadata": {},
     "output_type": "display_data"
    },
    {
     "name": "stdout",
     "output_type": "stream",
     "text": [
      "\t [Batch 50 / 391] Train Loss: 0.009 \t Train Acc: 1.000\n",
      "\t [Batch 100 / 391] Train Loss: 0.009 \t Train Acc: 1.000\n",
      "\t [Batch 150 / 391] Train Loss: 0.009 \t Train Acc: 1.000\n",
      "\t [Batch 200 / 391] Train Loss: 0.008 \t Train Acc: 1.000\n",
      "\t [Batch 250 / 391] Train Loss: 0.008 \t Train Acc: 1.000\n",
      "\t [Batch 300 / 391] Train Loss: 0.008 \t Train Acc: 1.000\n",
      "\t [Batch 350 / 391] Train Loss: 0.008 \t Train Acc: 1.000\n",
      "Epoch 16:\t Train Loss: 0.008 \t Train Acc: 1.000\t Test Acc: 0.854\n",
      "Starting Epoch 17\n"
     ]
    },
    {
     "data": {
      "application/vnd.jupyter.widget-view+json": {
       "model_id": "ed4fd727a26c41dd9897536bdf8489c3",
       "version_major": 2,
       "version_minor": 0
      },
      "text/plain": [
       "  0%|          | 0/391 [00:00<?, ?it/s]"
      ]
     },
     "metadata": {},
     "output_type": "display_data"
    },
    {
     "name": "stdout",
     "output_type": "stream",
     "text": [
      "\t [Batch 50 / 391] Train Loss: 0.005 \t Train Acc: 1.000\n",
      "\t [Batch 100 / 391] Train Loss: 0.004 \t Train Acc: 1.000\n",
      "\t [Batch 150 / 391] Train Loss: 0.004 \t Train Acc: 1.000\n",
      "\t [Batch 200 / 391] Train Loss: 0.004 \t Train Acc: 1.000\n",
      "\t [Batch 250 / 391] Train Loss: 0.004 \t Train Acc: 1.000\n",
      "\t [Batch 300 / 391] Train Loss: 0.004 \t Train Acc: 1.000\n",
      "\t [Batch 350 / 391] Train Loss: 0.004 \t Train Acc: 1.000\n",
      "Epoch 17:\t Train Loss: 0.004 \t Train Acc: 1.000\t Test Acc: 0.859\n",
      "Starting Epoch 18\n"
     ]
    },
    {
     "data": {
      "application/vnd.jupyter.widget-view+json": {
       "model_id": "359aa0fac84a496babb7ae1be2c73659",
       "version_major": 2,
       "version_minor": 0
      },
      "text/plain": [
       "  0%|          | 0/391 [00:00<?, ?it/s]"
      ]
     },
     "metadata": {},
     "output_type": "display_data"
    },
    {
     "name": "stdout",
     "output_type": "stream",
     "text": [
      "\t [Batch 50 / 391] Train Loss: 0.003 \t Train Acc: 1.000\n",
      "\t [Batch 100 / 391] Train Loss: 0.003 \t Train Acc: 1.000\n",
      "\t [Batch 150 / 391] Train Loss: 0.003 \t Train Acc: 1.000\n",
      "\t [Batch 200 / 391] Train Loss: 0.003 \t Train Acc: 1.000\n",
      "\t [Batch 250 / 391] Train Loss: 0.003 \t Train Acc: 1.000\n",
      "\t [Batch 300 / 391] Train Loss: 0.003 \t Train Acc: 1.000\n",
      "\t [Batch 350 / 391] Train Loss: 0.003 \t Train Acc: 1.000\n",
      "Epoch 18:\t Train Loss: 0.003 \t Train Acc: 1.000\t Test Acc: 0.860\n",
      "Starting Epoch 19\n"
     ]
    },
    {
     "data": {
      "application/vnd.jupyter.widget-view+json": {
       "model_id": "ff2b1e4517f6474eb652abbad4dd9f70",
       "version_major": 2,
       "version_minor": 0
      },
      "text/plain": [
       "  0%|          | 0/391 [00:00<?, ?it/s]"
      ]
     },
     "metadata": {},
     "output_type": "display_data"
    },
    {
     "name": "stdout",
     "output_type": "stream",
     "text": [
      "\t [Batch 50 / 391] Train Loss: 0.002 \t Train Acc: 1.000\n",
      "\t [Batch 100 / 391] Train Loss: 0.002 \t Train Acc: 1.000\n",
      "\t [Batch 150 / 391] Train Loss: 0.002 \t Train Acc: 1.000\n",
      "\t [Batch 200 / 391] Train Loss: 0.002 \t Train Acc: 1.000\n",
      "\t [Batch 250 / 391] Train Loss: 0.002 \t Train Acc: 1.000\n",
      "\t [Batch 300 / 391] Train Loss: 0.002 \t Train Acc: 1.000\n",
      "\t [Batch 350 / 391] Train Loss: 0.002 \t Train Acc: 1.000\n",
      "Epoch 19:\t Train Loss: 0.002 \t Train Acc: 1.000\t Test Acc: 0.859\n"
     ]
    }
   ],
   "source": [
    "model = make_cnn()\n",
    "opt = torch.optim.SGD(model.parameters(), lr=0.1)\n",
    "epochs = 20\n",
    "for i in range(epochs):\n",
    "    print(f'Starting Epoch {i}')\n",
    "    train_loss, train_acc = train_epoch(model, train_dl, opt)\n",
    "    test_loss, test_acc = evaluate(model, test_dl)\n",
    "    \n",
    "    print(f'Epoch {i}:\\t Train Loss: {train_loss:.3f} \\t Train Acc: {train_acc:.3f}\\t Test Acc: {test_acc:.3f}')"
   ]
  },
  {
   "cell_type": "markdown",
   "metadata": {},
   "source": [
    "## Flipping an Image"
   ]
  },
  {
   "cell_type": "code",
   "execution_count": 6,
   "metadata": {},
   "outputs": [
    {
     "name": "stdout",
     "output_type": "stream",
     "text": [
      "7\n"
     ]
    },
    {
     "data": {
      "image/png": "[encoded data removed]",
      "text/plain": [
       "<Figure size 432x288 with 1 Axes>"
      ]
     },
     "metadata": {
      "needs_background": "light"
     },
     "output_type": "display_data"
    }
   ],
   "source": [
    "idx = 12\n",
    "img = torch.flip(train_dl.dataset.tensors[0][idx], [1])\n",
    "plt.imshow(np.transpose(np.array(img), (1, 2, 0)))\n",
    "print(np.array(train_dl.dataset.tensors[1][idx]))\n",
    "\n",
    "def plot_image(img):\n",
    "    plt.imshow(np.transpose(np.array(img), (1, 2, 0)))\n",
    "    plt.show()"
   ]
  },
  {
   "cell_type": "code",
   "execution_count": 7,
   "metadata": {},
   "outputs": [],
   "source": [
    "# Flipping images in test set\n",
    "X_te_flipped = torch.flip(X_te, [2])\n",
    "\n",
    "test_dl_flipped = make_loader(TensorDataset(X_te_flipped, Y_te))"
   ]
  },
  {
   "cell_type": "code",
   "execution_count": 8,
   "metadata": {},
   "outputs": [
    {
     "data": {
      "image/png": "[encoded data removed]",
      "text/plain": [
       "<Figure size 432x288 with 1 Axes>"
      ]
     },
     "metadata": {
      "needs_background": "light"
     },
     "output_type": "display_data"
    },
    {
     "data": {
      "image/png": "[encoded data removed]",
      "text/plain": [
       "<Figure size 432x288 with 1 Axes>"
      ]
     },
     "metadata": {
      "needs_background": "light"
     },
     "output_type": "display_data"
    },
    {
     "name": "stdout",
     "output_type": "stream",
     "text": [
      "tensor(9)\n"
     ]
    }
   ],
   "source": [
    "idx=1231\n",
    "plot_image(X_te[idx])\n",
    "plot_image(X_te_flipped[idx])\n",
    "print(Y_te[idx])"
   ]
  },
  {
   "cell_type": "code",
   "execution_count": 9,
   "metadata": {},
   "outputs": [],
   "source": [
    "test_loss, test_acc = evaluate(model, test_dl_flipped)"
   ]
  },
  {
   "cell_type": "code",
   "execution_count": 10,
   "metadata": {},
   "outputs": [
    {
     "name": "stdout",
     "output_type": "stream",
     "text": [
      "3.04576484375 0.4293\n"
     ]
    }
   ],
   "source": [
    "print(test_loss, test_acc)"
   ]
  },
  {
   "cell_type": "code",
   "execution_count": null,
   "metadata": {},
   "outputs": [
    {
     "name": "stdout",
     "output_type": "stream",
     "text": [
      "Class 0 \t Test Accuracy: 0.882 \t Flipped Test Accuracy 0.758\t Accuracy Drop: 0.124\n",
      "Class 1 \t Test Accuracy: 0.931 \t Flipped Test Accuracy 0.381\t Accuracy Drop: 0.550\n"
     ]
    }
   ],
   "source": [
    "# Organize the test data by class\n",
    "classes = {}\n",
    "for i in range(10):\n",
    "    classes[i] = []\n",
    "\n",
    "for idx, y in enumerate(Y_te):\n",
    "    classes[int(y)].append(idx)\n",
    "\n",
    "# print('')\n",
    "    \n",
    "for label in classes:\n",
    "    idxs = np.array(classes[label])\n",
    "    X_temp = X_te[idxs]\n",
    "    X_temp_flipped = X_te_flipped[idxs]\n",
    "    Y_temp = Y_te[idxs]\n",
    "    temp_dl = make_loader(TensorDataset(X_temp, Y_temp))\n",
    "    temp_dl_flipped = make_loader(TensorDataset(X_temp_flipped, Y_temp))\n",
    "    _, test_acc = evaluate(model, temp_dl)\n",
    "    _, test_acc_flipped = evaluate(model, temp_dl_flipped)\n",
    "    print(f'Class {label} \\t Test Accuracy: {test_acc:.3f} \\t Flipped Test Accuracy {test_acc_flipped:.3f}' + \n",
    "          f'\\t Accuracy Drop: {test_acc - test_acc_flipped:.3f}')"
   ]
  },
  {
   "cell_type": "markdown",
   "metadata": {},
   "source": [
    "## Training a more robust model\n",
    "\n",
    "Ideas: \n",
    " - Train with flipped and rotated images\n",
    " - More powerful adversarial training? Although this might not help much since we are not testing on these kinds of adversaries \n",
    "\n"
   ]
  },
  {
   "cell_type": "code",
   "execution_count": 11,
   "metadata": {},
   "outputs": [],
   "source": [
    "X_tr_flipped = torch.flip(X_tr, [2])\n",
    "\n",
    "X_tr_combined = torch.cat([X_tr, X_tr_flipped])\n",
    "\n",
    "Y_tr_combined = torch.cat([Y_tr, Y_tr])\n",
    "\n",
    "train_combined_dl = make_loader(TensorDataset(X_tr_combined, Y_tr_combined))"
   ]
  },
  {
   "cell_type": "code",
   "execution_count": 12,
   "metadata": {},
   "outputs": [
    {
     "name": "stdout",
     "output_type": "stream",
     "text": [
      "Starting Epoch 0\n"
     ]
    },
    {
     "data": {
      "application/vnd.jupyter.widget-view+json": {
       "model_id": "d1da3f4db3ee4e66a957f6370a59548d",
       "version_major": 2,
       "version_minor": 0
      },
      "text/plain": [
       "  0%|          | 0/782 [00:00<?, ?it/s]"
      ]
     },
     "metadata": {},
     "output_type": "display_data"
    },
    {
     "name": "stdout",
     "output_type": "stream",
     "text": [
      "\t [Batch 50 / 782] Train Loss: 4.908 \t Train Acc: 0.164\n",
      "\t [Batch 100 / 782] Train Loss: 3.499 \t Train Acc: 0.188\n",
      "\t [Batch 150 / 782] Train Loss: 3.014 \t Train Acc: 0.205\n",
      "\t [Batch 200 / 782] Train Loss: 2.747 \t Train Acc: 0.223\n",
      "\t [Batch 250 / 782] Train Loss: 2.576 \t Train Acc: 0.239\n",
      "\t [Batch 300 / 782] Train Loss: 2.458 \t Train Acc: 0.252\n",
      "\t [Batch 350 / 782] Train Loss: 2.363 \t Train Acc: 0.264\n",
      "\t [Batch 400 / 782] Train Loss: 2.282 \t Train Acc: 0.275\n",
      "\t [Batch 450 / 782] Train Loss: 2.214 \t Train Acc: 0.287\n",
      "\t [Batch 500 / 782] Train Loss: 2.156 \t Train Acc: 0.298\n",
      "\t [Batch 550 / 782] Train Loss: 2.106 \t Train Acc: 0.308\n",
      "\t [Batch 600 / 782] Train Loss: 2.059 \t Train Acc: 0.320\n",
      "\t [Batch 650 / 782] Train Loss: 2.018 \t Train Acc: 0.330\n",
      "\t [Batch 700 / 782] Train Loss: 1.977 \t Train Acc: 0.340\n",
      "\t [Batch 750 / 782] Train Loss: 1.943 \t Train Acc: 0.349\n",
      "Epoch 0:\t Train Loss: 1.921 \t Train Acc: 0.355\t Test Acc: 0.312\t Test Acc Flipped: 0.308\n",
      "Starting Epoch 1\n"
     ]
    },
    {
     "data": {
      "application/vnd.jupyter.widget-view+json": {
       "model_id": "7b045e56db524f5b8701c3f17bd97f54",
       "version_major": 2,
       "version_minor": 0
      },
      "text/plain": [
       "  0%|          | 0/782 [00:00<?, ?it/s]"
      ]
     },
     "metadata": {},
     "output_type": "display_data"
    },
    {
     "name": "stdout",
     "output_type": "stream",
     "text": [
      "\t [Batch 50 / 782] Train Loss: 1.380 \t Train Acc: 0.496\n",
      "\t [Batch 100 / 782] Train Loss: 1.365 \t Train Acc: 0.504\n",
      "\t [Batch 150 / 782] Train Loss: 1.349 \t Train Acc: 0.510\n",
      "\t [Batch 200 / 782] Train Loss: 1.339 \t Train Acc: 0.515\n",
      "\t [Batch 250 / 782] Train Loss: 1.333 \t Train Acc: 0.518\n",
      "\t [Batch 300 / 782] Train Loss: 1.322 \t Train Acc: 0.522\n",
      "\t [Batch 350 / 782] Train Loss: 1.315 \t Train Acc: 0.525\n",
      "\t [Batch 400 / 782] Train Loss: 1.302 \t Train Acc: 0.531\n",
      "\t [Batch 450 / 782] Train Loss: 1.288 \t Train Acc: 0.536\n",
      "\t [Batch 500 / 782] Train Loss: 1.275 \t Train Acc: 0.541\n",
      "\t [Batch 550 / 782] Train Loss: 1.266 \t Train Acc: 0.546\n",
      "\t [Batch 600 / 782] Train Loss: 1.255 \t Train Acc: 0.550\n",
      "\t [Batch 650 / 782] Train Loss: 1.248 \t Train Acc: 0.553\n",
      "\t [Batch 700 / 782] Train Loss: 1.240 \t Train Acc: 0.556\n",
      "\t [Batch 750 / 782] Train Loss: 1.230 \t Train Acc: 0.559\n",
      "Epoch 1:\t Train Loss: 1.224 \t Train Acc: 0.562\t Test Acc: 0.583\t Test Acc Flipped: 0.576\n",
      "Starting Epoch 2\n"
     ]
    },
    {
     "data": {
      "application/vnd.jupyter.widget-view+json": {
       "model_id": "0478923091ca482fb87cd224fb491ae5",
       "version_major": 2,
       "version_minor": 0
      },
      "text/plain": [
       "  0%|          | 0/782 [00:00<?, ?it/s]"
      ]
     },
     "metadata": {},
     "output_type": "display_data"
    },
    {
     "name": "stdout",
     "output_type": "stream",
     "text": [
      "\t [Batch 50 / 782] Train Loss: 1.031 \t Train Acc: 0.633\n",
      "\t [Batch 100 / 782] Train Loss: 1.010 \t Train Acc: 0.638\n",
      "\t [Batch 150 / 782] Train Loss: 1.015 \t Train Acc: 0.637\n",
      "\t [Batch 200 / 782] Train Loss: 1.019 \t Train Acc: 0.634\n",
      "\t [Batch 250 / 782] Train Loss: 1.013 \t Train Acc: 0.637\n",
      "\t [Batch 300 / 782] Train Loss: 1.010 \t Train Acc: 0.638\n",
      "\t [Batch 350 / 782] Train Loss: 1.006 \t Train Acc: 0.640\n",
      "\t [Batch 400 / 782] Train Loss: 0.999 \t Train Acc: 0.644\n",
      "\t [Batch 450 / 782] Train Loss: 0.995 \t Train Acc: 0.645\n",
      "\t [Batch 500 / 782] Train Loss: 0.992 \t Train Acc: 0.646\n",
      "\t [Batch 550 / 782] Train Loss: 0.987 \t Train Acc: 0.649\n",
      "\t [Batch 600 / 782] Train Loss: 0.980 \t Train Acc: 0.651\n",
      "\t [Batch 650 / 782] Train Loss: 0.974 \t Train Acc: 0.653\n",
      "\t [Batch 700 / 782] Train Loss: 0.971 \t Train Acc: 0.654\n",
      "\t [Batch 750 / 782] Train Loss: 0.967 \t Train Acc: 0.656\n",
      "Epoch 2:\t Train Loss: 0.965 \t Train Acc: 0.657\t Test Acc: 0.250\t Test Acc Flipped: 0.250\n",
      "Starting Epoch 3\n"
     ]
    },
    {
     "data": {
      "application/vnd.jupyter.widget-view+json": {
       "model_id": "30ab9615f92f41998d37fe4f3cd182bf",
       "version_major": 2,
       "version_minor": 0
      },
      "text/plain": [
       "  0%|          | 0/782 [00:00<?, ?it/s]"
      ]
     },
     "metadata": {},
     "output_type": "display_data"
    },
    {
     "name": "stdout",
     "output_type": "stream",
     "text": [
      "\t [Batch 50 / 782] Train Loss: 0.855 \t Train Acc: 0.697\n",
      "\t [Batch 100 / 782] Train Loss: 0.863 \t Train Acc: 0.697\n",
      "\t [Batch 150 / 782] Train Loss: 0.861 \t Train Acc: 0.697\n",
      "\t [Batch 200 / 782] Train Loss: 0.852 \t Train Acc: 0.700\n",
      "\t [Batch 250 / 782] Train Loss: 0.844 \t Train Acc: 0.703\n",
      "\t [Batch 300 / 782] Train Loss: 0.843 \t Train Acc: 0.703\n",
      "\t [Batch 350 / 782] Train Loss: 0.843 \t Train Acc: 0.703\n",
      "\t [Batch 400 / 782] Train Loss: 0.839 \t Train Acc: 0.703\n",
      "\t [Batch 450 / 782] Train Loss: 0.836 \t Train Acc: 0.705\n",
      "\t [Batch 500 / 782] Train Loss: 0.832 \t Train Acc: 0.706\n",
      "\t [Batch 550 / 782] Train Loss: 0.829 \t Train Acc: 0.707\n",
      "\t [Batch 600 / 782] Train Loss: 0.825 \t Train Acc: 0.708\n",
      "\t [Batch 650 / 782] Train Loss: 0.822 \t Train Acc: 0.710\n",
      "\t [Batch 700 / 782] Train Loss: 0.817 \t Train Acc: 0.711\n",
      "\t [Batch 750 / 782] Train Loss: 0.816 \t Train Acc: 0.711\n",
      "Epoch 3:\t Train Loss: 0.815 \t Train Acc: 0.712\t Test Acc: 0.558\t Test Acc Flipped: 0.561\n",
      "Starting Epoch 4\n"
     ]
    },
    {
     "data": {
      "application/vnd.jupyter.widget-view+json": {
       "model_id": "f839dea8ea7647f9929669f8b95a2935",
       "version_major": 2,
       "version_minor": 0
      },
      "text/plain": [
       "  0%|          | 0/782 [00:00<?, ?it/s]"
      ]
     },
     "metadata": {},
     "output_type": "display_data"
    },
    {
     "name": "stdout",
     "output_type": "stream",
     "text": [
      "\t [Batch 50 / 782] Train Loss: 0.701 \t Train Acc: 0.754\n",
      "\t [Batch 100 / 782] Train Loss: 0.707 \t Train Acc: 0.751\n",
      "\t [Batch 150 / 782] Train Loss: 0.713 \t Train Acc: 0.749\n",
      "\t [Batch 200 / 782] Train Loss: 0.707 \t Train Acc: 0.751\n",
      "\t [Batch 250 / 782] Train Loss: 0.709 \t Train Acc: 0.750\n",
      "\t [Batch 300 / 782] Train Loss: 0.706 \t Train Acc: 0.751\n",
      "\t [Batch 350 / 782] Train Loss: 0.705 \t Train Acc: 0.751\n",
      "\t [Batch 400 / 782] Train Loss: 0.705 \t Train Acc: 0.752\n",
      "\t [Batch 450 / 782] Train Loss: 0.704 \t Train Acc: 0.752\n",
      "\t [Batch 500 / 782] Train Loss: 0.704 \t Train Acc: 0.753\n",
      "\t [Batch 550 / 782] Train Loss: 0.701 \t Train Acc: 0.754\n",
      "\t [Batch 600 / 782] Train Loss: 0.700 \t Train Acc: 0.754\n",
      "\t [Batch 650 / 782] Train Loss: 0.703 \t Train Acc: 0.754\n",
      "\t [Batch 700 / 782] Train Loss: 0.701 \t Train Acc: 0.755\n",
      "\t [Batch 750 / 782] Train Loss: 0.701 \t Train Acc: 0.755\n",
      "Epoch 4:\t Train Loss: 0.699 \t Train Acc: 0.755\t Test Acc: 0.525\t Test Acc Flipped: 0.545\n",
      "Starting Epoch 5\n"
     ]
    },
    {
     "data": {
      "application/vnd.jupyter.widget-view+json": {
       "model_id": "3c7c9efc17364d14a2f8b1353d397f30",
       "version_major": 2,
       "version_minor": 0
      },
      "text/plain": [
       "  0%|          | 0/782 [00:00<?, ?it/s]"
      ]
     },
     "metadata": {},
     "output_type": "display_data"
    },
    {
     "name": "stdout",
     "output_type": "stream",
     "text": [
      "\t [Batch 50 / 782] Train Loss: 0.604 \t Train Acc: 0.789\n",
      "\t [Batch 100 / 782] Train Loss: 0.597 \t Train Acc: 0.792\n",
      "\t [Batch 150 / 782] Train Loss: 0.601 \t Train Acc: 0.790\n",
      "\t [Batch 200 / 782] Train Loss: 0.612 \t Train Acc: 0.787\n",
      "\t [Batch 250 / 782] Train Loss: 0.617 \t Train Acc: 0.787\n",
      "\t [Batch 300 / 782] Train Loss: 0.613 \t Train Acc: 0.788\n",
      "\t [Batch 350 / 782] Train Loss: 0.606 \t Train Acc: 0.790\n",
      "\t [Batch 400 / 782] Train Loss: 0.606 \t Train Acc: 0.790\n",
      "\t [Batch 450 / 782] Train Loss: 0.607 \t Train Acc: 0.790\n",
      "\t [Batch 500 / 782] Train Loss: 0.608 \t Train Acc: 0.789\n",
      "\t [Batch 550 / 782] Train Loss: 0.608 \t Train Acc: 0.788\n",
      "\t [Batch 600 / 782] Train Loss: 0.608 \t Train Acc: 0.789\n",
      "\t [Batch 650 / 782] Train Loss: 0.607 \t Train Acc: 0.789\n",
      "\t [Batch 700 / 782] Train Loss: 0.606 \t Train Acc: 0.789\n",
      "\t [Batch 750 / 782] Train Loss: 0.605 \t Train Acc: 0.790\n",
      "Epoch 5:\t Train Loss: 0.603 \t Train Acc: 0.790\t Test Acc: 0.672\t Test Acc Flipped: 0.678\n",
      "Starting Epoch 6\n"
     ]
    },
    {
     "data": {
      "application/vnd.jupyter.widget-view+json": {
       "model_id": "9162815cb01a46679689048a4203dd31",
       "version_major": 2,
       "version_minor": 0
      },
      "text/plain": [
       "  0%|          | 0/782 [00:00<?, ?it/s]"
      ]
     },
     "metadata": {},
     "output_type": "display_data"
    },
    {
     "name": "stdout",
     "output_type": "stream",
     "text": [
      "\t [Batch 50 / 782] Train Loss: 0.529 \t Train Acc: 0.817\n",
      "\t [Batch 100 / 782] Train Loss: 0.510 \t Train Acc: 0.823\n",
      "\t [Batch 150 / 782] Train Loss: 0.504 \t Train Acc: 0.827\n",
      "\t [Batch 200 / 782] Train Loss: 0.515 \t Train Acc: 0.822\n",
      "\t [Batch 250 / 782] Train Loss: 0.514 \t Train Acc: 0.822\n",
      "\t [Batch 300 / 782] Train Loss: 0.518 \t Train Acc: 0.821\n",
      "\t [Batch 350 / 782] Train Loss: 0.520 \t Train Acc: 0.820\n",
      "\t [Batch 400 / 782] Train Loss: 0.525 \t Train Acc: 0.818\n",
      "\t [Batch 450 / 782] Train Loss: 0.524 \t Train Acc: 0.818\n",
      "\t [Batch 500 / 782] Train Loss: 0.522 \t Train Acc: 0.819\n",
      "\t [Batch 550 / 782] Train Loss: 0.523 \t Train Acc: 0.819\n",
      "\t [Batch 600 / 782] Train Loss: 0.521 \t Train Acc: 0.819\n",
      "\t [Batch 650 / 782] Train Loss: 0.523 \t Train Acc: 0.819\n",
      "\t [Batch 700 / 782] Train Loss: 0.522 \t Train Acc: 0.819\n",
      "\t [Batch 750 / 782] Train Loss: 0.522 \t Train Acc: 0.819\n",
      "Epoch 6:\t Train Loss: 0.524 \t Train Acc: 0.818\t Test Acc: 0.649\t Test Acc Flipped: 0.639\n",
      "Starting Epoch 7\n"
     ]
    },
    {
     "data": {
      "application/vnd.jupyter.widget-view+json": {
       "model_id": "e76c461802e74130bab3f25cfe1fbade",
       "version_major": 2,
       "version_minor": 0
      },
      "text/plain": [
       "  0%|          | 0/782 [00:00<?, ?it/s]"
      ]
     },
     "metadata": {},
     "output_type": "display_data"
    },
    {
     "name": "stdout",
     "output_type": "stream",
     "text": [
      "\t [Batch 50 / 782] Train Loss: 0.411 \t Train Acc: 0.857\n",
      "\t [Batch 100 / 782] Train Loss: 0.426 \t Train Acc: 0.855\n",
      "\t [Batch 150 / 782] Train Loss: 0.424 \t Train Acc: 0.855\n",
      "\t [Batch 200 / 782] Train Loss: 0.428 \t Train Acc: 0.853\n",
      "\t [Batch 250 / 782] Train Loss: 0.433 \t Train Acc: 0.851\n",
      "\t [Batch 300 / 782] Train Loss: 0.437 \t Train Acc: 0.848\n",
      "\t [Batch 350 / 782] Train Loss: 0.444 \t Train Acc: 0.847\n",
      "\t [Batch 400 / 782] Train Loss: 0.441 \t Train Acc: 0.848\n",
      "\t [Batch 450 / 782] Train Loss: 0.443 \t Train Acc: 0.847\n",
      "\t [Batch 500 / 782] Train Loss: 0.442 \t Train Acc: 0.847\n",
      "\t [Batch 550 / 782] Train Loss: 0.443 \t Train Acc: 0.847\n",
      "\t [Batch 600 / 782] Train Loss: 0.445 \t Train Acc: 0.846\n",
      "\t [Batch 650 / 782] Train Loss: 0.443 \t Train Acc: 0.847\n",
      "\t [Batch 700 / 782] Train Loss: 0.443 \t Train Acc: 0.847\n",
      "\t [Batch 750 / 782] Train Loss: 0.444 \t Train Acc: 0.846\n",
      "Epoch 7:\t Train Loss: 0.443 \t Train Acc: 0.847\t Test Acc: 0.660\t Test Acc Flipped: 0.652\n",
      "Starting Epoch 8\n"
     ]
    },
    {
     "data": {
      "application/vnd.jupyter.widget-view+json": {
       "model_id": "4ce53a5540444f9496bd69e77b01c350",
       "version_major": 2,
       "version_minor": 0
      },
      "text/plain": [
       "  0%|          | 0/782 [00:00<?, ?it/s]"
      ]
     },
     "metadata": {},
     "output_type": "display_data"
    },
    {
     "name": "stdout",
     "output_type": "stream",
     "text": [
      "\t [Batch 50 / 782] Train Loss: 0.365 \t Train Acc: 0.877\n",
      "\t [Batch 100 / 782] Train Loss: 0.355 \t Train Acc: 0.877\n",
      "\t [Batch 150 / 782] Train Loss: 0.373 \t Train Acc: 0.870\n",
      "\t [Batch 200 / 782] Train Loss: 0.372 \t Train Acc: 0.870\n",
      "\t [Batch 250 / 782] Train Loss: 0.371 \t Train Acc: 0.870\n",
      "\t [Batch 300 / 782] Train Loss: 0.375 \t Train Acc: 0.868\n",
      "\t [Batch 350 / 782] Train Loss: 0.373 \t Train Acc: 0.869\n",
      "\t [Batch 400 / 782] Train Loss: 0.376 \t Train Acc: 0.868\n",
      "\t [Batch 450 / 782] Train Loss: 0.376 \t Train Acc: 0.868\n",
      "\t [Batch 500 / 782] Train Loss: 0.377 \t Train Acc: 0.868\n",
      "\t [Batch 550 / 782] Train Loss: 0.376 \t Train Acc: 0.868\n",
      "\t [Batch 600 / 782] Train Loss: 0.378 \t Train Acc: 0.868\n",
      "\t [Batch 650 / 782] Train Loss: 0.382 \t Train Acc: 0.866\n",
      "\t [Batch 700 / 782] Train Loss: 0.381 \t Train Acc: 0.867\n",
      "\t [Batch 750 / 782] Train Loss: 0.384 \t Train Acc: 0.866\n",
      "Epoch 8:\t Train Loss: 0.383 \t Train Acc: 0.866\t Test Acc: 0.737\t Test Acc Flipped: 0.739\n",
      "Starting Epoch 9\n"
     ]
    },
    {
     "data": {
      "application/vnd.jupyter.widget-view+json": {
       "model_id": "69371e0ea1cb40ed9ec7924f825f8e35",
       "version_major": 2,
       "version_minor": 0
      },
      "text/plain": [
       "  0%|          | 0/782 [00:00<?, ?it/s]"
      ]
     },
     "metadata": {},
     "output_type": "display_data"
    },
    {
     "name": "stdout",
     "output_type": "stream",
     "text": [
      "\t [Batch 50 / 782] Train Loss: 0.271 \t Train Acc: 0.905\n",
      "\t [Batch 100 / 782] Train Loss: 0.294 \t Train Acc: 0.898\n",
      "\t [Batch 150 / 782] Train Loss: 0.290 \t Train Acc: 0.899\n",
      "\t [Batch 200 / 782] Train Loss: 0.294 \t Train Acc: 0.896\n",
      "\t [Batch 250 / 782] Train Loss: 0.301 \t Train Acc: 0.895\n",
      "\t [Batch 300 / 782] Train Loss: 0.300 \t Train Acc: 0.895\n",
      "\t [Batch 350 / 782] Train Loss: 0.302 \t Train Acc: 0.895\n",
      "\t [Batch 400 / 782] Train Loss: 0.301 \t Train Acc: 0.895\n",
      "\t [Batch 450 / 782] Train Loss: 0.304 \t Train Acc: 0.895\n",
      "\t [Batch 500 / 782] Train Loss: 0.307 \t Train Acc: 0.894\n",
      "\t [Batch 550 / 782] Train Loss: 0.307 \t Train Acc: 0.894\n",
      "\t [Batch 600 / 782] Train Loss: 0.309 \t Train Acc: 0.893\n",
      "\t [Batch 650 / 782] Train Loss: 0.310 \t Train Acc: 0.892\n",
      "\t [Batch 700 / 782] Train Loss: 0.310 \t Train Acc: 0.892\n",
      "\t [Batch 750 / 782] Train Loss: 0.317 \t Train Acc: 0.890\n",
      "Epoch 9:\t Train Loss: 0.317 \t Train Acc: 0.890\t Test Acc: 0.668\t Test Acc Flipped: 0.672\n",
      "Starting Epoch 10\n"
     ]
    },
    {
     "data": {
      "application/vnd.jupyter.widget-view+json": {
       "model_id": "cc3589193c834d7bacf7eaacb024081b",
       "version_major": 2,
       "version_minor": 0
      },
      "text/plain": [
       "  0%|          | 0/782 [00:00<?, ?it/s]"
      ]
     },
     "metadata": {},
     "output_type": "display_data"
    },
    {
     "name": "stdout",
     "output_type": "stream",
     "text": [
      "\t [Batch 50 / 782] Train Loss: 0.225 \t Train Acc: 0.925\n",
      "\t [Batch 100 / 782] Train Loss: 0.213 \t Train Acc: 0.928\n",
      "\t [Batch 150 / 782] Train Loss: 0.222 \t Train Acc: 0.925\n",
      "\t [Batch 200 / 782] Train Loss: 0.222 \t Train Acc: 0.925\n",
      "\t [Batch 250 / 782] Train Loss: 0.228 \t Train Acc: 0.923\n",
      "\t [Batch 300 / 782] Train Loss: 0.221 \t Train Acc: 0.926\n",
      "\t [Batch 350 / 782] Train Loss: 0.229 \t Train Acc: 0.923\n",
      "\t [Batch 400 / 782] Train Loss: 0.230 \t Train Acc: 0.922\n",
      "\t [Batch 450 / 782] Train Loss: 0.231 \t Train Acc: 0.922\n",
      "\t [Batch 500 / 782] Train Loss: 0.238 \t Train Acc: 0.920\n",
      "\t [Batch 550 / 782] Train Loss: 0.242 \t Train Acc: 0.919\n",
      "\t [Batch 600 / 782] Train Loss: 0.245 \t Train Acc: 0.918\n",
      "\t [Batch 650 / 782] Train Loss: 0.248 \t Train Acc: 0.917\n",
      "\t [Batch 700 / 782] Train Loss: 0.248 \t Train Acc: 0.917\n",
      "\t [Batch 750 / 782] Train Loss: 0.249 \t Train Acc: 0.916\n",
      "Epoch 10:\t Train Loss: 0.248 \t Train Acc: 0.916\t Test Acc: 0.682\t Test Acc Flipped: 0.674\n",
      "Starting Epoch 11\n"
     ]
    },
    {
     "data": {
      "application/vnd.jupyter.widget-view+json": {
       "model_id": "255d195335934a6a8cefec367aa660a4",
       "version_major": 2,
       "version_minor": 0
      },
      "text/plain": [
       "  0%|          | 0/782 [00:00<?, ?it/s]"
      ]
     },
     "metadata": {},
     "output_type": "display_data"
    },
    {
     "name": "stdout",
     "output_type": "stream",
     "text": [
      "\t [Batch 50 / 782] Train Loss: 0.192 \t Train Acc: 0.939\n",
      "\t [Batch 100 / 782] Train Loss: 0.172 \t Train Acc: 0.943\n",
      "\t [Batch 150 / 782] Train Loss: 0.178 \t Train Acc: 0.942\n",
      "\t [Batch 200 / 782] Train Loss: 0.178 \t Train Acc: 0.943\n",
      "\t [Batch 250 / 782] Train Loss: 0.175 \t Train Acc: 0.944\n",
      "\t [Batch 300 / 782] Train Loss: 0.178 \t Train Acc: 0.942\n",
      "\t [Batch 350 / 782] Train Loss: 0.179 \t Train Acc: 0.942\n",
      "\t [Batch 400 / 782] Train Loss: 0.180 \t Train Acc: 0.941\n",
      "\t [Batch 450 / 782] Train Loss: 0.186 \t Train Acc: 0.939\n",
      "\t [Batch 500 / 782] Train Loss: 0.190 \t Train Acc: 0.938\n",
      "\t [Batch 550 / 782] Train Loss: 0.192 \t Train Acc: 0.937\n",
      "\t [Batch 600 / 782] Train Loss: 0.195 \t Train Acc: 0.936\n",
      "\t [Batch 650 / 782] Train Loss: 0.194 \t Train Acc: 0.936\n",
      "\t [Batch 700 / 782] Train Loss: 0.196 \t Train Acc: 0.935\n",
      "\t [Batch 750 / 782] Train Loss: 0.196 \t Train Acc: 0.935\n",
      "Epoch 11:\t Train Loss: 0.196 \t Train Acc: 0.935\t Test Acc: 0.744\t Test Acc Flipped: 0.749\n",
      "Starting Epoch 12\n"
     ]
    },
    {
     "data": {
      "application/vnd.jupyter.widget-view+json": {
       "model_id": "c7a59ec2b4e64586afb9ded675ff31e6",
       "version_major": 2,
       "version_minor": 0
      },
      "text/plain": [
       "  0%|          | 0/782 [00:00<?, ?it/s]"
      ]
     },
     "metadata": {},
     "output_type": "display_data"
    },
    {
     "name": "stdout",
     "output_type": "stream",
     "text": [
      "\t [Batch 50 / 782] Train Loss: 0.106 \t Train Acc: 0.968\n",
      "\t [Batch 100 / 782] Train Loss: 0.100 \t Train Acc: 0.970\n",
      "\t [Batch 150 / 782] Train Loss: 0.103 \t Train Acc: 0.968\n",
      "\t [Batch 200 / 782] Train Loss: 0.100 \t Train Acc: 0.969\n",
      "\t [Batch 250 / 782] Train Loss: 0.100 \t Train Acc: 0.968\n",
      "\t [Batch 300 / 782] Train Loss: 0.098 \t Train Acc: 0.969\n",
      "\t [Batch 350 / 782] Train Loss: 0.095 \t Train Acc: 0.971\n",
      "\t [Batch 400 / 782] Train Loss: 0.097 \t Train Acc: 0.970\n",
      "\t [Batch 450 / 782] Train Loss: 0.104 \t Train Acc: 0.967\n",
      "\t [Batch 500 / 782] Train Loss: 0.103 \t Train Acc: 0.968\n",
      "\t [Batch 550 / 782] Train Loss: 0.105 \t Train Acc: 0.967\n",
      "\t [Batch 600 / 782] Train Loss: 0.111 \t Train Acc: 0.965\n",
      "\t [Batch 650 / 782] Train Loss: 0.113 \t Train Acc: 0.964\n",
      "\t [Batch 700 / 782] Train Loss: 0.115 \t Train Acc: 0.964\n",
      "\t [Batch 750 / 782] Train Loss: 0.117 \t Train Acc: 0.963\n",
      "Epoch 12:\t Train Loss: 0.119 \t Train Acc: 0.962\t Test Acc: 0.739\t Test Acc Flipped: 0.739\n",
      "Starting Epoch 13\n"
     ]
    },
    {
     "data": {
      "application/vnd.jupyter.widget-view+json": {
       "model_id": "1095ead3acf84e88b27ad0ebe4bea270",
       "version_major": 2,
       "version_minor": 0
      },
      "text/plain": [
       "  0%|          | 0/782 [00:00<?, ?it/s]"
      ]
     },
     "metadata": {},
     "output_type": "display_data"
    },
    {
     "name": "stdout",
     "output_type": "stream",
     "text": [
      "\t [Batch 50 / 782] Train Loss: 0.061 \t Train Acc: 0.983\n",
      "\t [Batch 100 / 782] Train Loss: 0.057 \t Train Acc: 0.985\n",
      "\t [Batch 150 / 782] Train Loss: 0.054 \t Train Acc: 0.986\n",
      "\t [Batch 200 / 782] Train Loss: 0.054 \t Train Acc: 0.986\n",
      "\t [Batch 250 / 782] Train Loss: 0.053 \t Train Acc: 0.986\n",
      "\t [Batch 300 / 782] Train Loss: 0.053 \t Train Acc: 0.986\n",
      "\t [Batch 350 / 782] Train Loss: 0.056 \t Train Acc: 0.985\n",
      "\t [Batch 400 / 782] Train Loss: 0.057 \t Train Acc: 0.984\n",
      "\t [Batch 450 / 782] Train Loss: 0.057 \t Train Acc: 0.984\n",
      "\t [Batch 500 / 782] Train Loss: 0.056 \t Train Acc: 0.984\n",
      "\t [Batch 550 / 782] Train Loss: 0.057 \t Train Acc: 0.984\n",
      "\t [Batch 600 / 782] Train Loss: 0.058 \t Train Acc: 0.984\n",
      "\t [Batch 650 / 782] Train Loss: 0.058 \t Train Acc: 0.984\n",
      "\t [Batch 700 / 782] Train Loss: 0.059 \t Train Acc: 0.983\n",
      "\t [Batch 750 / 782] Train Loss: 0.060 \t Train Acc: 0.983\n",
      "Epoch 13:\t Train Loss: 0.059 \t Train Acc: 0.983\t Test Acc: 0.795\t Test Acc Flipped: 0.786\n",
      "Starting Epoch 14\n"
     ]
    },
    {
     "data": {
      "application/vnd.jupyter.widget-view+json": {
       "model_id": "a6c9bdaea1eb4d69b6c18dfa96a79827",
       "version_major": 2,
       "version_minor": 0
      },
      "text/plain": [
       "  0%|          | 0/782 [00:00<?, ?it/s]"
      ]
     },
     "metadata": {},
     "output_type": "display_data"
    },
    {
     "name": "stdout",
     "output_type": "stream",
     "text": [
      "\t [Batch 50 / 782] Train Loss: 0.026 \t Train Acc: 0.995\n",
      "\t [Batch 100 / 782] Train Loss: 0.025 \t Train Acc: 0.996\n",
      "\t [Batch 150 / 782] Train Loss: 0.024 \t Train Acc: 0.996\n",
      "\t [Batch 200 / 782] Train Loss: 0.023 \t Train Acc: 0.996\n",
      "\t [Batch 250 / 782] Train Loss: 0.023 \t Train Acc: 0.996\n",
      "\t [Batch 300 / 782] Train Loss: 0.022 \t Train Acc: 0.997\n",
      "\t [Batch 350 / 782] Train Loss: 0.024 \t Train Acc: 0.996\n",
      "\t [Batch 400 / 782] Train Loss: 0.024 \t Train Acc: 0.996\n",
      "\t [Batch 450 / 782] Train Loss: 0.024 \t Train Acc: 0.996\n",
      "\t [Batch 500 / 782] Train Loss: 0.024 \t Train Acc: 0.996\n",
      "\t [Batch 550 / 782] Train Loss: 0.024 \t Train Acc: 0.996\n",
      "\t [Batch 600 / 782] Train Loss: 0.023 \t Train Acc: 0.996\n",
      "\t [Batch 650 / 782] Train Loss: 0.023 \t Train Acc: 0.996\n",
      "\t [Batch 700 / 782] Train Loss: 0.023 \t Train Acc: 0.996\n",
      "\t [Batch 750 / 782] Train Loss: 0.023 \t Train Acc: 0.996\n",
      "Epoch 14:\t Train Loss: 0.023 \t Train Acc: 0.996\t Test Acc: 0.792\t Test Acc Flipped: 0.799\n",
      "Starting Epoch 15\n"
     ]
    },
    {
     "data": {
      "application/vnd.jupyter.widget-view+json": {
       "model_id": "bcbbbff2db70475a8ddcab95c964a832",
       "version_major": 2,
       "version_minor": 0
      },
      "text/plain": [
       "  0%|          | 0/782 [00:00<?, ?it/s]"
      ]
     },
     "metadata": {},
     "output_type": "display_data"
    },
    {
     "name": "stdout",
     "output_type": "stream",
     "text": [
      "\t [Batch 50 / 782] Train Loss: 0.012 \t Train Acc: 0.999\n",
      "\t [Batch 100 / 782] Train Loss: 0.011 \t Train Acc: 0.999\n",
      "\t [Batch 150 / 782] Train Loss: 0.011 \t Train Acc: 0.999\n",
      "\t [Batch 200 / 782] Train Loss: 0.010 \t Train Acc: 0.999\n",
      "\t [Batch 250 / 782] Train Loss: 0.010 \t Train Acc: 0.999\n",
      "\t [Batch 300 / 782] Train Loss: 0.010 \t Train Acc: 0.999\n",
      "\t [Batch 350 / 782] Train Loss: 0.010 \t Train Acc: 0.999\n",
      "\t [Batch 400 / 782] Train Loss: 0.010 \t Train Acc: 0.999\n",
      "\t [Batch 450 / 782] Train Loss: 0.010 \t Train Acc: 0.999\n",
      "\t [Batch 500 / 782] Train Loss: 0.009 \t Train Acc: 0.999\n",
      "\t [Batch 550 / 782] Train Loss: 0.009 \t Train Acc: 0.999\n",
      "\t [Batch 600 / 782] Train Loss: 0.009 \t Train Acc: 0.999\n",
      "\t [Batch 650 / 782] Train Loss: 0.009 \t Train Acc: 0.999\n",
      "\t [Batch 700 / 782] Train Loss: 0.009 \t Train Acc: 0.999\n",
      "\t [Batch 750 / 782] Train Loss: 0.009 \t Train Acc: 0.999\n",
      "Epoch 15:\t Train Loss: 0.009 \t Train Acc: 1.000\t Test Acc: 0.827\t Test Acc Flipped: 0.827\n",
      "Starting Epoch 16\n"
     ]
    },
    {
     "data": {
      "application/vnd.jupyter.widget-view+json": {
       "model_id": "f9cef51b828844ceb2f969d28b5c4282",
       "version_major": 2,
       "version_minor": 0
      },
      "text/plain": [
       "  0%|          | 0/782 [00:00<?, ?it/s]"
      ]
     },
     "metadata": {},
     "output_type": "display_data"
    },
    {
     "name": "stdout",
     "output_type": "stream",
     "text": [
      "\t [Batch 50 / 782] Train Loss: 0.005 \t Train Acc: 1.000\n",
      "\t [Batch 100 / 782] Train Loss: 0.005 \t Train Acc: 1.000\n",
      "\t [Batch 150 / 782] Train Loss: 0.005 \t Train Acc: 1.000\n",
      "\t [Batch 200 / 782] Train Loss: 0.005 \t Train Acc: 1.000\n",
      "\t [Batch 250 / 782] Train Loss: 0.005 \t Train Acc: 1.000\n",
      "\t [Batch 300 / 782] Train Loss: 0.005 \t Train Acc: 1.000\n",
      "\t [Batch 350 / 782] Train Loss: 0.005 \t Train Acc: 1.000\n",
      "\t [Batch 400 / 782] Train Loss: 0.004 \t Train Acc: 1.000\n",
      "\t [Batch 450 / 782] Train Loss: 0.004 \t Train Acc: 1.000\n",
      "\t [Batch 500 / 782] Train Loss: 0.004 \t Train Acc: 1.000\n",
      "\t [Batch 550 / 782] Train Loss: 0.004 \t Train Acc: 1.000\n",
      "\t [Batch 600 / 782] Train Loss: 0.004 \t Train Acc: 1.000\n",
      "\t [Batch 650 / 782] Train Loss: 0.004 \t Train Acc: 1.000\n",
      "\t [Batch 700 / 782] Train Loss: 0.004 \t Train Acc: 1.000\n",
      "\t [Batch 750 / 782] Train Loss: 0.004 \t Train Acc: 1.000\n",
      "Epoch 16:\t Train Loss: 0.004 \t Train Acc: 1.000\t Test Acc: 0.838\t Test Acc Flipped: 0.833\n",
      "Starting Epoch 17\n"
     ]
    },
    {
     "data": {
      "application/vnd.jupyter.widget-view+json": {
       "model_id": "1e8755b8cb3a47dbb6da5d1a986e8a06",
       "version_major": 2,
       "version_minor": 0
      },
      "text/plain": [
       "  0%|          | 0/782 [00:00<?, ?it/s]"
      ]
     },
     "metadata": {},
     "output_type": "display_data"
    },
    {
     "name": "stdout",
     "output_type": "stream",
     "text": [
      "\t [Batch 50 / 782] Train Loss: 0.003 \t Train Acc: 1.000\n",
      "\t [Batch 100 / 782] Train Loss: 0.003 \t Train Acc: 1.000\n",
      "\t [Batch 150 / 782] Train Loss: 0.003 \t Train Acc: 1.000\n",
      "\t [Batch 200 / 782] Train Loss: 0.003 \t Train Acc: 1.000\n",
      "\t [Batch 250 / 782] Train Loss: 0.003 \t Train Acc: 1.000\n",
      "\t [Batch 300 / 782] Train Loss: 0.003 \t Train Acc: 1.000\n",
      "\t [Batch 350 / 782] Train Loss: 0.003 \t Train Acc: 1.000\n",
      "\t [Batch 400 / 782] Train Loss: 0.003 \t Train Acc: 1.000\n",
      "\t [Batch 450 / 782] Train Loss: 0.003 \t Train Acc: 1.000\n",
      "\t [Batch 500 / 782] Train Loss: 0.003 \t Train Acc: 1.000\n",
      "\t [Batch 550 / 782] Train Loss: 0.003 \t Train Acc: 1.000\n",
      "\t [Batch 600 / 782] Train Loss: 0.003 \t Train Acc: 1.000\n",
      "\t [Batch 650 / 782] Train Loss: 0.003 \t Train Acc: 1.000\n",
      "\t [Batch 700 / 782] Train Loss: 0.003 \t Train Acc: 1.000\n",
      "\t [Batch 750 / 782] Train Loss: 0.003 \t Train Acc: 1.000\n",
      "Epoch 17:\t Train Loss: 0.003 \t Train Acc: 1.000\t Test Acc: 0.840\t Test Acc Flipped: 0.837\n",
      "Starting Epoch 18\n"
     ]
    },
    {
     "data": {
      "application/vnd.jupyter.widget-view+json": {
       "model_id": "2a4ab10fe79f4da68e15f3a44ebf7d20",
       "version_major": 2,
       "version_minor": 0
      },
      "text/plain": [
       "  0%|          | 0/782 [00:00<?, ?it/s]"
      ]
     },
     "metadata": {},
     "output_type": "display_data"
    },
    {
     "name": "stdout",
     "output_type": "stream",
     "text": [
      "\t [Batch 50 / 782] Train Loss: 0.002 \t Train Acc: 1.000\n",
      "\t [Batch 100 / 782] Train Loss: 0.002 \t Train Acc: 1.000\n",
      "\t [Batch 150 / 782] Train Loss: 0.002 \t Train Acc: 1.000\n",
      "\t [Batch 200 / 782] Train Loss: 0.002 \t Train Acc: 1.000\n",
      "\t [Batch 250 / 782] Train Loss: 0.002 \t Train Acc: 1.000\n",
      "\t [Batch 300 / 782] Train Loss: 0.002 \t Train Acc: 1.000\n",
      "\t [Batch 350 / 782] Train Loss: 0.002 \t Train Acc: 1.000\n",
      "\t [Batch 400 / 782] Train Loss: 0.002 \t Train Acc: 1.000\n",
      "\t [Batch 450 / 782] Train Loss: 0.002 \t Train Acc: 1.000\n",
      "\t [Batch 500 / 782] Train Loss: 0.002 \t Train Acc: 1.000\n",
      "\t [Batch 550 / 782] Train Loss: 0.002 \t Train Acc: 1.000\n",
      "\t [Batch 600 / 782] Train Loss: 0.002 \t Train Acc: 1.000\n",
      "\t [Batch 650 / 782] Train Loss: 0.002 \t Train Acc: 1.000\n",
      "\t [Batch 700 / 782] Train Loss: 0.002 \t Train Acc: 1.000\n",
      "\t [Batch 750 / 782] Train Loss: 0.002 \t Train Acc: 1.000\n",
      "Epoch 18:\t Train Loss: 0.002 \t Train Acc: 1.000\t Test Acc: 0.838\t Test Acc Flipped: 0.832\n",
      "Starting Epoch 19\n"
     ]
    },
    {
     "data": {
      "application/vnd.jupyter.widget-view+json": {
       "model_id": "e4f1dce7f49345f3938b21b6c186cc27",
       "version_major": 2,
       "version_minor": 0
      },
      "text/plain": [
       "  0%|          | 0/782 [00:00<?, ?it/s]"
      ]
     },
     "metadata": {},
     "output_type": "display_data"
    },
    {
     "name": "stdout",
     "output_type": "stream",
     "text": [
      "\t [Batch 50 / 782] Train Loss: 0.002 \t Train Acc: 1.000\n",
      "\t [Batch 100 / 782] Train Loss: 0.002 \t Train Acc: 1.000\n",
      "\t [Batch 150 / 782] Train Loss: 0.002 \t Train Acc: 1.000\n",
      "\t [Batch 200 / 782] Train Loss: 0.002 \t Train Acc: 1.000\n",
      "\t [Batch 250 / 782] Train Loss: 0.002 \t Train Acc: 1.000\n",
      "\t [Batch 300 / 782] Train Loss: 0.002 \t Train Acc: 1.000\n",
      "\t [Batch 350 / 782] Train Loss: 0.002 \t Train Acc: 1.000\n",
      "\t [Batch 400 / 782] Train Loss: 0.002 \t Train Acc: 1.000\n",
      "\t [Batch 450 / 782] Train Loss: 0.002 \t Train Acc: 1.000\n",
      "\t [Batch 500 / 782] Train Loss: 0.002 \t Train Acc: 1.000\n",
      "\t [Batch 550 / 782] Train Loss: 0.002 \t Train Acc: 1.000\n",
      "\t [Batch 600 / 782] Train Loss: 0.002 \t Train Acc: 1.000\n",
      "\t [Batch 650 / 782] Train Loss: 0.002 \t Train Acc: 1.000\n",
      "\t [Batch 700 / 782] Train Loss: 0.002 \t Train Acc: 1.000\n",
      "\t [Batch 750 / 782] Train Loss: 0.002 \t Train Acc: 1.000\n",
      "Epoch 19:\t Train Loss: 0.002 \t Train Acc: 1.000\t Test Acc: 0.841\t Test Acc Flipped: 0.836\n"
     ]
    }
   ],
   "source": [
    "model_combined = make_cnn()\n",
    "opt = torch.optim.SGD(model_combined.parameters(), lr=0.1)\n",
    "epochs = 20\n",
    "for i in range(epochs):\n",
    "    print(f'Starting Epoch {i}')\n",
    "    train_loss, train_acc = train_epoch(model_combined, train_combined_dl, opt)\n",
    "    test_loss, test_acc = evaluate(model_combined, test_dl)\n",
    "    test_loss_flipped, test_acc_flipped = evaluate(model_combined, test_dl_flipped)\n",
    "    \n",
    "    print(f'Epoch {i}:\\t Train Loss: {train_loss:.3f} \\t Train Acc: {train_acc:.3f}\\t ' + \n",
    "          f'Test Acc: {test_acc:.3f}\\t Test Acc Flipped: {test_acc_flipped:.3f}')"
   ]
  },
  {
   "cell_type": "markdown",
   "metadata": {},
   "source": [
    "## Randomizing Labels in the Dataset"
   ]
  },
  {
   "cell_type": "code",
   "execution_count": 5,
   "metadata": {},
   "outputs": [],
   "source": [
    "def randomize_labels(labels, p):\n",
    "    rand = torch.where(torch.rand(size=labels.shape) < p, torch.tensor([1]), torch.tensor([0])) \n",
    "    return rand * torch.randint(low=0, high=10, size=labels.shape) + (1 - rand) * labels"
   ]
  },
  {
   "cell_type": "code",
   "execution_count": 6,
   "metadata": {},
   "outputs": [],
   "source": [
    "p_vals = [0, 0.5, 1.0]\n",
    "training_labels = []\n",
    "testing_labels = []\n",
    "for p in p_vals:\n",
    "    training_labels.append(randomize_labels(Y_tr, p))\n",
    "    testing_labels.append(randomize_labels(Y_te, p))"
   ]
  },
  {
   "cell_type": "code",
   "execution_count": 15,
   "metadata": {},
   "outputs": [
    {
     "name": "stdout",
     "output_type": "stream",
     "text": [
      "Epoch 0:\t Train Loss: 1.726 \t Train Acc: 0.372\t Test Acc: 0.308\n",
      "Epoch 2:\t Train Loss: 1.288 \t Train Acc: 0.536\t Test Acc: 0.427\n",
      "Epoch 4:\t Train Loss: 1.127 \t Train Acc: 0.599\t Test Acc: 0.537\n",
      "Epoch 6:\t Train Loss: 1.045 \t Train Acc: 0.630\t Test Acc: 0.559\n",
      "Epoch 8:\t Train Loss: 0.995 \t Train Acc: 0.647\t Test Acc: 0.620\n",
      "Epoch 10:\t Train Loss: 0.961 \t Train Acc: 0.659\t Test Acc: 0.620\n",
      "Epoch 12:\t Train Loss: 0.934 \t Train Acc: 0.671\t Test Acc: 0.578\n",
      "Epoch 14:\t Train Loss: 0.918 \t Train Acc: 0.676\t Test Acc: 0.632\n",
      "Epoch 16:\t Train Loss: 0.896 \t Train Acc: 0.683\t Test Acc: 0.641\n",
      "Epoch 18:\t Train Loss: 0.889 \t Train Acc: 0.684\t Test Acc: 0.642\n",
      "Epoch 20:\t Train Loss: 0.873 \t Train Acc: 0.691\t Test Acc: 0.635\n",
      "Epoch 22:\t Train Loss: 0.862 \t Train Acc: 0.695\t Test Acc: 0.638\n",
      "Epoch 24:\t Train Loss: 0.854 \t Train Acc: 0.697\t Test Acc: 0.649\n",
      "Epoch 26:\t Train Loss: 0.847 \t Train Acc: 0.700\t Test Acc: 0.636\n",
      "Epoch 28:\t Train Loss: 0.839 \t Train Acc: 0.703\t Test Acc: 0.613\n",
      "Epoch 30:\t Train Loss: 0.830 \t Train Acc: 0.705\t Test Acc: 0.652\n",
      "Epoch 32:\t Train Loss: 0.822 \t Train Acc: 0.709\t Test Acc: 0.656\n",
      "Epoch 34:\t Train Loss: 0.818 \t Train Acc: 0.710\t Test Acc: 0.642\n",
      "Epoch 36:\t Train Loss: 0.812 \t Train Acc: 0.712\t Test Acc: 0.626\n",
      "Epoch 38:\t Train Loss: 0.808 \t Train Acc: 0.715\t Test Acc: 0.658\n",
      "Epoch 40:\t Train Loss: 0.804 \t Train Acc: 0.715\t Test Acc: 0.658\n",
      "Epoch 42:\t Train Loss: 0.798 \t Train Acc: 0.717\t Test Acc: 0.658\n",
      "Epoch 44:\t Train Loss: 0.795 \t Train Acc: 0.719\t Test Acc: 0.658\n",
      "Epoch 46:\t Train Loss: 0.794 \t Train Acc: 0.716\t Test Acc: 0.649\n",
      "Epoch 48:\t Train Loss: 0.788 \t Train Acc: 0.721\t Test Acc: 0.644\n",
      "Epoch 50:\t Train Loss: 0.784 \t Train Acc: 0.722\t Test Acc: 0.651\n",
      "Epoch 52:\t Train Loss: 0.781 \t Train Acc: 0.723\t Test Acc: 0.644\n",
      "Epoch 54:\t Train Loss: 0.778 \t Train Acc: 0.724\t Test Acc: 0.643\n",
      "Epoch 56:\t Train Loss: 0.776 \t Train Acc: 0.723\t Test Acc: 0.658\n",
      "Epoch 58:\t Train Loss: 0.771 \t Train Acc: 0.725\t Test Acc: 0.654\n",
      "Epoch 60:\t Train Loss: 0.768 \t Train Acc: 0.727\t Test Acc: 0.657\n",
      "Epoch 62:\t Train Loss: 0.765 \t Train Acc: 0.729\t Test Acc: 0.647\n",
      "Epoch 64:\t Train Loss: 0.765 \t Train Acc: 0.728\t Test Acc: 0.651\n",
      "Epoch 66:\t Train Loss: 0.761 \t Train Acc: 0.729\t Test Acc: 0.650\n",
      "Epoch 68:\t Train Loss: 0.760 \t Train Acc: 0.728\t Test Acc: 0.656\n",
      "Epoch 70:\t Train Loss: 0.759 \t Train Acc: 0.731\t Test Acc: 0.651\n",
      "Epoch 72:\t Train Loss: 0.755 \t Train Acc: 0.731\t Test Acc: 0.655\n",
      "Epoch 74:\t Train Loss: 0.755 \t Train Acc: 0.731\t Test Acc: 0.651\n",
      "Epoch 76:\t Train Loss: 0.753 \t Train Acc: 0.733\t Test Acc: 0.654\n",
      "Epoch 78:\t Train Loss: 0.750 \t Train Acc: 0.734\t Test Acc: 0.652\n",
      "Epoch 80:\t Train Loss: 0.746 \t Train Acc: 0.735\t Test Acc: 0.647\n",
      "Epoch 82:\t Train Loss: 0.745 \t Train Acc: 0.734\t Test Acc: 0.656\n",
      "Epoch 84:\t Train Loss: 0.744 \t Train Acc: 0.734\t Test Acc: 0.652\n",
      "Epoch 86:\t Train Loss: 0.743 \t Train Acc: 0.736\t Test Acc: 0.650\n",
      "Epoch 88:\t Train Loss: 0.739 \t Train Acc: 0.737\t Test Acc: 0.661\n",
      "Epoch 90:\t Train Loss: 0.740 \t Train Acc: 0.736\t Test Acc: 0.657\n",
      "Epoch 92:\t Train Loss: 0.738 \t Train Acc: 0.737\t Test Acc: 0.662\n",
      "Epoch 94:\t Train Loss: 0.736 \t Train Acc: 0.737\t Test Acc: 0.657\n",
      "Epoch 96:\t Train Loss: 0.735 \t Train Acc: 0.738\t Test Acc: 0.659\n",
      "Epoch 98:\t Train Loss: 0.733 \t Train Acc: 0.741\t Test Acc: 0.658\n",
      "Epoch 100:\t Train Loss: 0.733 \t Train Acc: 0.741\t Test Acc: 0.657\n",
      "Epoch 102:\t Train Loss: 0.730 \t Train Acc: 0.741\t Test Acc: 0.655\n",
      "Epoch 104:\t Train Loss: 0.728 \t Train Acc: 0.740\t Test Acc: 0.663\n",
      "Epoch 106:\t Train Loss: 0.728 \t Train Acc: 0.740\t Test Acc: 0.653\n",
      "Epoch 108:\t Train Loss: 0.727 \t Train Acc: 0.741\t Test Acc: 0.655\n",
      "Epoch 110:\t Train Loss: 0.724 \t Train Acc: 0.742\t Test Acc: 0.662\n",
      "Epoch 112:\t Train Loss: 0.724 \t Train Acc: 0.742\t Test Acc: 0.658\n",
      "Epoch 114:\t Train Loss: 0.723 \t Train Acc: 0.742\t Test Acc: 0.658\n",
      "Epoch 116:\t Train Loss: 0.721 \t Train Acc: 0.742\t Test Acc: 0.656\n",
      "Epoch 118:\t Train Loss: 0.718 \t Train Acc: 0.745\t Test Acc: 0.652\n",
      "Epoch 120:\t Train Loss: 0.719 \t Train Acc: 0.744\t Test Acc: 0.660\n",
      "Epoch 122:\t Train Loss: 0.716 \t Train Acc: 0.743\t Test Acc: 0.656\n",
      "Epoch 124:\t Train Loss: 0.715 \t Train Acc: 0.747\t Test Acc: 0.660\n",
      "Epoch 126:\t Train Loss: 0.714 \t Train Acc: 0.744\t Test Acc: 0.654\n",
      "Epoch 128:\t Train Loss: 0.714 \t Train Acc: 0.746\t Test Acc: 0.653\n",
      "Epoch 130:\t Train Loss: 0.713 \t Train Acc: 0.747\t Test Acc: 0.657\n",
      "Epoch 132:\t Train Loss: 0.713 \t Train Acc: 0.745\t Test Acc: 0.660\n",
      "Epoch 134:\t Train Loss: 0.709 \t Train Acc: 0.748\t Test Acc: 0.661\n",
      "Epoch 136:\t Train Loss: 0.711 \t Train Acc: 0.745\t Test Acc: 0.657\n",
      "Epoch 138:\t Train Loss: 0.708 \t Train Acc: 0.747\t Test Acc: 0.661\n",
      "Epoch 140:\t Train Loss: 0.709 \t Train Acc: 0.748\t Test Acc: 0.656\n",
      "Epoch 142:\t Train Loss: 0.708 \t Train Acc: 0.747\t Test Acc: 0.653\n",
      "Epoch 144:\t Train Loss: 0.705 \t Train Acc: 0.749\t Test Acc: 0.660\n",
      "Epoch 146:\t Train Loss: 0.706 \t Train Acc: 0.748\t Test Acc: 0.661\n",
      "Epoch 148:\t Train Loss: 0.705 \t Train Acc: 0.749\t Test Acc: 0.656\n",
      "Epoch 150:\t Train Loss: 0.706 \t Train Acc: 0.748\t Test Acc: 0.656\n",
      "Epoch 152:\t Train Loss: 0.705 \t Train Acc: 0.750\t Test Acc: 0.653\n",
      "Epoch 154:\t Train Loss: 0.704 \t Train Acc: 0.750\t Test Acc: 0.655\n",
      "Epoch 156:\t Train Loss: 0.703 \t Train Acc: 0.749\t Test Acc: 0.660\n",
      "Epoch 158:\t Train Loss: 0.701 \t Train Acc: 0.751\t Test Acc: 0.657\n",
      "Epoch 160:\t Train Loss: 0.702 \t Train Acc: 0.749\t Test Acc: 0.659\n",
      "Epoch 162:\t Train Loss: 0.701 \t Train Acc: 0.750\t Test Acc: 0.659\n",
      "Epoch 164:\t Train Loss: 0.698 \t Train Acc: 0.751\t Test Acc: 0.657\n",
      "Epoch 166:\t Train Loss: 0.698 \t Train Acc: 0.752\t Test Acc: 0.657\n",
      "Epoch 168:\t Train Loss: 0.698 \t Train Acc: 0.752\t Test Acc: 0.658\n",
      "Epoch 170:\t Train Loss: 0.697 \t Train Acc: 0.752\t Test Acc: 0.661\n",
      "Epoch 172:\t Train Loss: 0.697 \t Train Acc: 0.752\t Test Acc: 0.659\n",
      "Epoch 174:\t Train Loss: 0.697 \t Train Acc: 0.751\t Test Acc: 0.661\n",
      "Epoch 176:\t Train Loss: 0.694 \t Train Acc: 0.754\t Test Acc: 0.660\n",
      "Epoch 178:\t Train Loss: 0.693 \t Train Acc: 0.753\t Test Acc: 0.657\n",
      "Epoch 180:\t Train Loss: 0.693 \t Train Acc: 0.754\t Test Acc: 0.652\n",
      "Epoch 182:\t Train Loss: 0.691 \t Train Acc: 0.755\t Test Acc: 0.659\n",
      "Epoch 184:\t Train Loss: 0.691 \t Train Acc: 0.754\t Test Acc: 0.656\n",
      "Epoch 186:\t Train Loss: 0.692 \t Train Acc: 0.753\t Test Acc: 0.660\n",
      "Epoch 188:\t Train Loss: 0.690 \t Train Acc: 0.755\t Test Acc: 0.657\n",
      "Epoch 190:\t Train Loss: 0.688 \t Train Acc: 0.754\t Test Acc: 0.656\n",
      "Epoch 192:\t Train Loss: 0.690 \t Train Acc: 0.754\t Test Acc: 0.658\n",
      "Epoch 194:\t Train Loss: 0.689 \t Train Acc: 0.756\t Test Acc: 0.659\n",
      "Epoch 196:\t Train Loss: 0.688 \t Train Acc: 0.754\t Test Acc: 0.659\n",
      "Epoch 198:\t Train Loss: 0.688 \t Train Acc: 0.756\t Test Acc: 0.653\n",
      "Epoch 0:\t Train Loss: 2.220 \t Train Acc: 0.199\t Test Acc: 0.229\n",
      "Epoch 2:\t Train Loss: 2.124 \t Train Acc: 0.272\t Test Acc: 0.280\n",
      "Epoch 4:\t Train Loss: 2.092 \t Train Acc: 0.293\t Test Acc: 0.260\n",
      "Epoch 6:\t Train Loss: 2.071 \t Train Acc: 0.305\t Test Acc: 0.278\n",
      "Epoch 8:\t Train Loss: 2.052 \t Train Acc: 0.321\t Test Acc: 0.284\n",
      "Epoch 10:\t Train Loss: 2.038 \t Train Acc: 0.326\t Test Acc: 0.314\n",
      "Epoch 12:\t Train Loss: 2.025 \t Train Acc: 0.333\t Test Acc: 0.276\n",
      "Epoch 14:\t Train Loss: 2.013 \t Train Acc: 0.338\t Test Acc: 0.315\n",
      "Epoch 16:\t Train Loss: 2.006 \t Train Acc: 0.345\t Test Acc: 0.312\n",
      "Epoch 18:\t Train Loss: 1.997 \t Train Acc: 0.349\t Test Acc: 0.321\n",
      "Epoch 20:\t Train Loss: 1.989 \t Train Acc: 0.349\t Test Acc: 0.301\n",
      "Epoch 22:\t Train Loss: 1.983 \t Train Acc: 0.353\t Test Acc: 0.314\n",
      "Epoch 24:\t Train Loss: 1.977 \t Train Acc: 0.354\t Test Acc: 0.324\n",
      "Epoch 26:\t Train Loss: 1.972 \t Train Acc: 0.356\t Test Acc: 0.319\n",
      "Epoch 28:\t Train Loss: 1.966 \t Train Acc: 0.360\t Test Acc: 0.317\n",
      "Epoch 30:\t Train Loss: 1.963 \t Train Acc: 0.357\t Test Acc: 0.315\n",
      "Epoch 32:\t Train Loss: 1.957 \t Train Acc: 0.361\t Test Acc: 0.305\n",
      "Epoch 34:\t Train Loss: 1.954 \t Train Acc: 0.363\t Test Acc: 0.310\n",
      "Epoch 36:\t Train Loss: 1.950 \t Train Acc: 0.365\t Test Acc: 0.310\n",
      "Epoch 38:\t Train Loss: 1.946 \t Train Acc: 0.364\t Test Acc: 0.318\n",
      "Epoch 40:\t Train Loss: 1.942 \t Train Acc: 0.366\t Test Acc: 0.305\n",
      "Epoch 42:\t Train Loss: 1.939 \t Train Acc: 0.367\t Test Acc: 0.291\n",
      "Epoch 44:\t Train Loss: 1.937 \t Train Acc: 0.366\t Test Acc: 0.308\n",
      "Epoch 46:\t Train Loss: 1.933 \t Train Acc: 0.371\t Test Acc: 0.314\n",
      "Epoch 48:\t Train Loss: 1.930 \t Train Acc: 0.370\t Test Acc: 0.316\n",
      "Epoch 50:\t Train Loss: 1.929 \t Train Acc: 0.370\t Test Acc: 0.303\n",
      "Epoch 52:\t Train Loss: 1.926 \t Train Acc: 0.371\t Test Acc: 0.309\n",
      "Epoch 54:\t Train Loss: 1.923 \t Train Acc: 0.372\t Test Acc: 0.308\n",
      "Epoch 56:\t Train Loss: 1.923 \t Train Acc: 0.370\t Test Acc: 0.315\n",
      "Epoch 58:\t Train Loss: 1.919 \t Train Acc: 0.374\t Test Acc: 0.311\n",
      "Epoch 60:\t Train Loss: 1.918 \t Train Acc: 0.372\t Test Acc: 0.309\n",
      "Epoch 62:\t Train Loss: 1.916 \t Train Acc: 0.374\t Test Acc: 0.307\n",
      "Epoch 64:\t Train Loss: 1.914 \t Train Acc: 0.375\t Test Acc: 0.313\n",
      "Epoch 66:\t Train Loss: 1.913 \t Train Acc: 0.374\t Test Acc: 0.310\n",
      "Epoch 68:\t Train Loss: 1.911 \t Train Acc: 0.374\t Test Acc: 0.315\n",
      "Epoch 70:\t Train Loss: 1.909 \t Train Acc: 0.374\t Test Acc: 0.312\n",
      "Epoch 72:\t Train Loss: 1.908 \t Train Acc: 0.376\t Test Acc: 0.310\n",
      "Epoch 74:\t Train Loss: 1.906 \t Train Acc: 0.376\t Test Acc: 0.307\n",
      "Epoch 76:\t Train Loss: 1.904 \t Train Acc: 0.377\t Test Acc: 0.309\n",
      "Epoch 78:\t Train Loss: 1.903 \t Train Acc: 0.377\t Test Acc: 0.313\n",
      "Epoch 80:\t Train Loss: 1.901 \t Train Acc: 0.379\t Test Acc: 0.317\n",
      "Epoch 82:\t Train Loss: 1.899 \t Train Acc: 0.379\t Test Acc: 0.305\n",
      "Epoch 84:\t Train Loss: 1.899 \t Train Acc: 0.380\t Test Acc: 0.308\n",
      "Epoch 86:\t Train Loss: 1.898 \t Train Acc: 0.379\t Test Acc: 0.302\n",
      "Epoch 88:\t Train Loss: 1.896 \t Train Acc: 0.380\t Test Acc: 0.311\n",
      "Epoch 90:\t Train Loss: 1.896 \t Train Acc: 0.379\t Test Acc: 0.303\n",
      "Epoch 92:\t Train Loss: 1.894 \t Train Acc: 0.380\t Test Acc: 0.308\n",
      "Epoch 94:\t Train Loss: 1.893 \t Train Acc: 0.381\t Test Acc: 0.310\n",
      "Epoch 96:\t Train Loss: 1.892 \t Train Acc: 0.381\t Test Acc: 0.305\n",
      "Epoch 98:\t Train Loss: 1.892 \t Train Acc: 0.382\t Test Acc: 0.306\n",
      "Epoch 100:\t Train Loss: 1.890 \t Train Acc: 0.381\t Test Acc: 0.307\n",
      "Epoch 102:\t Train Loss: 1.888 \t Train Acc: 0.383\t Test Acc: 0.307\n",
      "Epoch 104:\t Train Loss: 1.889 \t Train Acc: 0.382\t Test Acc: 0.310\n",
      "Epoch 106:\t Train Loss: 1.888 \t Train Acc: 0.383\t Test Acc: 0.304\n",
      "Epoch 108:\t Train Loss: 1.886 \t Train Acc: 0.381\t Test Acc: 0.308\n",
      "Epoch 110:\t Train Loss: 1.885 \t Train Acc: 0.383\t Test Acc: 0.304\n",
      "Epoch 112:\t Train Loss: 1.885 \t Train Acc: 0.382\t Test Acc: 0.310\n",
      "Epoch 114:\t Train Loss: 1.884 \t Train Acc: 0.383\t Test Acc: 0.306\n",
      "Epoch 116:\t Train Loss: 1.881 \t Train Acc: 0.384\t Test Acc: 0.301\n",
      "Epoch 118:\t Train Loss: 1.883 \t Train Acc: 0.384\t Test Acc: 0.307\n",
      "Epoch 120:\t Train Loss: 1.882 \t Train Acc: 0.385\t Test Acc: 0.304\n",
      "Epoch 122:\t Train Loss: 1.879 \t Train Acc: 0.384\t Test Acc: 0.306\n",
      "Epoch 124:\t Train Loss: 1.880 \t Train Acc: 0.384\t Test Acc: 0.308\n",
      "Epoch 126:\t Train Loss: 1.879 \t Train Acc: 0.385\t Test Acc: 0.311\n",
      "Epoch 128:\t Train Loss: 1.878 \t Train Acc: 0.385\t Test Acc: 0.301\n",
      "Epoch 130:\t Train Loss: 1.879 \t Train Acc: 0.385\t Test Acc: 0.307\n",
      "Epoch 132:\t Train Loss: 1.877 \t Train Acc: 0.386\t Test Acc: 0.309\n",
      "Epoch 134:\t Train Loss: 1.876 \t Train Acc: 0.384\t Test Acc: 0.305\n",
      "Epoch 136:\t Train Loss: 1.876 \t Train Acc: 0.385\t Test Acc: 0.309\n",
      "Epoch 138:\t Train Loss: 1.874 \t Train Acc: 0.386\t Test Acc: 0.302\n",
      "Epoch 140:\t Train Loss: 1.875 \t Train Acc: 0.387\t Test Acc: 0.308\n",
      "Epoch 142:\t Train Loss: 1.873 \t Train Acc: 0.386\t Test Acc: 0.309\n",
      "Epoch 144:\t Train Loss: 1.873 \t Train Acc: 0.386\t Test Acc: 0.303\n",
      "Epoch 146:\t Train Loss: 1.873 \t Train Acc: 0.387\t Test Acc: 0.305\n",
      "Epoch 148:\t Train Loss: 1.872 \t Train Acc: 0.387\t Test Acc: 0.307\n",
      "Epoch 150:\t Train Loss: 1.872 \t Train Acc: 0.387\t Test Acc: 0.304\n",
      "Epoch 152:\t Train Loss: 1.871 \t Train Acc: 0.387\t Test Acc: 0.309\n",
      "Epoch 154:\t Train Loss: 1.870 \t Train Acc: 0.387\t Test Acc: 0.306\n",
      "Epoch 156:\t Train Loss: 1.870 \t Train Acc: 0.387\t Test Acc: 0.303\n",
      "Epoch 158:\t Train Loss: 1.870 \t Train Acc: 0.389\t Test Acc: 0.309\n",
      "Epoch 160:\t Train Loss: 1.869 \t Train Acc: 0.388\t Test Acc: 0.301\n",
      "Epoch 162:\t Train Loss: 1.870 \t Train Acc: 0.388\t Test Acc: 0.303\n",
      "Epoch 164:\t Train Loss: 1.867 \t Train Acc: 0.389\t Test Acc: 0.306\n",
      "Epoch 166:\t Train Loss: 1.867 \t Train Acc: 0.389\t Test Acc: 0.304\n",
      "Epoch 168:\t Train Loss: 1.867 \t Train Acc: 0.388\t Test Acc: 0.308\n",
      "Epoch 170:\t Train Loss: 1.866 \t Train Acc: 0.387\t Test Acc: 0.302\n",
      "Epoch 172:\t Train Loss: 1.866 \t Train Acc: 0.389\t Test Acc: 0.306\n",
      "Epoch 174:\t Train Loss: 1.865 \t Train Acc: 0.387\t Test Acc: 0.306\n",
      "Epoch 176:\t Train Loss: 1.865 \t Train Acc: 0.388\t Test Acc: 0.306\n",
      "Epoch 178:\t Train Loss: 1.864 \t Train Acc: 0.391\t Test Acc: 0.306\n",
      "Epoch 180:\t Train Loss: 1.862 \t Train Acc: 0.390\t Test Acc: 0.306\n",
      "Epoch 182:\t Train Loss: 1.864 \t Train Acc: 0.390\t Test Acc: 0.308\n",
      "Epoch 184:\t Train Loss: 1.863 \t Train Acc: 0.388\t Test Acc: 0.304\n",
      "Epoch 186:\t Train Loss: 1.862 \t Train Acc: 0.389\t Test Acc: 0.303\n",
      "Epoch 188:\t Train Loss: 1.862 \t Train Acc: 0.390\t Test Acc: 0.303\n",
      "Epoch 190:\t Train Loss: 1.861 \t Train Acc: 0.390\t Test Acc: 0.304\n",
      "Epoch 192:\t Train Loss: 1.861 \t Train Acc: 0.389\t Test Acc: 0.307\n",
      "Epoch 194:\t Train Loss: 1.861 \t Train Acc: 0.389\t Test Acc: 0.300\n",
      "Epoch 196:\t Train Loss: 1.859 \t Train Acc: 0.391\t Test Acc: 0.304\n",
      "Epoch 198:\t Train Loss: 1.861 \t Train Acc: 0.390\t Test Acc: 0.308\n",
      "Epoch 0:\t Train Loss: 2.323 \t Train Acc: 0.098\t Test Acc: 0.096\n",
      "Epoch 2:\t Train Loss: 2.305 \t Train Acc: 0.104\t Test Acc: 0.102\n",
      "Epoch 4:\t Train Loss: 2.303 \t Train Acc: 0.105\t Test Acc: 0.103\n",
      "Epoch 6:\t Train Loss: 2.303 \t Train Acc: 0.107\t Test Acc: 0.100\n",
      "Epoch 8:\t Train Loss: 2.301 \t Train Acc: 0.109\t Test Acc: 0.101\n",
      "Epoch 10:\t Train Loss: 2.301 \t Train Acc: 0.109\t Test Acc: 0.101\n",
      "Epoch 12:\t Train Loss: 2.299 \t Train Acc: 0.113\t Test Acc: 0.102\n",
      "Epoch 14:\t Train Loss: 2.298 \t Train Acc: 0.114\t Test Acc: 0.101\n",
      "Epoch 16:\t Train Loss: 2.297 \t Train Acc: 0.117\t Test Acc: 0.100\n",
      "Epoch 18:\t Train Loss: 2.295 \t Train Acc: 0.119\t Test Acc: 0.103\n",
      "Epoch 20:\t Train Loss: 2.294 \t Train Acc: 0.122\t Test Acc: 0.101\n",
      "Epoch 22:\t Train Loss: 2.292 \t Train Acc: 0.126\t Test Acc: 0.095\n",
      "Epoch 24:\t Train Loss: 2.290 \t Train Acc: 0.128\t Test Acc: 0.101\n",
      "Epoch 26:\t Train Loss: 2.287 \t Train Acc: 0.132\t Test Acc: 0.099\n",
      "Epoch 28:\t Train Loss: 2.285 \t Train Acc: 0.133\t Test Acc: 0.095\n",
      "Epoch 30:\t Train Loss: 2.284 \t Train Acc: 0.134\t Test Acc: 0.098\n",
      "Epoch 32:\t Train Loss: 2.281 \t Train Acc: 0.138\t Test Acc: 0.097\n",
      "Epoch 34:\t Train Loss: 2.278 \t Train Acc: 0.139\t Test Acc: 0.100\n",
      "Epoch 36:\t Train Loss: 2.276 \t Train Acc: 0.142\t Test Acc: 0.104\n",
      "Epoch 38:\t Train Loss: 2.272 \t Train Acc: 0.145\t Test Acc: 0.099\n",
      "Epoch 40:\t Train Loss: 2.271 \t Train Acc: 0.146\t Test Acc: 0.098\n",
      "Epoch 42:\t Train Loss: 2.268 \t Train Acc: 0.147\t Test Acc: 0.099\n",
      "Epoch 44:\t Train Loss: 2.265 \t Train Acc: 0.148\t Test Acc: 0.098\n",
      "Epoch 46:\t Train Loss: 2.263 \t Train Acc: 0.151\t Test Acc: 0.094\n",
      "Epoch 48:\t Train Loss: 2.260 \t Train Acc: 0.154\t Test Acc: 0.101\n",
      "Epoch 50:\t Train Loss: 2.257 \t Train Acc: 0.152\t Test Acc: 0.102\n",
      "Epoch 52:\t Train Loss: 2.253 \t Train Acc: 0.159\t Test Acc: 0.101\n",
      "Epoch 54:\t Train Loss: 2.251 \t Train Acc: 0.159\t Test Acc: 0.097\n",
      "Epoch 56:\t Train Loss: 2.248 \t Train Acc: 0.161\t Test Acc: 0.099\n",
      "Epoch 58:\t Train Loss: 2.245 \t Train Acc: 0.165\t Test Acc: 0.097\n",
      "Epoch 60:\t Train Loss: 2.243 \t Train Acc: 0.165\t Test Acc: 0.097\n",
      "Epoch 62:\t Train Loss: 2.241 \t Train Acc: 0.167\t Test Acc: 0.096\n",
      "Epoch 64:\t Train Loss: 2.238 \t Train Acc: 0.167\t Test Acc: 0.098\n",
      "Epoch 66:\t Train Loss: 2.237 \t Train Acc: 0.168\t Test Acc: 0.098\n",
      "Epoch 68:\t Train Loss: 2.234 \t Train Acc: 0.170\t Test Acc: 0.096\n",
      "Epoch 70:\t Train Loss: 2.232 \t Train Acc: 0.172\t Test Acc: 0.098\n",
      "Epoch 72:\t Train Loss: 2.230 \t Train Acc: 0.174\t Test Acc: 0.098\n",
      "Epoch 74:\t Train Loss: 2.228 \t Train Acc: 0.176\t Test Acc: 0.096\n",
      "Epoch 76:\t Train Loss: 2.226 \t Train Acc: 0.174\t Test Acc: 0.097\n",
      "Epoch 78:\t Train Loss: 2.224 \t Train Acc: 0.177\t Test Acc: 0.095\n",
      "Epoch 80:\t Train Loss: 2.223 \t Train Acc: 0.180\t Test Acc: 0.100\n",
      "Epoch 82:\t Train Loss: 2.219 \t Train Acc: 0.180\t Test Acc: 0.096\n",
      "Epoch 84:\t Train Loss: 2.219 \t Train Acc: 0.180\t Test Acc: 0.097\n",
      "Epoch 86:\t Train Loss: 2.217 \t Train Acc: 0.183\t Test Acc: 0.094\n",
      "Epoch 88:\t Train Loss: 2.216 \t Train Acc: 0.183\t Test Acc: 0.100\n",
      "Epoch 90:\t Train Loss: 2.214 \t Train Acc: 0.183\t Test Acc: 0.099\n",
      "Epoch 92:\t Train Loss: 2.212 \t Train Acc: 0.185\t Test Acc: 0.096\n",
      "Epoch 94:\t Train Loss: 2.211 \t Train Acc: 0.185\t Test Acc: 0.100\n",
      "Epoch 96:\t Train Loss: 2.211 \t Train Acc: 0.187\t Test Acc: 0.096\n",
      "Epoch 98:\t Train Loss: 2.207 \t Train Acc: 0.188\t Test Acc: 0.098\n",
      "Epoch 100:\t Train Loss: 2.207 \t Train Acc: 0.187\t Test Acc: 0.100\n",
      "Epoch 102:\t Train Loss: 2.205 \t Train Acc: 0.190\t Test Acc: 0.094\n",
      "Epoch 104:\t Train Loss: 2.203 \t Train Acc: 0.190\t Test Acc: 0.101\n",
      "Epoch 106:\t Train Loss: 2.202 \t Train Acc: 0.190\t Test Acc: 0.096\n",
      "Epoch 108:\t Train Loss: 2.201 \t Train Acc: 0.192\t Test Acc: 0.099\n",
      "Epoch 110:\t Train Loss: 2.202 \t Train Acc: 0.190\t Test Acc: 0.099\n",
      "Epoch 112:\t Train Loss: 2.200 \t Train Acc: 0.194\t Test Acc: 0.097\n",
      "Epoch 114:\t Train Loss: 2.198 \t Train Acc: 0.192\t Test Acc: 0.099\n",
      "Epoch 116:\t Train Loss: 2.195 \t Train Acc: 0.193\t Test Acc: 0.100\n",
      "Epoch 118:\t Train Loss: 2.197 \t Train Acc: 0.194\t Test Acc: 0.099\n",
      "Epoch 120:\t Train Loss: 2.195 \t Train Acc: 0.195\t Test Acc: 0.101\n",
      "Epoch 122:\t Train Loss: 2.194 \t Train Acc: 0.193\t Test Acc: 0.098\n",
      "Epoch 124:\t Train Loss: 2.194 \t Train Acc: 0.195\t Test Acc: 0.100\n",
      "Epoch 126:\t Train Loss: 2.192 \t Train Acc: 0.197\t Test Acc: 0.100\n",
      "Epoch 128:\t Train Loss: 2.192 \t Train Acc: 0.196\t Test Acc: 0.098\n",
      "Epoch 130:\t Train Loss: 2.190 \t Train Acc: 0.196\t Test Acc: 0.100\n",
      "Epoch 132:\t Train Loss: 2.189 \t Train Acc: 0.200\t Test Acc: 0.102\n",
      "Epoch 134:\t Train Loss: 2.189 \t Train Acc: 0.198\t Test Acc: 0.100\n",
      "Epoch 136:\t Train Loss: 2.188 \t Train Acc: 0.198\t Test Acc: 0.100\n",
      "Epoch 138:\t Train Loss: 2.187 \t Train Acc: 0.199\t Test Acc: 0.102\n",
      "Epoch 140:\t Train Loss: 2.188 \t Train Acc: 0.199\t Test Acc: 0.101\n",
      "Epoch 142:\t Train Loss: 2.185 \t Train Acc: 0.202\t Test Acc: 0.102\n",
      "Epoch 144:\t Train Loss: 2.186 \t Train Acc: 0.199\t Test Acc: 0.103\n",
      "Epoch 146:\t Train Loss: 2.184 \t Train Acc: 0.201\t Test Acc: 0.099\n",
      "Epoch 148:\t Train Loss: 2.184 \t Train Acc: 0.201\t Test Acc: 0.102\n",
      "Epoch 150:\t Train Loss: 2.182 \t Train Acc: 0.199\t Test Acc: 0.103\n",
      "Epoch 152:\t Train Loss: 2.181 \t Train Acc: 0.203\t Test Acc: 0.098\n",
      "Epoch 154:\t Train Loss: 2.181 \t Train Acc: 0.203\t Test Acc: 0.102\n",
      "Epoch 156:\t Train Loss: 2.179 \t Train Acc: 0.203\t Test Acc: 0.104\n",
      "Epoch 158:\t Train Loss: 2.179 \t Train Acc: 0.204\t Test Acc: 0.097\n",
      "Epoch 160:\t Train Loss: 2.181 \t Train Acc: 0.203\t Test Acc: 0.098\n",
      "Epoch 162:\t Train Loss: 2.177 \t Train Acc: 0.204\t Test Acc: 0.097\n",
      "Epoch 164:\t Train Loss: 2.178 \t Train Acc: 0.205\t Test Acc: 0.099\n",
      "Epoch 166:\t Train Loss: 2.176 \t Train Acc: 0.206\t Test Acc: 0.102\n",
      "Epoch 168:\t Train Loss: 2.175 \t Train Acc: 0.209\t Test Acc: 0.100\n",
      "Epoch 170:\t Train Loss: 2.176 \t Train Acc: 0.206\t Test Acc: 0.099\n",
      "Epoch 172:\t Train Loss: 2.175 \t Train Acc: 0.205\t Test Acc: 0.100\n",
      "Epoch 174:\t Train Loss: 2.174 \t Train Acc: 0.206\t Test Acc: 0.097\n",
      "Epoch 176:\t Train Loss: 2.173 \t Train Acc: 0.208\t Test Acc: 0.100\n",
      "Epoch 178:\t Train Loss: 2.173 \t Train Acc: 0.206\t Test Acc: 0.094\n",
      "Epoch 180:\t Train Loss: 2.172 \t Train Acc: 0.209\t Test Acc: 0.098\n",
      "Epoch 182:\t Train Loss: 2.172 \t Train Acc: 0.209\t Test Acc: 0.098\n",
      "Epoch 184:\t Train Loss: 2.171 \t Train Acc: 0.209\t Test Acc: 0.098\n",
      "Epoch 186:\t Train Loss: 2.169 \t Train Acc: 0.209\t Test Acc: 0.093\n",
      "Epoch 188:\t Train Loss: 2.169 \t Train Acc: 0.210\t Test Acc: 0.097\n",
      "Epoch 190:\t Train Loss: 2.170 \t Train Acc: 0.211\t Test Acc: 0.098\n",
      "Epoch 192:\t Train Loss: 2.169 \t Train Acc: 0.208\t Test Acc: 0.099\n",
      "Epoch 194:\t Train Loss: 2.168 \t Train Acc: 0.209\t Test Acc: 0.099\n",
      "Epoch 196:\t Train Loss: 2.168 \t Train Acc: 0.209\t Test Acc: 0.096\n",
      "Epoch 198:\t Train Loss: 2.168 \t Train Acc: 0.210\t Test Acc: 0.099\n"
     ]
    }
   ],
   "source": [
    "models = []\n",
    "training_errors = []\n",
    "testing_errors = []\n",
    "training_acc = []\n",
    "testing_acc = []\n",
    "for tr_label, te_label in zip(training_labels, testing_labels):\n",
    "    model = make_cnn(c=4)\n",
    "    epochs = 200\n",
    "    temp_train_dl = make_loader(TensorDataset(X_tr, tr_label))\n",
    "    temp_test_dl = make_loader(TensorDataset(X_te, te_label))\n",
    "    start_lr = 0.05\n",
    "    for i in range(epochs):\n",
    "        opt = torch.optim.SGD(model.parameters(), lr=start_lr - (i/epochs) * start_lr * 0.7)\n",
    "        \n",
    "        train_loss, train_acc = train_epoch(model, temp_train_dl, opt, k=400, printer=False)\n",
    "        test_loss, test_acc = evaluate(model, temp_test_dl)\n",
    "        \n",
    "        if i % (epochs//100) == 0: \n",
    "            print(f'Epoch {i}:\\t Train Loss: {train_loss:.3f} \\t Train Acc: {train_acc:.3f}\\t ' + \n",
    "                  f'Test Acc: {test_acc:.3f}')\n",
    "    training_errors.append(train_loss)\n",
    "    training_acc.append(train_acc)\n",
    "    testing_errors.append(test_loss)\n",
    "    testing_acc.append(test_acc)\n",
    "\n",
    "    models.append(model)"
   ]
  },
  {
   "cell_type": "code",
   "execution_count": 18,
   "metadata": {},
   "outputs": [
    {
     "ename": "KeyboardInterrupt",
     "evalue": "",
     "output_type": "error",
     "traceback": [
      "\u001b[0;31m---------------------------------------------------------------------------\u001b[0m",
      "\u001b[0;31mKeyboardInterrupt\u001b[0m                         Traceback (most recent call last)",
      "\u001b[0;32m<ipython-input-18-2929b0f450bb>\u001b[0m in \u001b[0;36m<module>\u001b[0;34m\u001b[0m\n\u001b[1;32m     13\u001b[0m         \u001b[0mopt\u001b[0m \u001b[0;34m=\u001b[0m \u001b[0mtorch\u001b[0m\u001b[0;34m.\u001b[0m\u001b[0moptim\u001b[0m\u001b[0;34m.\u001b[0m\u001b[0mSGD\u001b[0m\u001b[0;34m(\u001b[0m\u001b[0mmodel\u001b[0m\u001b[0;34m.\u001b[0m\u001b[0mparameters\u001b[0m\u001b[0;34m(\u001b[0m\u001b[0;34m)\u001b[0m\u001b[0;34m,\u001b[0m \u001b[0mlr\u001b[0m\u001b[0;34m=\u001b[0m\u001b[0mstart_lr\u001b[0m \u001b[0;34m-\u001b[0m \u001b[0;34m(\u001b[0m\u001b[0mi\u001b[0m\u001b[0;34m/\u001b[0m\u001b[0mepochs\u001b[0m\u001b[0;34m)\u001b[0m \u001b[0;34m*\u001b[0m \u001b[0mstart_lr\u001b[0m \u001b[0;34m*\u001b[0m \u001b[0;36m0.7\u001b[0m\u001b[0;34m)\u001b[0m\u001b[0;34m\u001b[0m\u001b[0;34m\u001b[0m\u001b[0m\n\u001b[1;32m     14\u001b[0m \u001b[0;34m\u001b[0m\u001b[0m\n\u001b[0;32m---> 15\u001b[0;31m         \u001b[0mtrain_loss\u001b[0m\u001b[0;34m,\u001b[0m \u001b[0mtrain_acc\u001b[0m \u001b[0;34m=\u001b[0m \u001b[0mtrain_epoch\u001b[0m\u001b[0;34m(\u001b[0m\u001b[0mmodel\u001b[0m\u001b[0;34m,\u001b[0m \u001b[0mtemp_train_dl\u001b[0m\u001b[0;34m,\u001b[0m \u001b[0mopt\u001b[0m\u001b[0;34m,\u001b[0m \u001b[0mk\u001b[0m\u001b[0;34m=\u001b[0m\u001b[0;36m400\u001b[0m\u001b[0;34m,\u001b[0m \u001b[0mprinter\u001b[0m\u001b[0;34m=\u001b[0m\u001b[0;32mFalse\u001b[0m\u001b[0;34m)\u001b[0m\u001b[0;34m\u001b[0m\u001b[0;34m\u001b[0m\u001b[0m\n\u001b[0m\u001b[1;32m     16\u001b[0m         \u001b[0mtest_loss\u001b[0m\u001b[0;34m,\u001b[0m \u001b[0mtest_acc\u001b[0m \u001b[0;34m=\u001b[0m \u001b[0mevaluate\u001b[0m\u001b[0;34m(\u001b[0m\u001b[0mmodel\u001b[0m\u001b[0;34m,\u001b[0m \u001b[0mtemp_test_dl\u001b[0m\u001b[0;34m)\u001b[0m\u001b[0;34m\u001b[0m\u001b[0;34m\u001b[0m\u001b[0m\n\u001b[1;32m     17\u001b[0m \u001b[0;34m\u001b[0m\u001b[0m\n",
      "\u001b[0;32m<ipython-input-11-1d43842ff6ff>\u001b[0m in \u001b[0;36mtrain_epoch\u001b[0;34m(model, train_dl, opt, k, printer)\u001b[0m\n\u001b[1;32m     12\u001b[0m         \u001b[0mopt\u001b[0m\u001b[0;34m.\u001b[0m\u001b[0mzero_grad\u001b[0m\u001b[0;34m(\u001b[0m\u001b[0;34m)\u001b[0m\u001b[0;34m\u001b[0m\u001b[0;34m\u001b[0m\u001b[0m\n\u001b[1;32m     13\u001b[0m         \u001b[0mxB\u001b[0m\u001b[0;34m,\u001b[0m \u001b[0myB\u001b[0m \u001b[0;34m=\u001b[0m \u001b[0mxB\u001b[0m\u001b[0;34m.\u001b[0m\u001b[0mcuda\u001b[0m\u001b[0;34m(\u001b[0m\u001b[0;34m)\u001b[0m\u001b[0;34m,\u001b[0m \u001b[0myB\u001b[0m\u001b[0;34m.\u001b[0m\u001b[0mcuda\u001b[0m\u001b[0;34m(\u001b[0m\u001b[0;34m)\u001b[0m\u001b[0;34m\u001b[0m\u001b[0;34m\u001b[0m\u001b[0m\n\u001b[0;32m---> 14\u001b[0;31m         \u001b[0moutputs\u001b[0m \u001b[0;34m=\u001b[0m \u001b[0mmodel\u001b[0m\u001b[0;34m(\u001b[0m\u001b[0mxB\u001b[0m\u001b[0;34m)\u001b[0m\u001b[0;34m\u001b[0m\u001b[0;34m\u001b[0m\u001b[0m\n\u001b[0m\u001b[1;32m     15\u001b[0m         \u001b[0mloss\u001b[0m \u001b[0;34m=\u001b[0m \u001b[0mloss_func\u001b[0m\u001b[0;34m(\u001b[0m\u001b[0moutputs\u001b[0m\u001b[0;34m,\u001b[0m \u001b[0myB\u001b[0m\u001b[0;34m)\u001b[0m\u001b[0;34m\u001b[0m\u001b[0;34m\u001b[0m\u001b[0m\n\u001b[1;32m     16\u001b[0m         \u001b[0mloss\u001b[0m\u001b[0;34m.\u001b[0m\u001b[0mbackward\u001b[0m\u001b[0;34m(\u001b[0m\u001b[0;34m)\u001b[0m\u001b[0;34m\u001b[0m\u001b[0;34m\u001b[0m\u001b[0m\n",
      "\u001b[0;32m/usr/local/lib/python3.6/dist-packages/torch/nn/modules/module.py\u001b[0m in \u001b[0;36m__call__\u001b[0;34m(self, *input, **kwargs)\u001b[0m\n\u001b[1;32m    545\u001b[0m             \u001b[0mresult\u001b[0m \u001b[0;34m=\u001b[0m \u001b[0mself\u001b[0m\u001b[0;34m.\u001b[0m\u001b[0m_slow_forward\u001b[0m\u001b[0;34m(\u001b[0m\u001b[0;34m*\u001b[0m\u001b[0minput\u001b[0m\u001b[0;34m,\u001b[0m \u001b[0;34m**\u001b[0m\u001b[0mkwargs\u001b[0m\u001b[0;34m)\u001b[0m\u001b[0;34m\u001b[0m\u001b[0;34m\u001b[0m\u001b[0m\n\u001b[1;32m    546\u001b[0m         \u001b[0;32melse\u001b[0m\u001b[0;34m:\u001b[0m\u001b[0;34m\u001b[0m\u001b[0;34m\u001b[0m\u001b[0m\n\u001b[0;32m--> 547\u001b[0;31m             \u001b[0mresult\u001b[0m \u001b[0;34m=\u001b[0m \u001b[0mself\u001b[0m\u001b[0;34m.\u001b[0m\u001b[0mforward\u001b[0m\u001b[0;34m(\u001b[0m\u001b[0;34m*\u001b[0m\u001b[0minput\u001b[0m\u001b[0;34m,\u001b[0m \u001b[0;34m**\u001b[0m\u001b[0mkwargs\u001b[0m\u001b[0;34m)\u001b[0m\u001b[0;34m\u001b[0m\u001b[0;34m\u001b[0m\u001b[0m\n\u001b[0m\u001b[1;32m    548\u001b[0m         \u001b[0;32mfor\u001b[0m \u001b[0mhook\u001b[0m \u001b[0;32min\u001b[0m \u001b[0mself\u001b[0m\u001b[0;34m.\u001b[0m\u001b[0m_forward_hooks\u001b[0m\u001b[0;34m.\u001b[0m\u001b[0mvalues\u001b[0m\u001b[0;34m(\u001b[0m\u001b[0;34m)\u001b[0m\u001b[0;34m:\u001b[0m\u001b[0;34m\u001b[0m\u001b[0;34m\u001b[0m\u001b[0m\n\u001b[1;32m    549\u001b[0m             \u001b[0mhook_result\u001b[0m \u001b[0;34m=\u001b[0m \u001b[0mhook\u001b[0m\u001b[0;34m(\u001b[0m\u001b[0mself\u001b[0m\u001b[0;34m,\u001b[0m \u001b[0minput\u001b[0m\u001b[0;34m,\u001b[0m \u001b[0mresult\u001b[0m\u001b[0;34m)\u001b[0m\u001b[0;34m\u001b[0m\u001b[0;34m\u001b[0m\u001b[0m\n",
      "\u001b[0;32m/usr/local/lib/python3.6/dist-packages/torch/nn/modules/container.py\u001b[0m in \u001b[0;36mforward\u001b[0;34m(self, input)\u001b[0m\n\u001b[1;32m     90\u001b[0m     \u001b[0;32mdef\u001b[0m \u001b[0mforward\u001b[0m\u001b[0;34m(\u001b[0m\u001b[0mself\u001b[0m\u001b[0;34m,\u001b[0m \u001b[0minput\u001b[0m\u001b[0;34m)\u001b[0m\u001b[0;34m:\u001b[0m\u001b[0;34m\u001b[0m\u001b[0;34m\u001b[0m\u001b[0m\n\u001b[1;32m     91\u001b[0m         \u001b[0;32mfor\u001b[0m \u001b[0mmodule\u001b[0m \u001b[0;32min\u001b[0m \u001b[0mself\u001b[0m\u001b[0;34m.\u001b[0m\u001b[0m_modules\u001b[0m\u001b[0;34m.\u001b[0m\u001b[0mvalues\u001b[0m\u001b[0;34m(\u001b[0m\u001b[0;34m)\u001b[0m\u001b[0;34m:\u001b[0m\u001b[0;34m\u001b[0m\u001b[0;34m\u001b[0m\u001b[0m\n\u001b[0;32m---> 92\u001b[0;31m             \u001b[0minput\u001b[0m \u001b[0;34m=\u001b[0m \u001b[0mmodule\u001b[0m\u001b[0;34m(\u001b[0m\u001b[0minput\u001b[0m\u001b[0;34m)\u001b[0m\u001b[0;34m\u001b[0m\u001b[0;34m\u001b[0m\u001b[0m\n\u001b[0m\u001b[1;32m     93\u001b[0m         \u001b[0;32mreturn\u001b[0m \u001b[0minput\u001b[0m\u001b[0;34m\u001b[0m\u001b[0;34m\u001b[0m\u001b[0m\n\u001b[1;32m     94\u001b[0m \u001b[0;34m\u001b[0m\u001b[0m\n",
      "\u001b[0;32m/usr/local/lib/python3.6/dist-packages/torch/nn/modules/module.py\u001b[0m in \u001b[0;36m__call__\u001b[0;34m(self, *input, **kwargs)\u001b[0m\n\u001b[1;32m    545\u001b[0m             \u001b[0mresult\u001b[0m \u001b[0;34m=\u001b[0m \u001b[0mself\u001b[0m\u001b[0;34m.\u001b[0m\u001b[0m_slow_forward\u001b[0m\u001b[0;34m(\u001b[0m\u001b[0;34m*\u001b[0m\u001b[0minput\u001b[0m\u001b[0;34m,\u001b[0m \u001b[0;34m**\u001b[0m\u001b[0mkwargs\u001b[0m\u001b[0;34m)\u001b[0m\u001b[0;34m\u001b[0m\u001b[0;34m\u001b[0m\u001b[0m\n\u001b[1;32m    546\u001b[0m         \u001b[0;32melse\u001b[0m\u001b[0;34m:\u001b[0m\u001b[0;34m\u001b[0m\u001b[0;34m\u001b[0m\u001b[0m\n\u001b[0;32m--> 547\u001b[0;31m             \u001b[0mresult\u001b[0m \u001b[0;34m=\u001b[0m \u001b[0mself\u001b[0m\u001b[0;34m.\u001b[0m\u001b[0mforward\u001b[0m\u001b[0;34m(\u001b[0m\u001b[0;34m*\u001b[0m\u001b[0minput\u001b[0m\u001b[0;34m,\u001b[0m \u001b[0;34m**\u001b[0m\u001b[0mkwargs\u001b[0m\u001b[0;34m)\u001b[0m\u001b[0;34m\u001b[0m\u001b[0;34m\u001b[0m\u001b[0m\n\u001b[0m\u001b[1;32m    548\u001b[0m         \u001b[0;32mfor\u001b[0m \u001b[0mhook\u001b[0m \u001b[0;32min\u001b[0m \u001b[0mself\u001b[0m\u001b[0;34m.\u001b[0m\u001b[0m_forward_hooks\u001b[0m\u001b[0;34m.\u001b[0m\u001b[0mvalues\u001b[0m\u001b[0;34m(\u001b[0m\u001b[0;34m)\u001b[0m\u001b[0;34m:\u001b[0m\u001b[0;34m\u001b[0m\u001b[0;34m\u001b[0m\u001b[0m\n\u001b[1;32m    549\u001b[0m             \u001b[0mhook_result\u001b[0m \u001b[0;34m=\u001b[0m \u001b[0mhook\u001b[0m\u001b[0;34m(\u001b[0m\u001b[0mself\u001b[0m\u001b[0;34m,\u001b[0m \u001b[0minput\u001b[0m\u001b[0;34m,\u001b[0m \u001b[0mresult\u001b[0m\u001b[0;34m)\u001b[0m\u001b[0;34m\u001b[0m\u001b[0;34m\u001b[0m\u001b[0m\n",
      "\u001b[0;32m/usr/local/lib/python3.6/dist-packages/torch/nn/modules/pooling.py\u001b[0m in \u001b[0;36mforward\u001b[0;34m(self, input)\u001b[0m\n\u001b[1;32m    139\u001b[0m         return F.max_pool2d(input, self.kernel_size, self.stride,\n\u001b[1;32m    140\u001b[0m                             \u001b[0mself\u001b[0m\u001b[0;34m.\u001b[0m\u001b[0mpadding\u001b[0m\u001b[0;34m,\u001b[0m \u001b[0mself\u001b[0m\u001b[0;34m.\u001b[0m\u001b[0mdilation\u001b[0m\u001b[0;34m,\u001b[0m \u001b[0mself\u001b[0m\u001b[0;34m.\u001b[0m\u001b[0mceil_mode\u001b[0m\u001b[0;34m,\u001b[0m\u001b[0;34m\u001b[0m\u001b[0;34m\u001b[0m\u001b[0m\n\u001b[0;32m--> 141\u001b[0;31m                             self.return_indices)\n\u001b[0m\u001b[1;32m    142\u001b[0m \u001b[0;34m\u001b[0m\u001b[0m\n\u001b[1;32m    143\u001b[0m \u001b[0;34m\u001b[0m\u001b[0m\n",
      "\u001b[0;32m/usr/local/lib/python3.6/dist-packages/torch/_jit_internal.py\u001b[0m in \u001b[0;36mfn\u001b[0;34m(*args, **kwargs)\u001b[0m\n\u001b[1;32m    132\u001b[0m             \u001b[0;32mreturn\u001b[0m \u001b[0mif_true\u001b[0m\u001b[0;34m(\u001b[0m\u001b[0;34m*\u001b[0m\u001b[0margs\u001b[0m\u001b[0;34m,\u001b[0m \u001b[0;34m**\u001b[0m\u001b[0mkwargs\u001b[0m\u001b[0;34m)\u001b[0m\u001b[0;34m\u001b[0m\u001b[0;34m\u001b[0m\u001b[0m\n\u001b[1;32m    133\u001b[0m         \u001b[0;32melse\u001b[0m\u001b[0;34m:\u001b[0m\u001b[0;34m\u001b[0m\u001b[0;34m\u001b[0m\u001b[0m\n\u001b[0;32m--> 134\u001b[0;31m             \u001b[0;32mreturn\u001b[0m \u001b[0mif_false\u001b[0m\u001b[0;34m(\u001b[0m\u001b[0;34m*\u001b[0m\u001b[0margs\u001b[0m\u001b[0;34m,\u001b[0m \u001b[0;34m**\u001b[0m\u001b[0mkwargs\u001b[0m\u001b[0;34m)\u001b[0m\u001b[0;34m\u001b[0m\u001b[0;34m\u001b[0m\u001b[0m\n\u001b[0m\u001b[1;32m    135\u001b[0m \u001b[0;34m\u001b[0m\u001b[0m\n\u001b[1;32m    136\u001b[0m     \u001b[0;32mif\u001b[0m \u001b[0mif_true\u001b[0m\u001b[0;34m.\u001b[0m\u001b[0m__doc__\u001b[0m \u001b[0;32mis\u001b[0m \u001b[0;32mNone\u001b[0m \u001b[0;32mand\u001b[0m \u001b[0mif_false\u001b[0m\u001b[0;34m.\u001b[0m\u001b[0m__doc__\u001b[0m \u001b[0;32mis\u001b[0m \u001b[0;32mnot\u001b[0m \u001b[0;32mNone\u001b[0m\u001b[0;34m:\u001b[0m\u001b[0;34m\u001b[0m\u001b[0;34m\u001b[0m\u001b[0m\n",
      "\u001b[0;32m/usr/local/lib/python3.6/dist-packages/torch/nn/functional.py\u001b[0m in \u001b[0;36m_max_pool2d\u001b[0;34m(input, kernel_size, stride, padding, dilation, ceil_mode, return_indices)\u001b[0m\n\u001b[1;32m    485\u001b[0m         \u001b[0mstride\u001b[0m \u001b[0;34m=\u001b[0m \u001b[0mtorch\u001b[0m\u001b[0;34m.\u001b[0m\u001b[0mjit\u001b[0m\u001b[0;34m.\u001b[0m\u001b[0mannotate\u001b[0m\u001b[0;34m(\u001b[0m\u001b[0mList\u001b[0m\u001b[0;34m[\u001b[0m\u001b[0mint\u001b[0m\u001b[0;34m]\u001b[0m\u001b[0;34m,\u001b[0m \u001b[0;34m[\u001b[0m\u001b[0;34m]\u001b[0m\u001b[0;34m)\u001b[0m\u001b[0;34m\u001b[0m\u001b[0;34m\u001b[0m\u001b[0m\n\u001b[1;32m    486\u001b[0m     return torch.max_pool2d(\n\u001b[0;32m--> 487\u001b[0;31m         input, kernel_size, stride, padding, dilation, ceil_mode)\n\u001b[0m\u001b[1;32m    488\u001b[0m \u001b[0;34m\u001b[0m\u001b[0m\n\u001b[1;32m    489\u001b[0m max_pool2d = boolean_dispatch(\n",
      "\u001b[0;31mKeyboardInterrupt\u001b[0m: "
     ]
    }
   ],
   "source": [
    "models2 = []\n",
    "training_errors2 = []\n",
    "testing_errors2 = []\n",
    "training_acc2 = []\n",
    "testing_acc2 = []\n",
    "for tr_label, te_label in zip(training_labels, testing_labels):\n",
    "    model = make_cnn(c=64)\n",
    "    epochs = 200\n",
    "    temp_train_dl = make_loader(TensorDataset(X_tr, tr_label))\n",
    "    temp_test_dl = make_loader(TensorDataset(X_te, te_label))\n",
    "    start_lr = 0.05\n",
    "    for i in range(epochs):\n",
    "        opt = torch.optim.SGD(model.parameters(), lr=start_lr - (i/epochs) * start_lr * 0.7)\n",
    "        \n",
    "        train_loss, train_acc = train_epoch(model, temp_train_dl, opt, k=400, printer=False)\n",
    "        test_loss, test_acc = evaluate(model, temp_test_dl)\n",
    "        \n",
    "        if i % (epochs//100) == 0: \n",
    "            print(f'Epoch {i}:\\t Train Loss: {train_loss:.3f} \\t Train Acc: {train_acc:.3f}\\t ' + \n",
    "                  f'Test Acc: {test_acc:.3f}')\n",
    "        if train_loss < 0.002:\n",
    "            print('Stopping model after reaching 0 training loss')\n",
    "            break\n",
    "    training_errors2.append(train_loss)\n",
    "    training_acc2.append(train_acc)\n",
    "    testing_errors2.append(test_loss)\n",
    "    testing_acc2.append(test_acc)\n",
    "\n",
    "    models2.append(model)"
   ]
  },
  {
   "cell_type": "code",
   "execution_count": 38,
   "metadata": {},
   "outputs": [
    {
     "data": {
      "text/plain": [
       "[0.8387285189056396, 1.9739186634063721, 2.294217502822876]"
      ]
     },
     "execution_count": 38,
     "metadata": {},
     "output_type": "execute_result"
    }
   ],
   "source": [
    "training_errors"
   ]
  },
  {
   "cell_type": "code",
   "execution_count": null,
   "metadata": {},
   "outputs": [],
   "source": []
  }
 ],
 "metadata": {
  "kernelspec": {
   "display_name": "Python 3",
   "language": "python",
   "name": "python3"
  },
  "language_info": {
   "codemirror_mode": {
    "name": "ipython",
    "version": 3
   },
   "file_extension": ".py",
   "mimetype": "text/x-python",
   "name": "python",
   "nbconvert_exporter": "python",
   "pygments_lexer": "ipython3",
   "version": "3.6.8"
  }
 },
 "nbformat": 4,
 "nbformat_minor": 5
}
