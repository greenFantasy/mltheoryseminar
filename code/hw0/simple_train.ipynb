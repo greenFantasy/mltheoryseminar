{
 "cells": [
  {
   "cell_type": "code",
   "execution_count": 1,
   "metadata": {},
   "outputs": [
    {
     "name": "stdout",
     "output_type": "stream",
     "text": [
      "Requirement already satisfied: tqdm in /usr/local/lib/python3.6/dist-packages (4.56.0)\n",
      "\u001b[33mWARNING: You are using pip version 21.0; however, version 21.0.1 is available.\n",
      "You should consider upgrading via the '/usr/bin/python3.6 -m pip install --upgrade pip' command.\u001b[0m\n",
      "Requirement already satisfied: torchvision in /usr/local/lib/python3.6/dist-packages (0.4.0a0+d31eafa)\n",
      "Requirement already satisfied: six in /usr/local/lib/python3.6/dist-packages (from torchvision) (1.12.0)\n",
      "Requirement already satisfied: numpy in /usr/local/lib/python3.6/dist-packages (from torchvision) (1.17.0)\n",
      "Requirement already satisfied: torch in /usr/local/lib/python3.6/dist-packages (from torchvision) (1.1.0)\n",
      "Requirement already satisfied: pillow>=4.1.1 in /usr/local/lib/python3.6/dist-packages (from torchvision) (6.1.0)\n",
      "\u001b[33mWARNING: You are using pip version 21.0; however, version 21.0.1 is available.\n",
      "You should consider upgrading via the '/usr/bin/python3.6 -m pip install --upgrade pip' command.\u001b[0m\n"
     ]
    }
   ],
   "source": [
    "# install: tqdm (progress bars)\n",
    "!pip install tqdm\n",
    "!pip install torchvision\n",
    "\n",
    "import torch\n",
    "import torch.nn as nn\n",
    "import numpy as np\n",
    "from tqdm.auto import tqdm\n",
    "from torch.utils.data import DataLoader, Dataset, TensorDataset\n",
    "import torchvision.datasets as ds\n",
    "import matplotlib.pyplot as plt"
   ]
  },
  {
   "cell_type": "markdown",
   "metadata": {},
   "source": [
    "## Load the data (CIFAR-10)"
   ]
  },
  {
   "cell_type": "code",
   "execution_count": 2,
   "metadata": {},
   "outputs": [
    {
     "name": "stdout",
     "output_type": "stream",
     "text": [
      "Files already downloaded and verified\n",
      "Files already downloaded and verified\n"
     ]
    }
   ],
   "source": [
    "def load_cifar(datadir='./data_cache'): # will download ~400MB of data into this dir. Change the dir if neccesary. If using paperspace, you can make this /storage\n",
    "    train_ds = ds.CIFAR10(root=datadir, train=True,\n",
    "                           download=True, transform=None)\n",
    "    test_ds = ds.CIFAR10(root=datadir, train=False,\n",
    "                          download=True, transform=None)\n",
    "\n",
    "    def to_xy(dataset):\n",
    "        X = torch.Tensor(np.transpose(dataset.data, (0, 3, 1, 2))).float() / 255.0  # [0, 1]\n",
    "        Y = torch.Tensor(np.array(dataset.targets)).long()\n",
    "        return X, Y\n",
    "\n",
    "    X_tr, Y_tr = to_xy(train_ds)\n",
    "    X_te, Y_te = to_xy(test_ds)\n",
    "    return X_tr, Y_tr, X_te, Y_te\n",
    "\n",
    "def make_loader(dataset, batch_size=128):\n",
    "    return torch.utils.data.DataLoader(dataset, batch_size=batch_size,\n",
    "            shuffle=True, num_workers=4, pin_memory=True)\n",
    "\n",
    "X_tr, Y_tr, X_te, Y_te = load_cifar()\n",
    "train_dl = make_loader(TensorDataset(X_tr, Y_tr))\n",
    "test_dl = make_loader(TensorDataset(X_te, Y_te))"
   ]
  },
  {
   "cell_type": "markdown",
   "metadata": {},
   "source": [
    "## Training helper functions"
   ]
  },
  {
   "cell_type": "code",
   "execution_count": 3,
   "metadata": {},
   "outputs": [],
   "source": [
    "def train_epoch(model, train_dl : DataLoader, opt, k = 50, printer = True):\n",
    "    ''' Trains model for one epoch on the provided dataloader, with optimizer opt. Logs stats every k batches.'''\n",
    "    loss_func = nn.CrossEntropyLoss()\n",
    "    model.train()\n",
    "    model.cuda()\n",
    "\n",
    "    netLoss = 0.0\n",
    "    nCorrect = 0\n",
    "    nTotal = 0\n",
    "    iterator = tqdm(train_dl) if printer else train_dl\n",
    "    for i, (xB, yB) in enumerate(iterator):\n",
    "        opt.zero_grad()\n",
    "        xB, yB = xB.cuda(), yB.cuda()\n",
    "        outputs = model(xB)\n",
    "        loss = loss_func(outputs, yB)\n",
    "        loss.backward()\n",
    "        opt.step()\n",
    "        netLoss += loss.item() * len(xB)\n",
    "        with torch.no_grad():\n",
    "            _, preds = torch.max(outputs, dim=1)\n",
    "            nCorrect += (preds == yB).float().sum()\n",
    "            nTotal += preds.size(0)\n",
    "        \n",
    "        if (i+1) % k == 0:\n",
    "            train_acc = nCorrect/nTotal\n",
    "            avg_loss = netLoss/nTotal\n",
    "            print(f'\\t [Batch {i+1} / {len(train_dl)}] Train Loss: {avg_loss:.3f} \\t Train Acc: {train_acc:.3f}')\n",
    "  \n",
    "    train_acc = nCorrect/nTotal\n",
    "    avg_loss = netLoss/nTotal\n",
    "    return avg_loss, train_acc\n",
    "\n",
    "\n",
    "def evaluate(model, test_dl, loss_func=nn.CrossEntropyLoss().cuda()):\n",
    "    ''' Returns loss, acc'''\n",
    "    model.eval()\n",
    "    model.cuda()\n",
    "    nCorrect = 0.0\n",
    "    nTotal = 0\n",
    "    net_loss = 0.0\n",
    "    with torch.no_grad():\n",
    "        for (xb, yb) in test_dl:\n",
    "            xb, yb = xb.cuda(), yb.cuda()\n",
    "            outputs = model(xb)\n",
    "            loss = len(xb) * loss_func(outputs, yb)\n",
    "            _, preds = torch.max(outputs, dim=1)\n",
    "            nCorrect += (preds == yb).float().sum()\n",
    "            net_loss += loss\n",
    "            nTotal += preds.size(0)\n",
    "\n",
    "    acc = nCorrect.cpu().item() / float(nTotal)\n",
    "    loss = net_loss.cpu().item() / float(nTotal)\n",
    "    return loss, acc"
   ]
  },
  {
   "cell_type": "code",
   "execution_count": 4,
   "metadata": {},
   "outputs": [],
   "source": [
    "## Define model"
   ]
  },
  {
   "cell_type": "code",
   "execution_count": 4,
   "metadata": {},
   "outputs": [],
   "source": [
    "## 5-Layer CNN for CIFAR\n",
    "## This is the Myrtle5 network by David Page (https://myrtle.ai/learn/how-to-train-your-resnet-4-architecture/)\n",
    "\n",
    "class Flatten(nn.Module):\n",
    "    def forward(self, x): return x.view(x.size(0), x.size(1))\n",
    "\n",
    "def make_cnn(c=64, num_classes=10):\n",
    "    ''' Returns a 5-layer CNN with width parameter c. '''\n",
    "    return nn.Sequential(\n",
    "        # Layer 0\n",
    "        nn.Conv2d(3, c, kernel_size=3, stride=1,\n",
    "                  padding=1, bias=True),\n",
    "        nn.BatchNorm2d(c),\n",
    "        nn.ReLU(),\n",
    "\n",
    "        # Layer 1\n",
    "        nn.Conv2d(c, c*2, kernel_size=3,\n",
    "                  stride=1, padding=1, bias=True),\n",
    "        nn.BatchNorm2d(c*2),\n",
    "        nn.ReLU(),\n",
    "        nn.MaxPool2d(2),\n",
    "\n",
    "        # Layer 2\n",
    "        nn.Conv2d(c*2, c*4, kernel_size=3,\n",
    "                  stride=1, padding=1, bias=True),\n",
    "        nn.BatchNorm2d(c*4),\n",
    "        nn.ReLU(),\n",
    "        nn.MaxPool2d(2),\n",
    "\n",
    "        # Layer 3\n",
    "        nn.Conv2d(c*4, c*8, kernel_size=3,\n",
    "                  stride=1, padding=1, bias=True),\n",
    "        nn.BatchNorm2d(c*8),\n",
    "        nn.ReLU(),\n",
    "        nn.MaxPool2d(2),\n",
    "\n",
    "        # Layer 4\n",
    "        nn.MaxPool2d(4),\n",
    "        Flatten(),\n",
    "        nn.Linear(c*8, num_classes, bias=True)\n",
    "    )"
   ]
  },
  {
   "cell_type": "code",
   "execution_count": 5,
   "metadata": {},
   "outputs": [],
   "source": [
    "## Train"
   ]
  },
  {
   "cell_type": "code",
   "execution_count": 5,
   "metadata": {},
   "outputs": [
    {
     "name": "stdout",
     "output_type": "stream",
     "text": [
      "Starting Epoch 0\n",
      "Epoch 0:\t Train Loss: 2.575 \t Train Acc: 0.292\t Test Acc: 0.366\n",
      "Starting Epoch 1\n",
      "Epoch 1:\t Train Loss: 1.470 \t Train Acc: 0.464\t Test Acc: 0.408\n",
      "Starting Epoch 2\n",
      "Epoch 2:\t Train Loss: 1.193 \t Train Acc: 0.572\t Test Acc: 0.573\n",
      "Starting Epoch 3\n",
      "Epoch 3:\t Train Loss: 1.006 \t Train Acc: 0.647\t Test Acc: 0.638\n",
      "Starting Epoch 4\n",
      "Epoch 4:\t Train Loss: 0.856 \t Train Acc: 0.702\t Test Acc: 0.612\n",
      "Starting Epoch 5\n",
      "Epoch 5:\t Train Loss: 0.735 \t Train Acc: 0.746\t Test Acc: 0.529\n",
      "Starting Epoch 6\n",
      "Epoch 6:\t Train Loss: 0.633 \t Train Acc: 0.781\t Test Acc: 0.728\n",
      "Starting Epoch 7\n",
      "Epoch 7:\t Train Loss: 0.554 \t Train Acc: 0.811\t Test Acc: 0.675\n",
      "Starting Epoch 8\n",
      "Epoch 8:\t Train Loss: 0.479 \t Train Acc: 0.836\t Test Acc: 0.767\n",
      "Starting Epoch 9\n",
      "Epoch 9:\t Train Loss: 0.413 \t Train Acc: 0.859\t Test Acc: 0.800\n",
      "Starting Epoch 10\n",
      "Epoch 10:\t Train Loss: 0.355 \t Train Acc: 0.879\t Test Acc: 0.745\n",
      "Starting Epoch 11\n",
      "Epoch 11:\t Train Loss: 0.309 \t Train Acc: 0.898\t Test Acc: 0.760\n",
      "Starting Epoch 12\n",
      "Epoch 12:\t Train Loss: 0.237 \t Train Acc: 0.923\t Test Acc: 0.743\n",
      "Starting Epoch 13\n",
      "Epoch 13:\t Train Loss: 0.184 \t Train Acc: 0.941\t Test Acc: 0.759\n",
      "Starting Epoch 14\n",
      "Epoch 14:\t Train Loss: 0.131 \t Train Acc: 0.962\t Test Acc: 0.787\n",
      "Starting Epoch 15\n",
      "Epoch 15:\t Train Loss: 0.062 \t Train Acc: 0.985\t Test Acc: 0.835\n",
      "Starting Epoch 16\n",
      "Epoch 16:\t Train Loss: 0.020 \t Train Acc: 0.998\t Test Acc: 0.840\n",
      "Starting Epoch 17\n",
      "Epoch 17:\t Train Loss: 0.008 \t Train Acc: 1.000\t Test Acc: 0.852\n",
      "Starting Epoch 18\n",
      "Epoch 18:\t Train Loss: 0.005 \t Train Acc: 1.000\t Test Acc: 0.850\n",
      "Starting Epoch 19\n",
      "Epoch 19:\t Train Loss: 0.004 \t Train Acc: 1.000\t Test Acc: 0.851\n"
     ]
    }
   ],
   "source": [
    "model = make_cnn()\n",
    "opt = torch.optim.SGD(model.parameters(), lr=0.1)\n",
    "epochs = 20\n",
    "for i in range(epochs):\n",
    "    print(f'Starting Epoch {i}')\n",
    "    train_loss, train_acc = train_epoch(model, train_dl, opt, k = 400, printer = False)\n",
    "    test_loss, test_acc = evaluate(model, test_dl)\n",
    "    \n",
    "    print(f'Epoch {i}:\\t Train Loss: {train_loss:.3f} \\t Train Acc: {train_acc:.3f}\\t Test Acc: {test_acc:.3f}')"
   ]
  },
  {
   "cell_type": "markdown",
   "metadata": {},
   "source": [
    "## Flipping an Image"
   ]
  },
  {
   "cell_type": "code",
   "execution_count": 6,
   "metadata": {},
   "outputs": [
    {
     "name": "stdout",
     "output_type": "stream",
     "text": [
      "7\n"
     ]
    },
    {
     "data": {
      "image/png": "[encoded data removed]",
      "text/plain": [
       "<Figure size 432x288 with 1 Axes>"
      ]
     },
     "metadata": {
      "needs_background": "light"
     },
     "output_type": "display_data"
    }
   ],
   "source": [
    "idx = 12\n",
    "img = torch.flip(train_dl.dataset.tensors[0][idx], [1])\n",
    "plt.imshow(np.transpose(np.array(img), (1, 2, 0)))\n",
    "print(np.array(train_dl.dataset.tensors[1][idx]))\n",
    "\n",
    "def plot_image(img):\n",
    "    plt.imshow(np.transpose(np.array(img), (1, 2, 0)))\n",
    "    plt.show()"
   ]
  },
  {
   "cell_type": "code",
   "execution_count": 7,
   "metadata": {},
   "outputs": [],
   "source": [
    "# Flipping images in test set\n",
    "X_te_flipped = torch.flip(X_te, [2])\n",
    "\n",
    "test_dl_flipped = make_loader(TensorDataset(X_te_flipped, Y_te))"
   ]
  },
  {
   "cell_type": "code",
   "execution_count": 8,
   "metadata": {},
   "outputs": [
    {
     "data": {
      "image/png": "[encoded data removed]",
      "text/plain": [
       "<Figure size 432x288 with 1 Axes>"
      ]
     },
     "metadata": {
      "needs_background": "light"
     },
     "output_type": "display_data"
    },
    {
     "data": {
      "image/png": "[encoded data removed]",
      "text/plain": [
       "<Figure size 432x288 with 1 Axes>"
      ]
     },
     "metadata": {
      "needs_background": "light"
     },
     "output_type": "display_data"
    },
    {
     "name": "stdout",
     "output_type": "stream",
     "text": [
      "tensor(9)\n"
     ]
    }
   ],
   "source": [
    "idx=1231\n",
    "plot_image(X_te[idx])\n",
    "plot_image(X_te_flipped[idx])\n",
    "print(Y_te[idx])"
   ]
  },
  {
   "cell_type": "code",
   "execution_count": 9,
   "metadata": {},
   "outputs": [],
   "source": [
    "test_loss, test_acc = evaluate(model, test_dl_flipped)"
   ]
  },
  {
   "cell_type": "code",
   "execution_count": 10,
   "metadata": {},
   "outputs": [
    {
     "name": "stdout",
     "output_type": "stream",
     "text": [
      "Original Model's Flipped Test Results:  2.9914810546875 0.4196\n"
     ]
    }
   ],
   "source": [
    "print(\"Original Model's Flipped Test Results: \", test_loss, test_acc)"
   ]
  },
  {
   "cell_type": "code",
   "execution_count": 11,
   "metadata": {},
   "outputs": [
    {
     "name": "stdout",
     "output_type": "stream",
     "text": [
      "Class 0 \t Test Accuracy: 0.861 \t Flipped Test Accuracy: 0.732\t Accuracy Drop: 0.129\n",
      "Class 1 \t Test Accuracy: 0.937 \t Flipped Test Accuracy: 0.335\t Accuracy Drop: 0.602\n",
      "Class 2 \t Test Accuracy: 0.781 \t Flipped Test Accuracy: 0.324\t Accuracy Drop: 0.457\n",
      "Class 3 \t Test Accuracy: 0.760 \t Flipped Test Accuracy: 0.489\t Accuracy Drop: 0.271\n",
      "Class 4 \t Test Accuracy: 0.835 \t Flipped Test Accuracy: 0.444\t Accuracy Drop: 0.391\n",
      "Class 5 \t Test Accuracy: 0.745 \t Flipped Test Accuracy: 0.423\t Accuracy Drop: 0.322\n",
      "Class 6 \t Test Accuracy: 0.901 \t Flipped Test Accuracy: 0.742\t Accuracy Drop: 0.159\n",
      "Class 7 \t Test Accuracy: 0.871 \t Flipped Test Accuracy: 0.115\t Accuracy Drop: 0.756\n",
      "Class 8 \t Test Accuracy: 0.917 \t Flipped Test Accuracy: 0.241\t Accuracy Drop: 0.676\n",
      "Class 9 \t Test Accuracy: 0.901 \t Flipped Test Accuracy: 0.351\t Accuracy Drop: 0.550\n"
     ]
    }
   ],
   "source": [
    "# Organize the test data by class\n",
    "classes = {}\n",
    "for i in range(10):\n",
    "    classes[i] = []\n",
    "\n",
    "for idx, y in enumerate(Y_te):\n",
    "    classes[int(y)].append(idx)\n",
    "    \n",
    "for label in classes:\n",
    "    idxs = np.array(classes[label])\n",
    "    X_temp = X_te[idxs]\n",
    "    X_temp_flipped = X_te_flipped[idxs]\n",
    "    Y_temp = Y_te[idxs]\n",
    "    temp_dl = make_loader(TensorDataset(X_temp, Y_temp))\n",
    "    temp_dl_flipped = make_loader(TensorDataset(X_temp_flipped, Y_temp))\n",
    "    _, test_acc = evaluate(model, temp_dl)\n",
    "    _, test_acc_flipped = evaluate(model, temp_dl_flipped)\n",
    "    print(f'Class {label} \\t Test Accuracy: {test_acc:.3f} \\t Flipped Test Accuracy: {test_acc_flipped:.3f}' + \n",
    "          f'\\t Accuracy Drop: {test_acc - test_acc_flipped:.3f}')"
   ]
  },
  {
   "cell_type": "markdown",
   "metadata": {},
   "source": [
    "## Training a more robust model\n",
    "\n",
    "Ideas: \n",
    " - Train with flipped/rotated images\n",
    " - More powerful adversarial training? Although this might not help much since we are not testing on these kinds of adversaries "
   ]
  },
  {
   "cell_type": "code",
   "execution_count": 12,
   "metadata": {},
   "outputs": [],
   "source": [
    "X_tr_flipped = torch.flip(X_tr, [2])\n",
    "\n",
    "X_tr_combined = torch.cat([X_tr, X_tr_flipped])\n",
    "\n",
    "Y_tr_combined = torch.cat([Y_tr, Y_tr])\n",
    "\n",
    "train_combined_dl = make_loader(TensorDataset(X_tr_combined, Y_tr_combined))"
   ]
  },
  {
   "cell_type": "code",
   "execution_count": 13,
   "metadata": {},
   "outputs": [
    {
     "name": "stdout",
     "output_type": "stream",
     "text": [
      "Starting Epoch 0\n",
      "Epoch 0:\t Train Loss: 2.117 \t Train Acc: 0.362\t Test Acc: 0.318\t Test Acc Flipped: 0.320\n",
      "Starting Epoch 1\n",
      "Epoch 1:\t Train Loss: 1.209 \t Train Acc: 0.570\t Test Acc: 0.326\t Test Acc Flipped: 0.330\n",
      "Starting Epoch 2\n",
      "Epoch 2:\t Train Loss: 0.955 \t Train Acc: 0.663\t Test Acc: 0.463\t Test Acc Flipped: 0.471\n",
      "Starting Epoch 3\n",
      "Epoch 3:\t Train Loss: 0.798 \t Train Acc: 0.720\t Test Acc: 0.192\t Test Acc Flipped: 0.202\n",
      "Starting Epoch 4\n",
      "Epoch 4:\t Train Loss: 0.681 \t Train Acc: 0.762\t Test Acc: 0.374\t Test Acc Flipped: 0.385\n",
      "Starting Epoch 5\n",
      "Epoch 5:\t Train Loss: 0.583 \t Train Acc: 0.797\t Test Acc: 0.606\t Test Acc Flipped: 0.610\n",
      "Starting Epoch 6\n",
      "Epoch 6:\t Train Loss: 0.504 \t Train Acc: 0.825\t Test Acc: 0.549\t Test Acc Flipped: 0.544\n",
      "Starting Epoch 7\n",
      "Epoch 7:\t Train Loss: 0.430 \t Train Acc: 0.851\t Test Acc: 0.674\t Test Acc Flipped: 0.671\n",
      "Starting Epoch 8\n",
      "Epoch 8:\t Train Loss: 0.363 \t Train Acc: 0.876\t Test Acc: 0.523\t Test Acc Flipped: 0.517\n",
      "Starting Epoch 9\n",
      "Epoch 9:\t Train Loss: 0.292 \t Train Acc: 0.900\t Test Acc: 0.586\t Test Acc Flipped: 0.587\n",
      "Starting Epoch 10\n",
      "Epoch 10:\t Train Loss: 0.235 \t Train Acc: 0.921\t Test Acc: 0.767\t Test Acc Flipped: 0.767\n",
      "Starting Epoch 11\n",
      "Epoch 11:\t Train Loss: 0.167 \t Train Acc: 0.945\t Test Acc: 0.770\t Test Acc Flipped: 0.770\n",
      "Starting Epoch 12\n",
      "Epoch 12:\t Train Loss: 0.103 \t Train Acc: 0.968\t Test Acc: 0.726\t Test Acc Flipped: 0.734\n",
      "Starting Epoch 13\n",
      "Epoch 13:\t Train Loss: 0.038 \t Train Acc: 0.992\t Test Acc: 0.763\t Test Acc Flipped: 0.769\n",
      "Starting Epoch 14\n",
      "Epoch 14:\t Train Loss: 0.013 \t Train Acc: 0.999\t Test Acc: 0.836\t Test Acc Flipped: 0.835\n",
      "Starting Epoch 15\n",
      "Epoch 15:\t Train Loss: 0.006 \t Train Acc: 1.000\t Test Acc: 0.837\t Test Acc Flipped: 0.834\n",
      "Starting Epoch 16\n",
      "Epoch 16:\t Train Loss: 0.004 \t Train Acc: 1.000\t Test Acc: 0.837\t Test Acc Flipped: 0.838\n",
      "Starting Epoch 17\n",
      "Epoch 17:\t Train Loss: 0.003 \t Train Acc: 1.000\t Test Acc: 0.839\t Test Acc Flipped: 0.838\n",
      "Starting Epoch 18\n",
      "Epoch 18:\t Train Loss: 0.002 \t Train Acc: 1.000\t Test Acc: 0.837\t Test Acc Flipped: 0.839\n",
      "Starting Epoch 19\n",
      "Epoch 19:\t Train Loss: 0.002 \t Train Acc: 1.000\t Test Acc: 0.837\t Test Acc Flipped: 0.840\n"
     ]
    }
   ],
   "source": [
    "model_combined = make_cnn()\n",
    "opt = torch.optim.SGD(model_combined.parameters(), lr=0.1)\n",
    "epochs = 20\n",
    "for i in range(epochs):\n",
    "    print(f'Starting Epoch {i}')\n",
    "    train_loss, train_acc = train_epoch(model_combined, train_combined_dl, opt, k = 800, printer = False)\n",
    "    test_loss, test_acc = evaluate(model_combined, test_dl)\n",
    "    test_loss_flipped, test_acc_flipped = evaluate(model_combined, test_dl_flipped)\n",
    "    \n",
    "    print(f'Epoch {i}:\\t Train Loss: {train_loss:.3f} \\t Train Acc: {train_acc:.3f}\\t ' + \n",
    "          f'Test Acc: {test_acc:.3f}\\t Test Acc Flipped: {test_acc_flipped:.3f}')"
   ]
  },
  {
   "cell_type": "markdown",
   "metadata": {},
   "source": [
    "## Randomizing Labels in the Dataset"
   ]
  },
  {
   "cell_type": "code",
   "execution_count": 5,
   "metadata": {},
   "outputs": [],
   "source": [
    "def randomize_labels(labels, p):\n",
    "    rand = torch.where(torch.rand(size=labels.shape) < p, torch.tensor([1]), torch.tensor([0])) \n",
    "    return rand * torch.randint(low=0, high=10, size=labels.shape) + (1 - rand) * labels"
   ]
  },
  {
   "cell_type": "code",
   "execution_count": 6,
   "metadata": {},
   "outputs": [],
   "source": [
    "p_vals = [0, 0.5, 1.0]\n",
    "training_labels = []\n",
    "testing_labels = []\n",
    "for p in p_vals:\n",
    "    training_labels.append(randomize_labels(Y_tr, p))\n",
    "    testing_labels.append(randomize_labels(Y_te, p))"
   ]
  },
  {
   "cell_type": "code",
   "execution_count": null,
   "metadata": {},
   "outputs": [
    {
     "name": "stdout",
     "output_type": "stream",
     "text": [
      "Epoch 0:\t Train Loss: 1.707 \t Train Acc: 0.364\t Test Acc: 0.421\n",
      "Epoch 60:\t Train Loss: 0.735 \t Train Acc: 0.741\t Test Acc: 0.654\n",
      "Epoch 120:\t Train Loss: 0.690 \t Train Acc: 0.759\t Test Acc: 0.671\n",
      "Epoch 180:\t Train Loss: 0.671 \t Train Acc: 0.764\t Test Acc: 0.672\n",
      "Epoch 240:\t Train Loss: 0.657 \t Train Acc: 0.769\t Test Acc: 0.681\n",
      "Epoch 300:\t Train Loss: 0.647 \t Train Acc: 0.772\t Test Acc: 0.678\n",
      "Epoch 360:\t Train Loss: 0.640 \t Train Acc: 0.775\t Test Acc: 0.675\n",
      "Epoch 420:\t Train Loss: 0.635 \t Train Acc: 0.777\t Test Acc: 0.679\n",
      "Epoch 480:\t Train Loss: 0.631 \t Train Acc: 0.778\t Test Acc: 0.675\n",
      "Epoch 540:\t Train Loss: 0.626 \t Train Acc: 0.780\t Test Acc: 0.678\n",
      "Epoch 0:\t Train Loss: 2.214 \t Train Acc: 0.203\t Test Acc: 0.229\n",
      "Epoch 60:\t Train Loss: 1.914 \t Train Acc: 0.378\t Test Acc: 0.318\n",
      "Epoch 120:\t Train Loss: 1.881 \t Train Acc: 0.387\t Test Acc: 0.309\n",
      "Epoch 180:\t Train Loss: 1.865 \t Train Acc: 0.389\t Test Acc: 0.303\n",
      "Epoch 240:\t Train Loss: 1.855 \t Train Acc: 0.392\t Test Acc: 0.302\n",
      "Epoch 300:\t Train Loss: 1.850 \t Train Acc: 0.393\t Test Acc: 0.298\n",
      "Epoch 360:\t Train Loss: 1.844 \t Train Acc: 0.394\t Test Acc: 0.298\n",
      "Epoch 420:\t Train Loss: 1.840 \t Train Acc: 0.396\t Test Acc: 0.301\n",
      "Epoch 480:\t Train Loss: 1.836 \t Train Acc: 0.397\t Test Acc: 0.301\n",
      "Epoch 540:\t Train Loss: 1.832 \t Train Acc: 0.398\t Test Acc: 0.302\n",
      "Epoch 0:\t Train Loss: 2.324 \t Train Acc: 0.100\t Test Acc: 0.102\n",
      "Epoch 60:\t Train Loss: 2.238 \t Train Acc: 0.167\t Test Acc: 0.102\n",
      "Epoch 120:\t Train Loss: 2.194 \t Train Acc: 0.193\t Test Acc: 0.104\n",
      "Epoch 180:\t Train Loss: 2.175 \t Train Acc: 0.204\t Test Acc: 0.102\n",
      "Epoch 240:\t Train Loss: 2.164 \t Train Acc: 0.210\t Test Acc: 0.102\n",
      "Epoch 300:\t Train Loss: 2.156 \t Train Acc: 0.214\t Test Acc: 0.101\n",
      "Epoch 360:\t Train Loss: 2.152 \t Train Acc: 0.217\t Test Acc: 0.101\n",
      "Epoch 420:\t Train Loss: 2.146 \t Train Acc: 0.220\t Test Acc: 0.101\n",
      "Epoch 480:\t Train Loss: 2.143 \t Train Acc: 0.221\t Test Acc: 0.100\n",
      "Epoch 540:\t Train Loss: 2.138 \t Train Acc: 0.225\t Test Acc: 0.098\n"
     ]
    }
   ],
   "source": [
    "models = []\n",
    "training_errors = []\n",
    "testing_errors = []\n",
    "training_acc = []\n",
    "testing_acc = []\n",
    "for tr_label, te_label in zip(training_labels, testing_labels):\n",
    "    model = make_cnn(c=4)\n",
    "    epochs = 600\n",
    "    temp_train_dl = make_loader(TensorDataset(X_tr, tr_label))\n",
    "    temp_test_dl = make_loader(TensorDataset(X_te, te_label))\n",
    "    start_lr = 0.05\n",
    "    for i in range(epochs):\n",
    "        opt = torch.optim.SGD(model.parameters(), lr=start_lr - (i/epochs) * start_lr * 0.7)\n",
    "        \n",
    "        train_loss, train_acc = train_epoch(model, temp_train_dl, opt, k=400, printer=False)\n",
    "        test_loss, test_acc = evaluate(model, temp_test_dl)\n",
    "        \n",
    "        if i % (epochs//10) == 0: \n",
    "            print(f'Epoch {i}:\\t Train Loss: {train_loss:.3f} \\t Train Acc: {train_acc:.3f}\\t ' + \n",
    "                  f'Test Acc: {test_acc:.3f}')\n",
    "    training_errors.append(train_loss)\n",
    "    training_acc.append(train_acc)\n",
    "    testing_errors.append(test_loss)\n",
    "    testing_acc.append(test_acc)\n",
    "\n",
    "    models.append(model)"
   ]
  },
  {
   "cell_type": "code",
   "execution_count": null,
   "metadata": {},
   "outputs": [
    {
     "name": "stdout",
     "output_type": "stream",
     "text": [
      "Epoch 2:\t Train Loss: 1.074 \t Train Acc: 0.624\t Test Acc: 0.606\n",
      "Epoch 3:\t Train Loss: 0.891 \t Train Acc: 0.693\t Test Acc: 0.620\n",
      "Epoch 4:\t Train Loss: 0.757 \t Train Acc: 0.738\t Test Acc: 0.712\n",
      "Epoch 5:\t Train Loss: 0.643 \t Train Acc: 0.782\t Test Acc: 0.701\n",
      "Epoch 6:\t Train Loss: 0.551 \t Train Acc: 0.811\t Test Acc: 0.702\n",
      "Epoch 7:\t Train Loss: 0.468 \t Train Acc: 0.843\t Test Acc: 0.686\n",
      "Epoch 8:\t Train Loss: 0.395 \t Train Acc: 0.867\t Test Acc: 0.716\n",
      "Epoch 9:\t Train Loss: 0.317 \t Train Acc: 0.895\t Test Acc: 0.752\n",
      "Epoch 10:\t Train Loss: 0.251 \t Train Acc: 0.916\t Test Acc: 0.699\n",
      "Epoch 11:\t Train Loss: 0.175 \t Train Acc: 0.944\t Test Acc: 0.747\n",
      "Epoch 12:\t Train Loss: 0.121 \t Train Acc: 0.964\t Test Acc: 0.784\n",
      "Epoch 13:\t Train Loss: 0.053 \t Train Acc: 0.991\t Test Acc: 0.827\n",
      "Epoch 14:\t Train Loss: 0.020 \t Train Acc: 0.999\t Test Acc: 0.842\n",
      "Epoch 15:\t Train Loss: 0.011 \t Train Acc: 1.000\t Test Acc: 0.847\n",
      "Epoch 16:\t Train Loss: 0.008 \t Train Acc: 1.000\t Test Acc: 0.849\n",
      "Epoch 17:\t Train Loss: 0.006 \t Train Acc: 1.000\t Test Acc: 0.849\n",
      "Epoch 18:\t Train Loss: 0.005 \t Train Acc: 1.000\t Test Acc: 0.849\n",
      "Epoch 19:\t Train Loss: 0.004 \t Train Acc: 1.000\t Test Acc: 0.849\n",
      "Epoch 20:\t Train Loss: 0.004 \t Train Acc: 1.000\t Test Acc: 0.850\n",
      "Epoch 21:\t Train Loss: 0.003 \t Train Acc: 1.000\t Test Acc: 0.848\n",
      "Epoch 22:\t Train Loss: 0.003 \t Train Acc: 1.000\t Test Acc: 0.850\n",
      "Epoch 23:\t Train Loss: 0.003 \t Train Acc: 1.000\t Test Acc: 0.851\n",
      "Epoch 24:\t Train Loss: 0.003 \t Train Acc: 1.000\t Test Acc: 0.851\n",
      "Epoch 25:\t Train Loss: 0.002 \t Train Acc: 1.000\t Test Acc: 0.850\n",
      "Epoch 26:\t Train Loss: 0.002 \t Train Acc: 1.000\t Test Acc: 0.848\n",
      "Epoch 27:\t Train Loss: 0.002 \t Train Acc: 1.000\t Test Acc: 0.849\n",
      "Epoch 28:\t Train Loss: 0.002 \t Train Acc: 1.000\t Test Acc: 0.851\n",
      "Stopping model after reaching 0 training loss\n",
      "Epoch 0:\t Train Loss: 2.851 \t Train Acc: 0.163\t Test Acc: 0.171\n",
      "Epoch 1:\t Train Loss: 2.189 \t Train Acc: 0.236\t Test Acc: 0.255\n",
      "Epoch 2:\t Train Loss: 2.129 \t Train Acc: 0.270\t Test Acc: 0.289\n",
      "Epoch 3:\t Train Loss: 2.093 \t Train Acc: 0.293\t Test Acc: 0.307\n",
      "Epoch 4:\t Train Loss: 2.070 \t Train Acc: 0.311\t Test Acc: 0.277\n",
      "Epoch 5:\t Train Loss: 2.041 \t Train Acc: 0.326\t Test Acc: 0.312\n",
      "Epoch 6:\t Train Loss: 2.017 \t Train Acc: 0.343\t Test Acc: 0.244\n",
      "Epoch 7:\t Train Loss: 1.994 \t Train Acc: 0.353\t Test Acc: 0.318\n",
      "Epoch 8:\t Train Loss: 1.971 \t Train Acc: 0.364\t Test Acc: 0.297\n",
      "Epoch 9:\t Train Loss: 1.949 \t Train Acc: 0.375\t Test Acc: 0.345\n",
      "Epoch 10:\t Train Loss: 1.924 \t Train Acc: 0.386\t Test Acc: 0.327\n",
      "Epoch 11:\t Train Loss: 1.898 \t Train Acc: 0.394\t Test Acc: 0.322\n",
      "Epoch 12:\t Train Loss: 1.872 \t Train Acc: 0.401\t Test Acc: 0.323\n",
      "Epoch 13:\t Train Loss: 1.838 \t Train Acc: 0.413\t Test Acc: 0.335\n",
      "Epoch 14:\t Train Loss: 1.802 \t Train Acc: 0.424\t Test Acc: 0.306\n",
      "Epoch 15:\t Train Loss: 1.774 \t Train Acc: 0.434\t Test Acc: 0.316\n",
      "Epoch 16:\t Train Loss: 1.728 \t Train Acc: 0.446\t Test Acc: 0.294\n",
      "Epoch 17:\t Train Loss: 1.691 \t Train Acc: 0.457\t Test Acc: 0.241\n",
      "Epoch 18:\t Train Loss: 1.644 \t Train Acc: 0.474\t Test Acc: 0.280\n",
      "Epoch 19:\t Train Loss: 1.592 \t Train Acc: 0.495\t Test Acc: 0.196\n",
      "Epoch 20:\t Train Loss: 1.529 \t Train Acc: 0.518\t Test Acc: 0.230\n",
      "Epoch 21:\t Train Loss: 1.475 \t Train Acc: 0.538\t Test Acc: 0.282\n",
      "Epoch 22:\t Train Loss: 1.382 \t Train Acc: 0.568\t Test Acc: 0.259\n",
      "Epoch 23:\t Train Loss: 1.301 \t Train Acc: 0.598\t Test Acc: 0.232\n",
      "Epoch 24:\t Train Loss: 1.207 \t Train Acc: 0.626\t Test Acc: 0.177\n",
      "Epoch 25:\t Train Loss: 1.076 \t Train Acc: 0.676\t Test Acc: 0.296\n",
      "Epoch 26:\t Train Loss: 0.925 \t Train Acc: 0.719\t Test Acc: 0.237\n",
      "Epoch 27:\t Train Loss: 0.707 \t Train Acc: 0.793\t Test Acc: 0.208\n",
      "Epoch 28:\t Train Loss: 0.320 \t Train Acc: 0.919\t Test Acc: 0.132\n",
      "Epoch 29:\t Train Loss: 0.135 \t Train Acc: 0.979\t Test Acc: 0.322\n",
      "Epoch 30:\t Train Loss: 0.041 \t Train Acc: 0.998\t Test Acc: 0.329\n",
      "Epoch 31:\t Train Loss: 0.021 \t Train Acc: 1.000\t Test Acc: 0.330\n",
      "Epoch 32:\t Train Loss: 0.014 \t Train Acc: 1.000\t Test Acc: 0.329\n",
      "Epoch 33:\t Train Loss: 0.011 \t Train Acc: 1.000\t Test Acc: 0.336\n",
      "Epoch 34:\t Train Loss: 0.009 \t Train Acc: 1.000\t Test Acc: 0.335\n",
      "Epoch 35:\t Train Loss: 0.008 \t Train Acc: 1.000\t Test Acc: 0.337\n",
      "Epoch 36:\t Train Loss: 0.007 \t Train Acc: 1.000\t Test Acc: 0.338\n",
      "Epoch 37:\t Train Loss: 0.006 \t Train Acc: 1.000\t Test Acc: 0.339\n",
      "Epoch 38:\t Train Loss: 0.006 \t Train Acc: 1.000\t Test Acc: 0.338\n",
      "Epoch 39:\t Train Loss: 0.005 \t Train Acc: 1.000\t Test Acc: 0.338\n",
      "Epoch 40:\t Train Loss: 0.005 \t Train Acc: 1.000\t Test Acc: 0.338\n",
      "Epoch 41:\t Train Loss: 0.005 \t Train Acc: 1.000\t Test Acc: 0.338\n",
      "Epoch 42:\t Train Loss: 0.004 \t Train Acc: 1.000\t Test Acc: 0.338\n",
      "Epoch 43:\t Train Loss: 0.004 \t Train Acc: 1.000\t Test Acc: 0.339\n",
      "Epoch 44:\t Train Loss: 0.004 \t Train Acc: 1.000\t Test Acc: 0.338\n",
      "Epoch 45:\t Train Loss: 0.004 \t Train Acc: 1.000\t Test Acc: 0.338\n",
      "Epoch 46:\t Train Loss: 0.003 \t Train Acc: 1.000\t Test Acc: 0.339\n",
      "Epoch 47:\t Train Loss: 0.003 \t Train Acc: 1.000\t Test Acc: 0.340\n",
      "Epoch 48:\t Train Loss: 0.003 \t Train Acc: 1.000\t Test Acc: 0.339\n",
      "Epoch 49:\t Train Loss: 0.003 \t Train Acc: 1.000\t Test Acc: 0.339\n",
      "Epoch 50:\t Train Loss: 0.003 \t Train Acc: 1.000\t Test Acc: 0.340\n",
      "Epoch 51:\t Train Loss: 0.003 \t Train Acc: 1.000\t Test Acc: 0.339\n",
      "Epoch 52:\t Train Loss: 0.003 \t Train Acc: 1.000\t Test Acc: 0.340\n",
      "Epoch 53:\t Train Loss: 0.003 \t Train Acc: 1.000\t Test Acc: 0.339\n",
      "Epoch 54:\t Train Loss: 0.003 \t Train Acc: 1.000\t Test Acc: 0.339\n",
      "Epoch 55:\t Train Loss: 0.003 \t Train Acc: 1.000\t Test Acc: 0.339\n",
      "Epoch 56:\t Train Loss: 0.002 \t Train Acc: 1.000\t Test Acc: 0.339\n",
      "Epoch 57:\t Train Loss: 0.002 \t Train Acc: 1.000\t Test Acc: 0.340\n",
      "Epoch 58:\t Train Loss: 0.002 \t Train Acc: 1.000\t Test Acc: 0.341\n",
      "Epoch 59:\t Train Loss: 0.002 \t Train Acc: 1.000\t Test Acc: 0.339\n",
      "Epoch 60:\t Train Loss: 0.002 \t Train Acc: 1.000\t Test Acc: 0.341\n",
      "Epoch 61:\t Train Loss: 0.002 \t Train Acc: 1.000\t Test Acc: 0.341\n",
      "Epoch 62:\t Train Loss: 0.002 \t Train Acc: 1.000\t Test Acc: 0.341\n",
      "Epoch 63:\t Train Loss: 0.002 \t Train Acc: 1.000\t Test Acc: 0.340\n",
      "Epoch 64:\t Train Loss: 0.002 \t Train Acc: 1.000\t Test Acc: 0.340\n",
      "Epoch 65:\t Train Loss: 0.002 \t Train Acc: 1.000\t Test Acc: 0.340\n",
      "Stopping model after reaching 0 training loss\n",
      "Epoch 0:\t Train Loss: 2.566 \t Train Acc: 0.104\t Test Acc: 0.098\n",
      "Epoch 1:\t Train Loss: 2.321 \t Train Acc: 0.103\t Test Acc: 0.102\n",
      "Epoch 2:\t Train Loss: 2.314 \t Train Acc: 0.105\t Test Acc: 0.101\n",
      "Epoch 3:\t Train Loss: 2.312 \t Train Acc: 0.103\t Test Acc: 0.100\n",
      "Epoch 4:\t Train Loss: 2.310 \t Train Acc: 0.105\t Test Acc: 0.102\n",
      "Epoch 5:\t Train Loss: 2.310 \t Train Acc: 0.105\t Test Acc: 0.102\n",
      "Epoch 6:\t Train Loss: 2.308 \t Train Acc: 0.107\t Test Acc: 0.096\n",
      "Epoch 7:\t Train Loss: 2.308 \t Train Acc: 0.107\t Test Acc: 0.097\n",
      "Epoch 8:\t Train Loss: 2.307 \t Train Acc: 0.106\t Test Acc: 0.098\n",
      "Epoch 9:\t Train Loss: 2.305 \t Train Acc: 0.110\t Test Acc: 0.095\n",
      "Epoch 10:\t Train Loss: 2.304 \t Train Acc: 0.112\t Test Acc: 0.099\n",
      "Epoch 11:\t Train Loss: 2.303 \t Train Acc: 0.115\t Test Acc: 0.098\n",
      "Epoch 12:\t Train Loss: 2.302 \t Train Acc: 0.115\t Test Acc: 0.098\n",
      "Epoch 13:\t Train Loss: 2.298 \t Train Acc: 0.116\t Test Acc: 0.103\n",
      "Epoch 14:\t Train Loss: 2.298 \t Train Acc: 0.120\t Test Acc: 0.100\n",
      "Epoch 15:\t Train Loss: 2.294 \t Train Acc: 0.122\t Test Acc: 0.100\n",
      "Epoch 16:\t Train Loss: 2.292 \t Train Acc: 0.128\t Test Acc: 0.103\n",
      "Epoch 17:\t Train Loss: 2.289 \t Train Acc: 0.129\t Test Acc: 0.102\n",
      "Epoch 18:\t Train Loss: 2.286 \t Train Acc: 0.134\t Test Acc: 0.101\n",
      "Epoch 19:\t Train Loss: 2.280 \t Train Acc: 0.136\t Test Acc: 0.101\n",
      "Epoch 20:\t Train Loss: 2.276 \t Train Acc: 0.141\t Test Acc: 0.103\n",
      "Epoch 21:\t Train Loss: 2.270 \t Train Acc: 0.146\t Test Acc: 0.100\n",
      "Epoch 22:\t Train Loss: 2.261 \t Train Acc: 0.151\t Test Acc: 0.097\n",
      "Epoch 23:\t Train Loss: 2.255 \t Train Acc: 0.159\t Test Acc: 0.102\n",
      "Epoch 24:\t Train Loss: 2.242 \t Train Acc: 0.168\t Test Acc: 0.101\n",
      "Epoch 25:\t Train Loss: 2.230 \t Train Acc: 0.171\t Test Acc: 0.095\n",
      "Epoch 26:\t Train Loss: 2.221 \t Train Acc: 0.180\t Test Acc: 0.104\n",
      "Epoch 27:\t Train Loss: 2.202 \t Train Acc: 0.194\t Test Acc: 0.101\n",
      "Epoch 28:\t Train Loss: 2.191 \t Train Acc: 0.200\t Test Acc: 0.104\n",
      "Epoch 29:\t Train Loss: 2.164 \t Train Acc: 0.216\t Test Acc: 0.101\n",
      "Epoch 30:\t Train Loss: 2.144 \t Train Acc: 0.227\t Test Acc: 0.098\n",
      "Epoch 31:\t Train Loss: 2.123 \t Train Acc: 0.243\t Test Acc: 0.102\n",
      "Epoch 32:\t Train Loss: 2.102 \t Train Acc: 0.261\t Test Acc: 0.102\n",
      "Epoch 33:\t Train Loss: 2.070 \t Train Acc: 0.278\t Test Acc: 0.104\n",
      "Epoch 34:\t Train Loss: 2.031 \t Train Acc: 0.300\t Test Acc: 0.096\n",
      "Epoch 35:\t Train Loss: 2.001 \t Train Acc: 0.320\t Test Acc: 0.102\n",
      "Epoch 36:\t Train Loss: 1.957 \t Train Acc: 0.343\t Test Acc: 0.099\n",
      "Epoch 37:\t Train Loss: 1.918 \t Train Acc: 0.366\t Test Acc: 0.099\n",
      "Epoch 38:\t Train Loss: 1.872 \t Train Acc: 0.393\t Test Acc: 0.100\n",
      "Epoch 39:\t Train Loss: 1.816 \t Train Acc: 0.419\t Test Acc: 0.102\n",
      "Epoch 40:\t Train Loss: 1.742 \t Train Acc: 0.446\t Test Acc: 0.098\n",
      "Epoch 41:\t Train Loss: 1.689 \t Train Acc: 0.483\t Test Acc: 0.100\n",
      "Epoch 42:\t Train Loss: 1.587 \t Train Acc: 0.516\t Test Acc: 0.103\n",
      "Epoch 43:\t Train Loss: 1.521 \t Train Acc: 0.544\t Test Acc: 0.095\n",
      "Epoch 44:\t Train Loss: 1.388 \t Train Acc: 0.583\t Test Acc: 0.099\n",
      "Epoch 45:\t Train Loss: 1.237 \t Train Acc: 0.630\t Test Acc: 0.100\n",
      "Epoch 46:\t Train Loss: 1.099 \t Train Acc: 0.676\t Test Acc: 0.100\n",
      "Epoch 47:\t Train Loss: 0.861 \t Train Acc: 0.743\t Test Acc: 0.095\n",
      "Epoch 48:\t Train Loss: 0.469 \t Train Acc: 0.870\t Test Acc: 0.104\n",
      "Epoch 49:\t Train Loss: 0.187 \t Train Acc: 0.967\t Test Acc: 0.098\n",
      "Epoch 50:\t Train Loss: 0.078 \t Train Acc: 0.994\t Test Acc: 0.100\n",
      "Epoch 51:\t Train Loss: 0.039 \t Train Acc: 0.998\t Test Acc: 0.097\n",
      "Epoch 52:\t Train Loss: 0.024 \t Train Acc: 0.999\t Test Acc: 0.100\n",
      "Epoch 53:\t Train Loss: 0.017 \t Train Acc: 1.000\t Test Acc: 0.099\n",
      "Epoch 54:\t Train Loss: 0.014 \t Train Acc: 1.000\t Test Acc: 0.099\n",
      "Epoch 55:\t Train Loss: 0.012 \t Train Acc: 1.000\t Test Acc: 0.100\n",
      "Epoch 56:\t Train Loss: 0.010 \t Train Acc: 1.000\t Test Acc: 0.098\n",
      "Epoch 57:\t Train Loss: 0.009 \t Train Acc: 1.000\t Test Acc: 0.098\n",
      "Epoch 58:\t Train Loss: 0.008 \t Train Acc: 1.000\t Test Acc: 0.098\n",
      "Epoch 59:\t Train Loss: 0.007 \t Train Acc: 1.000\t Test Acc: 0.098\n",
      "Epoch 60:\t Train Loss: 0.007 \t Train Acc: 1.000\t Test Acc: 0.097\n",
      "Epoch 61:\t Train Loss: 0.006 \t Train Acc: 1.000\t Test Acc: 0.098\n",
      "Epoch 62:\t Train Loss: 0.006 \t Train Acc: 1.000\t Test Acc: 0.099\n",
      "Epoch 63:\t Train Loss: 0.006 \t Train Acc: 1.000\t Test Acc: 0.098\n",
      "Epoch 64:\t Train Loss: 0.006 \t Train Acc: 1.000\t Test Acc: 0.096\n",
      "Epoch 65:\t Train Loss: 0.005 \t Train Acc: 1.000\t Test Acc: 0.097\n",
      "Epoch 66:\t Train Loss: 0.005 \t Train Acc: 1.000\t Test Acc: 0.096\n",
      "Epoch 67:\t Train Loss: 0.005 \t Train Acc: 1.000\t Test Acc: 0.098\n",
      "Epoch 68:\t Train Loss: 0.005 \t Train Acc: 1.000\t Test Acc: 0.098\n",
      "Epoch 69:\t Train Loss: 0.004 \t Train Acc: 1.000\t Test Acc: 0.097\n",
      "Epoch 70:\t Train Loss: 0.004 \t Train Acc: 1.000\t Test Acc: 0.098\n",
      "Epoch 71:\t Train Loss: 0.004 \t Train Acc: 1.000\t Test Acc: 0.099\n",
      "Epoch 72:\t Train Loss: 0.004 \t Train Acc: 1.000\t Test Acc: 0.099\n",
      "Epoch 73:\t Train Loss: 0.004 \t Train Acc: 1.000\t Test Acc: 0.096\n",
      "Epoch 74:\t Train Loss: 0.004 \t Train Acc: 1.000\t Test Acc: 0.098\n",
      "Epoch 75:\t Train Loss: 0.004 \t Train Acc: 1.000\t Test Acc: 0.098\n",
      "Epoch 76:\t Train Loss: 0.004 \t Train Acc: 1.000\t Test Acc: 0.098\n",
      "Epoch 77:\t Train Loss: 0.003 \t Train Acc: 1.000\t Test Acc: 0.099\n",
      "Epoch 78:\t Train Loss: 0.003 \t Train Acc: 1.000\t Test Acc: 0.097\n",
      "Epoch 79:\t Train Loss: 0.003 \t Train Acc: 1.000\t Test Acc: 0.098\n",
      "Epoch 80:\t Train Loss: 0.003 \t Train Acc: 1.000\t Test Acc: 0.099\n",
      "Epoch 81:\t Train Loss: 0.003 \t Train Acc: 1.000\t Test Acc: 0.099\n",
      "Epoch 82:\t Train Loss: 0.003 \t Train Acc: 1.000\t Test Acc: 0.098\n",
      "Epoch 83:\t Train Loss: 0.003 \t Train Acc: 1.000\t Test Acc: 0.098\n",
      "Epoch 84:\t Train Loss: 0.003 \t Train Acc: 1.000\t Test Acc: 0.098\n",
      "Epoch 85:\t Train Loss: 0.003 \t Train Acc: 1.000\t Test Acc: 0.098\n",
      "Epoch 86:\t Train Loss: 0.003 \t Train Acc: 1.000\t Test Acc: 0.097\n",
      "Epoch 87:\t Train Loss: 0.003 \t Train Acc: 1.000\t Test Acc: 0.099\n",
      "Epoch 88:\t Train Loss: 0.003 \t Train Acc: 1.000\t Test Acc: 0.098\n",
      "Epoch 89:\t Train Loss: 0.003 \t Train Acc: 1.000\t Test Acc: 0.097\n",
      "Epoch 90:\t Train Loss: 0.003 \t Train Acc: 1.000\t Test Acc: 0.097\n",
      "Epoch 91:\t Train Loss: 0.003 \t Train Acc: 1.000\t Test Acc: 0.099\n",
      "Epoch 92:\t Train Loss: 0.003 \t Train Acc: 1.000\t Test Acc: 0.097\n",
      "Epoch 93:\t Train Loss: 0.003 \t Train Acc: 1.000\t Test Acc: 0.097\n",
      "Epoch 94:\t Train Loss: 0.002 \t Train Acc: 1.000\t Test Acc: 0.097\n",
      "Epoch 95:\t Train Loss: 0.002 \t Train Acc: 1.000\t Test Acc: 0.098\n",
      "Epoch 96:\t Train Loss: 0.002 \t Train Acc: 1.000\t Test Acc: 0.098\n",
      "Epoch 97:\t Train Loss: 0.002 \t Train Acc: 1.000\t Test Acc: 0.099\n",
      "Epoch 98:\t Train Loss: 0.002 \t Train Acc: 1.000\t Test Acc: 0.098\n",
      "Epoch 99:\t Train Loss: 0.002 \t Train Acc: 1.000\t Test Acc: 0.097\n"
     ]
    }
   ],
   "source": [
    "models2 = []\n",
    "training_errors2 = []\n",
    "testing_errors2 = []\n",
    "training_acc2 = []\n",
    "testing_acc2 = []\n",
    "for tr_label, te_label in zip(training_labels, testing_labels):\n",
    "    model = make_cnn(c=64)\n",
    "    epochs = 100\n",
    "    temp_train_dl = make_loader(TensorDataset(X_tr, tr_label))\n",
    "    temp_test_dl = make_loader(TensorDataset(X_te, te_label))\n",
    "    start_lr = 0.05\n",
    "    for i in range(epochs):\n",
    "        opt = torch.optim.SGD(model.parameters(), lr=start_lr - (i/epochs) * start_lr * 0.7)\n",
    "        \n",
    "        train_loss, train_acc = train_epoch(model, temp_train_dl, opt, k=400, printer=False)\n",
    "        test_loss, test_acc = evaluate(model, temp_test_dl)\n",
    "        \n",
    "        if i % (epochs//100) == 0: \n",
    "            print(f'Epoch {i}:\\t Train Loss: {train_loss:.3f} \\t Train Acc: {train_acc:.3f}\\t ' + \n",
    "                  f'Test Acc: {test_acc:.3f}')\n",
    "        if train_loss < 0.002:\n",
    "            print('Stopping model after reaching 0 training loss')\n",
    "            break\n",
    "    training_errors2.append(train_loss)\n",
    "    training_acc2.append(train_acc)\n",
    "    testing_errors2.append(test_loss)\n",
    "    testing_acc2.append(test_acc)\n",
    "\n",
    "    models2.append(model)"
   ]
  },
  {
   "cell_type": "code",
   "execution_count": 11,
   "metadata": {},
   "outputs": [
    {
     "data": {
      "text/plain": [
       "([tensor(0.7817, device='cuda:0'),\n",
       "  tensor(0.3986, device='cuda:0'),\n",
       "  tensor(0.2253, device='cuda:0')],\n",
       " [tensor(1., device='cuda:0'),\n",
       "  tensor(1., device='cuda:0'),\n",
       "  tensor(1., device='cuda:0')])"
      ]
     },
     "execution_count": 11,
     "metadata": {},
     "output_type": "execute_result"
    }
   ],
   "source": [
    "training_acc, training_acc2"
   ]
  },
  {
   "cell_type": "code",
   "execution_count": 12,
   "metadata": {},
   "outputs": [
    {
     "data": {
      "text/plain": [
       "([0.6782, 0.3007, 0.0998], [0.8512, 0.3402, 0.0972])"
      ]
     },
     "execution_count": 12,
     "metadata": {},
     "output_type": "execute_result"
    }
   ],
   "source": [
    "testing_acc, testing_acc2"
   ]
  },
  {
   "cell_type": "markdown",
   "metadata": {},
   "source": [
    "# Problem 2 Answer\n",
    "\n",
    "(1) Report the errors and plots.\n",
    "\n",
    "Below are the plots for the training error and test error of the two models. I chose note to make a line plot and instead chose a scatter plot since only 3 points were actually calculated, and it would be misleading to assume the relationship of error and $p$ is linear without further testing. Overall, note that the underparametrized training error increased as the labels were destroyed, since it made it harder for the underparametrized error to find the correct patterns in the data. On the other hand, the overparamatrized training error remained at 0 as the labels were destroyed, due to the fact that the overparametrized model could fit almost any training set of those dimensions perfectly because of the number of free parameters in the model. However, on the test set, the 'nonsense' the overparametrized learned to fit to the training set was demonstrated as it performed very poorly (10% accuracy), which was the expected result. We can see that as information in the labels was destroyed, the testing error converged to the same value for both regimes.\n",
    "\n",
    "(2) Explain the differences.\n",
    "\n",
    "As explained above, it's no surprise that the overparametrized model was able to achieve low training error, but it did so by finding a very specific solution that held no generalization power. On the other hand, the underparametrized model had smaller gaps between training and testing error due to it's inability to fit the complex decision boundaries that were required once the labels were destroyed. The behavior of the models at value of $p$ between 0 and 1 (e.g. $p = 0.5$ in this case) is also particularly interesting, as both models had very similar training errors at above 70%. More experiments would need to be done to see how much you can destroy the labels while preserving the overparametrized models performance over the underparametrized model."
   ]
  },
  {
   "cell_type": "code",
   "execution_count": 11,
   "metadata": {},
   "outputs": [
    {
     "data": {
      "image/png": "[encoded data removed]",
      "text/plain": [
       "<Figure size 432x288 with 1 Axes>"
      ]
     },
     "metadata": {
      "needs_background": "light"
     },
     "output_type": "display_data"
    }
   ],
   "source": [
    "plt.scatter([0, 0.5, 1], 1 - np.array(training_acc))\n",
    "plt.scatter([0, 0.5, 1], 1 - np.array(training_acc2))\n",
    "plt.title('Training Error of Models')\n",
    "plt.xlabel('p (Label Randomness)')\n",
    "plt.ylabel('Training Accuracy')\n",
    "plt.legend(['Underparametrized Regime', 'Overparametrized Regime'])\n",
    "plt.show()"
   ]
  },
  {
   "cell_type": "code",
   "execution_count": 12,
   "metadata": {},
   "outputs": [
    {
     "data": {
      "image/png": "[encoded data removed]",
      "text/plain": [
       "<Figure size 432x288 with 1 Axes>"
      ]
     },
     "metadata": {
      "needs_background": "light"
     },
     "output_type": "display_data"
    }
   ],
   "source": [
    "plt.scatter([0, 0.5, 1], 1 - np.array(testing_acc))\n",
    "plt.scatter([0, 0.5, 1], 1 - np.array(testing_acc2))\n",
    "plt.title('Testing Error of Models')\n",
    "plt.xlabel('p (Label Randomness)')\n",
    "plt.ylabel('Test Accuracy')\n",
    "plt.legend(['Underparametrized Regime', 'Overparametrized Regime'])\n",
    "plt.show()"
   ]
  },
  {
   "cell_type": "markdown",
   "metadata": {},
   "source": []
  }
 ],
 "metadata": {
  "kernelspec": {
   "display_name": "Python 3",
   "language": "python",
   "name": "python3"
  },
  "language_info": {
   "codemirror_mode": {
    "name": "ipython",
    "version": 3
   },
   "file_extension": ".py",
   "mimetype": "text/x-python",
   "name": "python",
   "nbconvert_exporter": "python",
   "pygments_lexer": "ipython3",
   "version": "3.6.8"
  }
 },
 "nbformat": 4,
 "nbformat_minor": 5
}
