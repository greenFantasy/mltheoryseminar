{
 "cells": [
  {
   "cell_type": "code",
   "execution_count": 118,
   "metadata": {},
   "outputs": [],
   "source": [
    "import torch\n",
    "import torch.nn as nn\n",
    "import numpy as np\n",
    "from torch.utils.data import DataLoader, Dataset, TensorDataset\n",
    "import torchvision.datasets as ds\n",
    "import pylab as plt\n",
    "from scipy.linalg import svdvals"
   ]
  },
  {
   "cell_type": "code",
   "execution_count": 83,
   "metadata": {},
   "outputs": [],
   "source": [
    "def load_mnist(datadir='./data_cache'):\n",
    "    train_ds = ds.MNIST(root=datadir, train=True,\n",
    "                           download=True, transform=None)\n",
    "    test_ds = ds.MNIST(root=datadir, train=False,\n",
    "                          download=True, transform=None)\n",
    "\n",
    "    def to_xy(dataset):\n",
    "        X = np.array(dataset.data) / 255.0  # [0, 1]\n",
    "        Y = np.array(dataset.targets)\n",
    "        return X, Y\n",
    "\n",
    "    X_tr, Y_tr = to_xy(train_ds)\n",
    "    X_te, Y_te = to_xy(test_ds)\n",
    "    return X_tr, Y_tr, X_te, Y_te\n",
    "\n",
    "X_tr, Y_tr, X_te, Y_te = load_mnist()"
   ]
  },
  {
   "cell_type": "code",
   "execution_count": 84,
   "metadata": {},
   "outputs": [
    {
     "data": {
      "image/png": "[encoded data removed]",
      "text/plain": [
       "<Figure size 432x288 with 1 Axes>"
      ]
     },
     "metadata": {
      "needs_background": "light"
     },
     "output_type": "display_data"
    }
   ],
   "source": [
    "i = np.random.choice(len(X_tr))\n",
    "plt.imshow(X_tr[i], cmap='gray');\n",
    "plt.title(f'digit: {Y_tr[i]}');"
   ]
  },
  {
   "cell_type": "markdown",
   "metadata": {},
   "source": [
    "## Linear Regression"
   ]
  },
  {
   "cell_type": "code",
   "execution_count": 100,
   "metadata": {},
   "outputs": [
    {
     "name": "stdout",
     "output_type": "stream",
     "text": [
      "original X_tr: (60000, 28, 28)\n",
      "reshaped X: (500, 784)\n",
      "reshaped Y: (500,)\n"
     ]
    }
   ],
   "source": [
    "print('original X_tr:', X_tr.shape)\n",
    "\n",
    "# select 500 random examples\n",
    "n = 500\n",
    "I = np.random.choice(len(X_tr), n, replace=False)\n",
    "X = X_tr[I]\n",
    "Y = (Y_tr[I] % 2) * 2.0 - 1 # odd/even --> +1/-1\n",
    "X = X.reshape(-1,  28*28) # flatten\n",
    "\n",
    "print('reshaped X:', X.shape)\n",
    "print('reshaped Y:', Y.shape)"
   ]
  },
  {
   "cell_type": "code",
   "execution_count": 101,
   "metadata": {},
   "outputs": [
    {
     "data": {
      "text/plain": [
       "500"
      ]
     },
     "execution_count": 101,
     "metadata": {},
     "output_type": "execute_result"
    }
   ],
   "source": [
    "np.linalg.matrix_rank(X)"
   ]
  },
  {
   "cell_type": "code",
   "execution_count": 102,
   "metadata": {},
   "outputs": [
    {
     "data": {
      "text/plain": [
       "True"
      ]
     },
     "execution_count": 102,
     "metadata": {},
     "output_type": "execute_result"
    }
   ],
   "source": [
    "beta = np.matmul(np.linalg.pinv(X), Y)\n",
    "np.allclose(np.matmul(X, beta), Y)"
   ]
  },
  {
   "cell_type": "code",
   "execution_count": 103,
   "metadata": {},
   "outputs": [],
   "source": [
    "# Now finding how much error our linear regression weight beta has on the test set\n",
    "# First, set up test set:\n",
    "\n",
    "X_te_mod = X_te.reshape(-1, 28*28)\n",
    "Y_te_mod = (Y_te % 2) * 2.0 - 1"
   ]
  },
  {
   "cell_type": "code",
   "execution_count": 104,
   "metadata": {},
   "outputs": [
    {
     "data": {
      "text/plain": [
       "10.67009086229678"
      ]
     },
     "execution_count": 104,
     "metadata": {},
     "output_type": "execute_result"
    }
   ],
   "source": [
    "# Now, we compute MSE on this test set:\n",
    "def mse(beta, X, Y):\n",
    "    return np.mean(np.square(np.matmul(X, beta) - Y))\n",
    "\n",
    "mse(beta, X_te_mod, Y_te_mod)"
   ]
  },
  {
   "cell_type": "code",
   "execution_count": 105,
   "metadata": {},
   "outputs": [
    {
     "name": "stdout",
     "output_type": "stream",
     "text": [
      "20 Trials Average MSE: 15.219902966695926\n"
     ]
    }
   ],
   "source": [
    "mses = []\n",
    "for _ in range(20):\n",
    "    n = 500\n",
    "    I = np.random.choice(len(X_tr), n, replace=False)\n",
    "    X_temp = X_tr[I]\n",
    "    Y_temp = (Y_tr[I] % 2) * 2.0 - 1 # odd/even --> +1/-1\n",
    "    X_temp = X_temp.reshape(-1,  28*28) # flatten\n",
    "    \n",
    "    beta = np.matmul(np.linalg.pinv(X_temp), Y_temp)\n",
    "    mses.append(mse(beta, X_te_mod, Y_te_mod))\n",
    "\n",
    "print(f'20 Trials Average MSE: {np.mean(mses)}')"
   ]
  },
  {
   "cell_type": "code",
   "execution_count": 28,
   "metadata": {},
   "outputs": [
    {
     "data": {
      "text/plain": [
       "0.58"
      ]
     },
     "execution_count": 28,
     "metadata": {},
     "output_type": "execute_result"
    }
   ],
   "source": [
    "def accuracy(beta, X, Y):\n",
    "    return np.mean(1 - (np.abs(np.where(np.matmul(X, beta) > 0, 1, -1) - Y) / 2))\n",
    "\n",
    "accuracy(beta, X_te_mod, Y_te_mod)"
   ]
  },
  {
   "cell_type": "code",
   "execution_count": 72,
   "metadata": {},
   "outputs": [],
   "source": [
    "def gradient(beta, X, Y):\n",
    "    return 2 * np.matmul(X.T, np.matmul(X, beta) - Y)\n",
    "\n",
    "def stochastic_gradient(beta, X, Y, batch_size=1):\n",
    "    I = np.random.choice(len(X), batch_size, replace=False)\n",
    "    temp_X = X[I]\n",
    "    temp_Y = Y[I]\n",
    "    return gradient(beta, X, Y)"
   ]
  },
  {
   "cell_type": "code",
   "execution_count": 80,
   "metadata": {},
   "outputs": [],
   "source": [
    "def gd(X, Y, lr=0.00003, epochs=1000, epochs_per_print=20, low=-.1, high=.1, X_te=None, Y_te=None):\n",
    "    gen = np.random.default_rng()\n",
    "    beta = gen.uniform(low=low, high=high, size=784)\n",
    "    for i in range(epochs):\n",
    "        beta -= lr * gradient(beta, X, Y)\n",
    "        if i % epochs_per_print == 0 or (i % 100 == 0 and i <= 2000): \n",
    "            tr_loss = mse(beta, X, Y)\n",
    "            tr_acc = accuracy(beta, X, Y)\n",
    "            print(f'Epoch {i}', f\"Train Accuracy: {tr_acc:.3f}\", f'Training Loss: {tr_loss:.3f}', sep='\\t', end='')\n",
    "            if X_te is not None and Y_te is not None:\n",
    "                te_acc = accuracy(beta, X_te, Y_te)\n",
    "                print(f\"\\tTest Accuracy: {te_acc:.3f}\")\n",
    "            else:\n",
    "                print()\n",
    "    return beta\n",
    "\n",
    "def sgd(X, Y, lr=0.00003, epochs=1000, epochs_per_print=20, low=-.1, high=.1, X_te=None, Y_te=None, batch_size=1):\n",
    "    gen = np.random.default_rng()\n",
    "    beta = gen.uniform(low=low, high=high, size=784)\n",
    "    for i in range(epochs):\n",
    "        beta -= lr * stochastic_gradient(beta, X, Y, batch_size=batch_size)\n",
    "        if i % epochs_per_print == 0 or (i % 100 == 0 and i <= 2000): \n",
    "            tr_loss = mse(beta, X, Y)\n",
    "            tr_acc = accuracy(beta, X, Y)\n",
    "            print(f'Epoch {i}', f\"Train Accuracy: {tr_acc:.3f}\", f'Training Loss: {tr_loss:.3f}', sep='\\t', end='')\n",
    "            if X_te is not None and Y_te is not None:\n",
    "                te_acc = accuracy(beta, X_te, Y_te)\n",
    "                print(f\"\\tTest Accuracy: {te_acc:.3f}\")\n",
    "            else:\n",
    "                print()\n",
    "    return beta"
   ]
  },
  {
   "cell_type": "code",
   "execution_count": 74,
   "metadata": {},
   "outputs": [
    {
     "name": "stdout",
     "output_type": "stream",
     "text": [
      "Epoch 0\tTrain Accuracy: 0.608\tTraining Loss: 0.912\tTest Accuracy: 0.611\n",
      "Epoch 100\tTrain Accuracy: 0.894\tTraining Loss: 0.381\tTest Accuracy: 0.840\n",
      "Epoch 200\tTrain Accuracy: 0.918\tTraining Loss: 0.337\tTest Accuracy: 0.845\n",
      "Epoch 300\tTrain Accuracy: 0.932\tTraining Loss: 0.309\tTest Accuracy: 0.844\n",
      "Epoch 400\tTrain Accuracy: 0.940\tTraining Loss: 0.290\tTest Accuracy: 0.845\n",
      "Epoch 500\tTrain Accuracy: 0.946\tTraining Loss: 0.274\tTest Accuracy: 0.844\n",
      "Epoch 600\tTrain Accuracy: 0.944\tTraining Loss: 0.262\tTest Accuracy: 0.844\n",
      "Epoch 700\tTrain Accuracy: 0.948\tTraining Loss: 0.251\tTest Accuracy: 0.842\n",
      "Epoch 800\tTrain Accuracy: 0.950\tTraining Loss: 0.242\tTest Accuracy: 0.841\n",
      "Epoch 900\tTrain Accuracy: 0.956\tTraining Loss: 0.234\tTest Accuracy: 0.839\n",
      "Epoch 1000\tTrain Accuracy: 0.960\tTraining Loss: 0.227\tTest Accuracy: 0.838\n",
      "Epoch 1100\tTrain Accuracy: 0.962\tTraining Loss: 0.221\tTest Accuracy: 0.839\n",
      "Epoch 1200\tTrain Accuracy: 0.962\tTraining Loss: 0.215\tTest Accuracy: 0.839\n",
      "Epoch 1300\tTrain Accuracy: 0.964\tTraining Loss: 0.210\tTest Accuracy: 0.837\n",
      "Epoch 1400\tTrain Accuracy: 0.966\tTraining Loss: 0.205\tTest Accuracy: 0.836\n",
      "Epoch 1500\tTrain Accuracy: 0.972\tTraining Loss: 0.200\tTest Accuracy: 0.836\n",
      "Epoch 1600\tTrain Accuracy: 0.974\tTraining Loss: 0.196\tTest Accuracy: 0.835\n",
      "Epoch 1700\tTrain Accuracy: 0.974\tTraining Loss: 0.192\tTest Accuracy: 0.835\n",
      "Epoch 1800\tTrain Accuracy: 0.976\tTraining Loss: 0.188\tTest Accuracy: 0.833\n",
      "Epoch 1900\tTrain Accuracy: 0.976\tTraining Loss: 0.185\tTest Accuracy: 0.833\n",
      "Epoch 2000\tTrain Accuracy: 0.980\tTraining Loss: 0.181\tTest Accuracy: 0.832\n",
      "Epoch 5000\tTrain Accuracy: 0.986\tTraining Loss: 0.126\tTest Accuracy: 0.816\n",
      "Epoch 10000\tTrain Accuracy: 0.994\tTraining Loss: 0.094\tTest Accuracy: 0.800\n",
      "Epoch 15000\tTrain Accuracy: 0.998\tTraining Loss: 0.079\tTest Accuracy: 0.789\n",
      "Epoch 20000\tTrain Accuracy: 0.998\tTraining Loss: 0.071\tTest Accuracy: 0.781\n",
      "Epoch 25000\tTrain Accuracy: 1.000\tTraining Loss: 0.065\tTest Accuracy: 0.777\n",
      "Epoch 30000\tTrain Accuracy: 1.000\tTraining Loss: 0.060\tTest Accuracy: 0.771\n",
      "Epoch 35000\tTrain Accuracy: 1.000\tTraining Loss: 0.057\tTest Accuracy: 0.768\n",
      "Epoch 40000\tTrain Accuracy: 1.000\tTraining Loss: 0.054\tTest Accuracy: 0.765\n",
      "Epoch 45000\tTrain Accuracy: 1.000\tTraining Loss: 0.052\tTest Accuracy: 0.760\n",
      "Epoch 50000\tTrain Accuracy: 1.000\tTraining Loss: 0.049\tTest Accuracy: 0.756\n",
      "Epoch 55000\tTrain Accuracy: 1.000\tTraining Loss: 0.048\tTest Accuracy: 0.753\n",
      "Epoch 60000\tTrain Accuracy: 1.000\tTraining Loss: 0.046\tTest Accuracy: 0.750\n",
      "Epoch 65000\tTrain Accuracy: 1.000\tTraining Loss: 0.044\tTest Accuracy: 0.747\n",
      "Epoch 70000\tTrain Accuracy: 1.000\tTraining Loss: 0.043\tTest Accuracy: 0.744\n",
      "Epoch 75000\tTrain Accuracy: 1.000\tTraining Loss: 0.042\tTest Accuracy: 0.743\n",
      "Epoch 80000\tTrain Accuracy: 1.000\tTraining Loss: 0.041\tTest Accuracy: 0.739\n",
      "Epoch 85000\tTrain Accuracy: 1.000\tTraining Loss: 0.040\tTest Accuracy: 0.737\n",
      "Epoch 90000\tTrain Accuracy: 1.000\tTraining Loss: 0.039\tTest Accuracy: 0.735\n",
      "Epoch 95000\tTrain Accuracy: 1.000\tTraining Loss: 0.038\tTest Accuracy: 0.733\n"
     ]
    }
   ],
   "source": [
    "beta_gd = gd(X, Y, epochs=100000, epochs_per_print=5000, X_te = X_te_mod, Y_te = Y_te_mod)"
   ]
  },
  {
   "cell_type": "code",
   "execution_count": 81,
   "metadata": {},
   "outputs": [
    {
     "name": "stdout",
     "output_type": "stream",
     "text": [
      "Epoch 0\tTrain Accuracy: 0.538\tTraining Loss: 1.064\tTest Accuracy: 0.552\n",
      "Epoch 100\tTrain Accuracy: 0.892\tTraining Loss: 0.380\tTest Accuracy: 0.839\n",
      "Epoch 200\tTrain Accuracy: 0.908\tTraining Loss: 0.332\tTest Accuracy: 0.842\n",
      "Epoch 300\tTrain Accuracy: 0.918\tTraining Loss: 0.305\tTest Accuracy: 0.841\n",
      "Epoch 400\tTrain Accuracy: 0.934\tTraining Loss: 0.285\tTest Accuracy: 0.840\n",
      "Epoch 500\tTrain Accuracy: 0.944\tTraining Loss: 0.270\tTest Accuracy: 0.839\n",
      "Epoch 600\tTrain Accuracy: 0.950\tTraining Loss: 0.257\tTest Accuracy: 0.839\n",
      "Epoch 700\tTrain Accuracy: 0.954\tTraining Loss: 0.246\tTest Accuracy: 0.839\n",
      "Epoch 800\tTrain Accuracy: 0.960\tTraining Loss: 0.237\tTest Accuracy: 0.839\n",
      "Epoch 900\tTrain Accuracy: 0.962\tTraining Loss: 0.229\tTest Accuracy: 0.838\n",
      "Epoch 1000\tTrain Accuracy: 0.962\tTraining Loss: 0.222\tTest Accuracy: 0.837\n",
      "Epoch 1100\tTrain Accuracy: 0.962\tTraining Loss: 0.216\tTest Accuracy: 0.836\n",
      "Epoch 1200\tTrain Accuracy: 0.968\tTraining Loss: 0.210\tTest Accuracy: 0.836\n",
      "Epoch 1300\tTrain Accuracy: 0.970\tTraining Loss: 0.205\tTest Accuracy: 0.836\n",
      "Epoch 1400\tTrain Accuracy: 0.972\tTraining Loss: 0.200\tTest Accuracy: 0.835\n",
      "Epoch 1500\tTrain Accuracy: 0.974\tTraining Loss: 0.195\tTest Accuracy: 0.834\n",
      "Epoch 1600\tTrain Accuracy: 0.976\tTraining Loss: 0.191\tTest Accuracy: 0.833\n",
      "Epoch 1700\tTrain Accuracy: 0.976\tTraining Loss: 0.187\tTest Accuracy: 0.832\n",
      "Epoch 1800\tTrain Accuracy: 0.978\tTraining Loss: 0.183\tTest Accuracy: 0.831\n",
      "Epoch 1900\tTrain Accuracy: 0.978\tTraining Loss: 0.180\tTest Accuracy: 0.829\n",
      "Epoch 2000\tTrain Accuracy: 0.978\tTraining Loss: 0.177\tTest Accuracy: 0.827\n",
      "Epoch 5000\tTrain Accuracy: 0.990\tTraining Loss: 0.125\tTest Accuracy: 0.815\n",
      "Epoch 10000\tTrain Accuracy: 0.994\tTraining Loss: 0.094\tTest Accuracy: 0.800\n",
      "Epoch 15000\tTrain Accuracy: 0.998\tTraining Loss: 0.080\tTest Accuracy: 0.788\n",
      "Epoch 20000\tTrain Accuracy: 0.998\tTraining Loss: 0.071\tTest Accuracy: 0.782\n",
      "Epoch 25000\tTrain Accuracy: 1.000\tTraining Loss: 0.065\tTest Accuracy: 0.779\n",
      "Epoch 30000\tTrain Accuracy: 1.000\tTraining Loss: 0.061\tTest Accuracy: 0.771\n",
      "Epoch 35000\tTrain Accuracy: 1.000\tTraining Loss: 0.057\tTest Accuracy: 0.766\n",
      "Epoch 40000\tTrain Accuracy: 1.000\tTraining Loss: 0.054\tTest Accuracy: 0.763\n",
      "Epoch 45000\tTrain Accuracy: 1.000\tTraining Loss: 0.052\tTest Accuracy: 0.761\n"
     ]
    }
   ],
   "source": [
    "beta_sgd = sgd(X, Y, epochs=50000, epochs_per_print=5000, X_te = X_te_mod, Y_te = Y_te_mod, batch_size=1)"
   ]
  },
  {
   "cell_type": "code",
   "execution_count": 107,
   "metadata": {},
   "outputs": [],
   "source": [
    "_, s, _ = np.linalg.svd(X)"
   ]
  },
  {
   "cell_type": "code",
   "execution_count": 113,
   "metadata": {},
   "outputs": [
    {
     "name": "stdout",
     "output_type": "stream",
     "text": [
      "Condition Number of X: 7119.050088619612\n"
     ]
    }
   ],
   "source": [
    "print(f'Condition Number of X: {s.max() / s.min()}')"
   ]
  },
  {
   "cell_type": "code",
   "execution_count": 120,
   "metadata": {},
   "outputs": [
    {
     "data": {
      "text/plain": [
       "7119.050088619669"
      ]
     },
     "execution_count": 120,
     "metadata": {},
     "output_type": "execute_result"
    }
   ],
   "source": [
    "svds = svdvals(X)\n",
    "svds.max() / svds.min()"
   ]
  },
  {
   "cell_type": "code",
   "execution_count": null,
   "metadata": {},
   "outputs": [],
   "source": []
  },
  {
   "cell_type": "code",
   "execution_count": null,
   "metadata": {},
   "outputs": [],
   "source": []
  }
 ],
 "metadata": {
  "kernelspec": {
   "display_name": "Python 3",
   "language": "python",
   "name": "python3"
  },
  "language_info": {
   "codemirror_mode": {
    "name": "ipython",
    "version": 3
   },
   "file_extension": ".py",
   "mimetype": "text/x-python",
   "name": "python",
   "nbconvert_exporter": "python",
   "pygments_lexer": "ipython3",
   "version": "3.6.8"
  }
 },
 "nbformat": 4,
 "nbformat_minor": 5
}
